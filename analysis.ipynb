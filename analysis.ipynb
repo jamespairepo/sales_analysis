{
 "cells": [
  {
   "cell_type": "code",
   "execution_count": 1,
   "metadata": {},
   "outputs": [
    {
     "name": "stderr",
     "output_type": "stream",
     "text": [
      "C:\\Users\\beall\\AppData\\Local\\Temp\\ipykernel_14512\\3026406390.py:1: DeprecationWarning: \n",
      "Pyarrow will become a required dependency of pandas in the next major release of pandas (pandas 3.0),\n",
      "(to allow more performant data types, such as the Arrow string type, and better interoperability with other libraries)\n",
      "but was not found to be installed on your system.\n",
      "If this would cause problems for you,\n",
      "please provide us feedback at https://github.com/pandas-dev/pandas/issues/54466\n",
      "        \n",
      "  import pandas as pd\n"
     ]
    }
   ],
   "source": [
    "import pandas as pd\n",
    "import os"
   ]
  },
  {
   "cell_type": "code",
   "execution_count": 2,
   "metadata": {},
   "outputs": [
    {
     "data": {
      "text/html": [
       "<div>\n",
       "<style scoped>\n",
       "    .dataframe tbody tr th:only-of-type {\n",
       "        vertical-align: middle;\n",
       "    }\n",
       "\n",
       "    .dataframe tbody tr th {\n",
       "        vertical-align: top;\n",
       "    }\n",
       "\n",
       "    .dataframe thead th {\n",
       "        text-align: right;\n",
       "    }\n",
       "</style>\n",
       "<table border=\"1\" class=\"dataframe\">\n",
       "  <thead>\n",
       "    <tr style=\"text-align: right;\">\n",
       "      <th></th>\n",
       "      <th>Order ID</th>\n",
       "      <th>Product</th>\n",
       "      <th>Quantity Ordered</th>\n",
       "      <th>Price Each</th>\n",
       "      <th>Order Date</th>\n",
       "      <th>Purchase Address</th>\n",
       "    </tr>\n",
       "  </thead>\n",
       "  <tbody>\n",
       "    <tr>\n",
       "      <th>73891</th>\n",
       "      <td>147268</td>\n",
       "      <td>Wired Headphones</td>\n",
       "      <td>1</td>\n",
       "      <td>11.99</td>\n",
       "      <td>01/01/19 03:07</td>\n",
       "      <td>9 Lake St, New York City, NY 10001</td>\n",
       "    </tr>\n",
       "    <tr>\n",
       "      <th>74701</th>\n",
       "      <td>148041</td>\n",
       "      <td>USB-C Charging Cable</td>\n",
       "      <td>1</td>\n",
       "      <td>11.95</td>\n",
       "      <td>01/01/19 03:40</td>\n",
       "      <td>760 Church St, San Francisco, CA 94016</td>\n",
       "    </tr>\n",
       "    <tr>\n",
       "      <th>76054</th>\n",
       "      <td>149343</td>\n",
       "      <td>Apple Airpods Headphones</td>\n",
       "      <td>1</td>\n",
       "      <td>150</td>\n",
       "      <td>01/01/19 04:56</td>\n",
       "      <td>735 5th St, New York City, NY 10001</td>\n",
       "    </tr>\n",
       "    <tr>\n",
       "      <th>76708</th>\n",
       "      <td>149964</td>\n",
       "      <td>AAA Batteries (4-pack)</td>\n",
       "      <td>1</td>\n",
       "      <td>2.99</td>\n",
       "      <td>01/01/19 05:53</td>\n",
       "      <td>75 Jackson St, Dallas, TX 75001</td>\n",
       "    </tr>\n",
       "    <tr>\n",
       "      <th>76061</th>\n",
       "      <td>149350</td>\n",
       "      <td>USB-C Charging Cable</td>\n",
       "      <td>2</td>\n",
       "      <td>11.95</td>\n",
       "      <td>01/01/19 06:03</td>\n",
       "      <td>943 2nd St, Atlanta, GA 30301</td>\n",
       "    </tr>\n",
       "    <tr>\n",
       "      <th>...</th>\n",
       "      <td>...</td>\n",
       "      <td>...</td>\n",
       "      <td>...</td>\n",
       "      <td>...</td>\n",
       "      <td>...</td>\n",
       "      <td>...</td>\n",
       "    </tr>\n",
       "    <tr>\n",
       "      <th>185176</th>\n",
       "      <td>NaN</td>\n",
       "      <td>NaN</td>\n",
       "      <td>NaN</td>\n",
       "      <td>NaN</td>\n",
       "      <td>NaN</td>\n",
       "      <td>NaN</td>\n",
       "    </tr>\n",
       "    <tr>\n",
       "      <th>185438</th>\n",
       "      <td>NaN</td>\n",
       "      <td>NaN</td>\n",
       "      <td>NaN</td>\n",
       "      <td>NaN</td>\n",
       "      <td>NaN</td>\n",
       "      <td>NaN</td>\n",
       "    </tr>\n",
       "    <tr>\n",
       "      <th>186042</th>\n",
       "      <td>NaN</td>\n",
       "      <td>NaN</td>\n",
       "      <td>NaN</td>\n",
       "      <td>NaN</td>\n",
       "      <td>NaN</td>\n",
       "      <td>NaN</td>\n",
       "    </tr>\n",
       "    <tr>\n",
       "      <th>186548</th>\n",
       "      <td>NaN</td>\n",
       "      <td>NaN</td>\n",
       "      <td>NaN</td>\n",
       "      <td>NaN</td>\n",
       "      <td>NaN</td>\n",
       "      <td>NaN</td>\n",
       "    </tr>\n",
       "    <tr>\n",
       "      <th>186826</th>\n",
       "      <td>NaN</td>\n",
       "      <td>NaN</td>\n",
       "      <td>NaN</td>\n",
       "      <td>NaN</td>\n",
       "      <td>NaN</td>\n",
       "      <td>NaN</td>\n",
       "    </tr>\n",
       "  </tbody>\n",
       "</table>\n",
       "<p>186850 rows × 6 columns</p>\n",
       "</div>"
      ],
      "text/plain": [
       "       Order ID                   Product Quantity Ordered Price Each  \\\n",
       "73891    147268          Wired Headphones                1      11.99   \n",
       "74701    148041      USB-C Charging Cable                1      11.95   \n",
       "76054    149343  Apple Airpods Headphones                1        150   \n",
       "76708    149964    AAA Batteries (4-pack)                1       2.99   \n",
       "76061    149350      USB-C Charging Cable                2      11.95   \n",
       "...         ...                       ...              ...        ...   \n",
       "185176      NaN                       NaN              NaN        NaN   \n",
       "185438      NaN                       NaN              NaN        NaN   \n",
       "186042      NaN                       NaN              NaN        NaN   \n",
       "186548      NaN                       NaN              NaN        NaN   \n",
       "186826      NaN                       NaN              NaN        NaN   \n",
       "\n",
       "            Order Date                        Purchase Address  \n",
       "73891   01/01/19 03:07      9 Lake St, New York City, NY 10001  \n",
       "74701   01/01/19 03:40  760 Church St, San Francisco, CA 94016  \n",
       "76054   01/01/19 04:56     735 5th St, New York City, NY 10001  \n",
       "76708   01/01/19 05:53         75 Jackson St, Dallas, TX 75001  \n",
       "76061   01/01/19 06:03           943 2nd St, Atlanta, GA 30301  \n",
       "...                ...                                     ...  \n",
       "185176             NaN                                     NaN  \n",
       "185438             NaN                                     NaN  \n",
       "186042             NaN                                     NaN  \n",
       "186548             NaN                                     NaN  \n",
       "186826             NaN                                     NaN  \n",
       "\n",
       "[186850 rows x 6 columns]"
      ]
     },
     "execution_count": 2,
     "metadata": {},
     "output_type": "execute_result"
    }
   ],
   "source": [
    "# merge csv\n",
    "\n",
    "files = [file for file in os.listdir('./data')]\n",
    "\n",
    "all_monts_data = pd.DataFrame()\n",
    "\n",
    "for file in files:\n",
    "    df = pd.read_csv('./data/'+file)\n",
    "    all_monts_data = pd.concat([all_monts_data, df])\n",
    "\n",
    "all_monts_data.to_csv('all_data.csv', index=False)\n",
    "\n",
    "all_data = pd.read_csv('all_data.csv')\n",
    "\n",
    "all_data = all_data.sort_values('Order Date')\n",
    "\n",
    "all_data"
   ]
  },
  {
   "cell_type": "code",
   "execution_count": 3,
   "metadata": {},
   "outputs": [
    {
     "data": {
      "text/html": [
       "<div>\n",
       "<style scoped>\n",
       "    .dataframe tbody tr th:only-of-type {\n",
       "        vertical-align: middle;\n",
       "    }\n",
       "\n",
       "    .dataframe tbody tr th {\n",
       "        vertical-align: top;\n",
       "    }\n",
       "\n",
       "    .dataframe thead th {\n",
       "        text-align: right;\n",
       "    }\n",
       "</style>\n",
       "<table border=\"1\" class=\"dataframe\">\n",
       "  <thead>\n",
       "    <tr style=\"text-align: right;\">\n",
       "      <th></th>\n",
       "      <th>Order ID</th>\n",
       "      <th>Product</th>\n",
       "      <th>Quantity Ordered</th>\n",
       "      <th>Price Each</th>\n",
       "      <th>Order Date</th>\n",
       "      <th>Purchase Address</th>\n",
       "    </tr>\n",
       "  </thead>\n",
       "  <tbody>\n",
       "    <tr>\n",
       "      <th>1</th>\n",
       "      <td>NaN</td>\n",
       "      <td>NaN</td>\n",
       "      <td>NaN</td>\n",
       "      <td>NaN</td>\n",
       "      <td>NaN</td>\n",
       "      <td>NaN</td>\n",
       "    </tr>\n",
       "    <tr>\n",
       "      <th>356</th>\n",
       "      <td>NaN</td>\n",
       "      <td>NaN</td>\n",
       "      <td>NaN</td>\n",
       "      <td>NaN</td>\n",
       "      <td>NaN</td>\n",
       "      <td>NaN</td>\n",
       "    </tr>\n",
       "    <tr>\n",
       "      <th>735</th>\n",
       "      <td>NaN</td>\n",
       "      <td>NaN</td>\n",
       "      <td>NaN</td>\n",
       "      <td>NaN</td>\n",
       "      <td>NaN</td>\n",
       "      <td>NaN</td>\n",
       "    </tr>\n",
       "    <tr>\n",
       "      <th>1433</th>\n",
       "      <td>NaN</td>\n",
       "      <td>NaN</td>\n",
       "      <td>NaN</td>\n",
       "      <td>NaN</td>\n",
       "      <td>NaN</td>\n",
       "      <td>NaN</td>\n",
       "    </tr>\n",
       "    <tr>\n",
       "      <th>1553</th>\n",
       "      <td>NaN</td>\n",
       "      <td>NaN</td>\n",
       "      <td>NaN</td>\n",
       "      <td>NaN</td>\n",
       "      <td>NaN</td>\n",
       "      <td>NaN</td>\n",
       "    </tr>\n",
       "    <tr>\n",
       "      <th>...</th>\n",
       "      <td>...</td>\n",
       "      <td>...</td>\n",
       "      <td>...</td>\n",
       "      <td>...</td>\n",
       "      <td>...</td>\n",
       "      <td>...</td>\n",
       "    </tr>\n",
       "    <tr>\n",
       "      <th>185176</th>\n",
       "      <td>NaN</td>\n",
       "      <td>NaN</td>\n",
       "      <td>NaN</td>\n",
       "      <td>NaN</td>\n",
       "      <td>NaN</td>\n",
       "      <td>NaN</td>\n",
       "    </tr>\n",
       "    <tr>\n",
       "      <th>185438</th>\n",
       "      <td>NaN</td>\n",
       "      <td>NaN</td>\n",
       "      <td>NaN</td>\n",
       "      <td>NaN</td>\n",
       "      <td>NaN</td>\n",
       "      <td>NaN</td>\n",
       "    </tr>\n",
       "    <tr>\n",
       "      <th>186042</th>\n",
       "      <td>NaN</td>\n",
       "      <td>NaN</td>\n",
       "      <td>NaN</td>\n",
       "      <td>NaN</td>\n",
       "      <td>NaN</td>\n",
       "      <td>NaN</td>\n",
       "    </tr>\n",
       "    <tr>\n",
       "      <th>186548</th>\n",
       "      <td>NaN</td>\n",
       "      <td>NaN</td>\n",
       "      <td>NaN</td>\n",
       "      <td>NaN</td>\n",
       "      <td>NaN</td>\n",
       "      <td>NaN</td>\n",
       "    </tr>\n",
       "    <tr>\n",
       "      <th>186826</th>\n",
       "      <td>NaN</td>\n",
       "      <td>NaN</td>\n",
       "      <td>NaN</td>\n",
       "      <td>NaN</td>\n",
       "      <td>NaN</td>\n",
       "      <td>NaN</td>\n",
       "    </tr>\n",
       "  </tbody>\n",
       "</table>\n",
       "<p>545 rows × 6 columns</p>\n",
       "</div>"
      ],
      "text/plain": [
       "       Order ID Product Quantity Ordered Price Each Order Date  \\\n",
       "1           NaN     NaN              NaN        NaN        NaN   \n",
       "356         NaN     NaN              NaN        NaN        NaN   \n",
       "735         NaN     NaN              NaN        NaN        NaN   \n",
       "1433        NaN     NaN              NaN        NaN        NaN   \n",
       "1553        NaN     NaN              NaN        NaN        NaN   \n",
       "...         ...     ...              ...        ...        ...   \n",
       "185176      NaN     NaN              NaN        NaN        NaN   \n",
       "185438      NaN     NaN              NaN        NaN        NaN   \n",
       "186042      NaN     NaN              NaN        NaN        NaN   \n",
       "186548      NaN     NaN              NaN        NaN        NaN   \n",
       "186826      NaN     NaN              NaN        NaN        NaN   \n",
       "\n",
       "       Purchase Address  \n",
       "1                   NaN  \n",
       "356                 NaN  \n",
       "735                 NaN  \n",
       "1433                NaN  \n",
       "1553                NaN  \n",
       "...                 ...  \n",
       "185176              NaN  \n",
       "185438              NaN  \n",
       "186042              NaN  \n",
       "186548              NaN  \n",
       "186826              NaN  \n",
       "\n",
       "[545 rows x 6 columns]"
      ]
     },
     "execution_count": 3,
     "metadata": {},
     "output_type": "execute_result"
    }
   ],
   "source": [
    "# find NaN\n",
    "\n",
    "nan_df = all_data[all_data.isna().any(axis=1)]\n",
    "nan_df"
   ]
  },
  {
   "cell_type": "code",
   "execution_count": 4,
   "metadata": {},
   "outputs": [
    {
     "data": {
      "text/html": [
       "<div>\n",
       "<style scoped>\n",
       "    .dataframe tbody tr th:only-of-type {\n",
       "        vertical-align: middle;\n",
       "    }\n",
       "\n",
       "    .dataframe tbody tr th {\n",
       "        vertical-align: top;\n",
       "    }\n",
       "\n",
       "    .dataframe thead th {\n",
       "        text-align: right;\n",
       "    }\n",
       "</style>\n",
       "<table border=\"1\" class=\"dataframe\">\n",
       "  <thead>\n",
       "    <tr style=\"text-align: right;\">\n",
       "      <th></th>\n",
       "      <th>Order ID</th>\n",
       "      <th>Product</th>\n",
       "      <th>Quantity Ordered</th>\n",
       "      <th>Price Each</th>\n",
       "      <th>Order Date</th>\n",
       "      <th>Purchase Address</th>\n",
       "    </tr>\n",
       "  </thead>\n",
       "  <tbody>\n",
       "    <tr>\n",
       "      <th>73891</th>\n",
       "      <td>147268</td>\n",
       "      <td>Wired Headphones</td>\n",
       "      <td>1</td>\n",
       "      <td>11.99</td>\n",
       "      <td>01/01/19 03:07</td>\n",
       "      <td>9 Lake St, New York City, NY 10001</td>\n",
       "    </tr>\n",
       "    <tr>\n",
       "      <th>74701</th>\n",
       "      <td>148041</td>\n",
       "      <td>USB-C Charging Cable</td>\n",
       "      <td>1</td>\n",
       "      <td>11.95</td>\n",
       "      <td>01/01/19 03:40</td>\n",
       "      <td>760 Church St, San Francisco, CA 94016</td>\n",
       "    </tr>\n",
       "    <tr>\n",
       "      <th>76054</th>\n",
       "      <td>149343</td>\n",
       "      <td>Apple Airpods Headphones</td>\n",
       "      <td>1</td>\n",
       "      <td>150</td>\n",
       "      <td>01/01/19 04:56</td>\n",
       "      <td>735 5th St, New York City, NY 10001</td>\n",
       "    </tr>\n",
       "    <tr>\n",
       "      <th>76708</th>\n",
       "      <td>149964</td>\n",
       "      <td>AAA Batteries (4-pack)</td>\n",
       "      <td>1</td>\n",
       "      <td>2.99</td>\n",
       "      <td>01/01/19 05:53</td>\n",
       "      <td>75 Jackson St, Dallas, TX 75001</td>\n",
       "    </tr>\n",
       "    <tr>\n",
       "      <th>76061</th>\n",
       "      <td>149350</td>\n",
       "      <td>USB-C Charging Cable</td>\n",
       "      <td>2</td>\n",
       "      <td>11.95</td>\n",
       "      <td>01/01/19 06:03</td>\n",
       "      <td>943 2nd St, Atlanta, GA 30301</td>\n",
       "    </tr>\n",
       "    <tr>\n",
       "      <th>...</th>\n",
       "      <td>...</td>\n",
       "      <td>...</td>\n",
       "      <td>...</td>\n",
       "      <td>...</td>\n",
       "      <td>...</td>\n",
       "      <td>...</td>\n",
       "    </tr>\n",
       "    <tr>\n",
       "      <th>26140</th>\n",
       "      <td>Order ID</td>\n",
       "      <td>Product</td>\n",
       "      <td>Quantity Ordered</td>\n",
       "      <td>Price Each</td>\n",
       "      <td>Order Date</td>\n",
       "      <td>Purchase Address</td>\n",
       "    </tr>\n",
       "    <tr>\n",
       "      <th>94767</th>\n",
       "      <td>Order ID</td>\n",
       "      <td>Product</td>\n",
       "      <td>Quantity Ordered</td>\n",
       "      <td>Price Each</td>\n",
       "      <td>Order Date</td>\n",
       "      <td>Purchase Address</td>\n",
       "    </tr>\n",
       "    <tr>\n",
       "      <th>186563</th>\n",
       "      <td>Order ID</td>\n",
       "      <td>Product</td>\n",
       "      <td>Quantity Ordered</td>\n",
       "      <td>Price Each</td>\n",
       "      <td>Order Date</td>\n",
       "      <td>Purchase Address</td>\n",
       "    </tr>\n",
       "    <tr>\n",
       "      <th>91799</th>\n",
       "      <td>Order ID</td>\n",
       "      <td>Product</td>\n",
       "      <td>Quantity Ordered</td>\n",
       "      <td>Price Each</td>\n",
       "      <td>Order Date</td>\n",
       "      <td>Purchase Address</td>\n",
       "    </tr>\n",
       "    <tr>\n",
       "      <th>124955</th>\n",
       "      <td>Order ID</td>\n",
       "      <td>Product</td>\n",
       "      <td>Quantity Ordered</td>\n",
       "      <td>Price Each</td>\n",
       "      <td>Order Date</td>\n",
       "      <td>Purchase Address</td>\n",
       "    </tr>\n",
       "  </tbody>\n",
       "</table>\n",
       "<p>186305 rows × 6 columns</p>\n",
       "</div>"
      ],
      "text/plain": [
       "        Order ID                   Product  Quantity Ordered  Price Each  \\\n",
       "73891     147268          Wired Headphones                 1       11.99   \n",
       "74701     148041      USB-C Charging Cable                 1       11.95   \n",
       "76054     149343  Apple Airpods Headphones                 1         150   \n",
       "76708     149964    AAA Batteries (4-pack)                 1        2.99   \n",
       "76061     149350      USB-C Charging Cable                 2       11.95   \n",
       "...          ...                       ...               ...         ...   \n",
       "26140   Order ID                   Product  Quantity Ordered  Price Each   \n",
       "94767   Order ID                   Product  Quantity Ordered  Price Each   \n",
       "186563  Order ID                   Product  Quantity Ordered  Price Each   \n",
       "91799   Order ID                   Product  Quantity Ordered  Price Each   \n",
       "124955  Order ID                   Product  Quantity Ordered  Price Each   \n",
       "\n",
       "            Order Date                        Purchase Address  \n",
       "73891   01/01/19 03:07      9 Lake St, New York City, NY 10001  \n",
       "74701   01/01/19 03:40  760 Church St, San Francisco, CA 94016  \n",
       "76054   01/01/19 04:56     735 5th St, New York City, NY 10001  \n",
       "76708   01/01/19 05:53         75 Jackson St, Dallas, TX 75001  \n",
       "76061   01/01/19 06:03           943 2nd St, Atlanta, GA 30301  \n",
       "...                ...                                     ...  \n",
       "26140       Order Date                        Purchase Address  \n",
       "94767       Order Date                        Purchase Address  \n",
       "186563      Order Date                        Purchase Address  \n",
       "91799       Order Date                        Purchase Address  \n",
       "124955      Order Date                        Purchase Address  \n",
       "\n",
       "[186305 rows x 6 columns]"
      ]
     },
     "execution_count": 4,
     "metadata": {},
     "output_type": "execute_result"
    }
   ],
   "source": [
    "# drop 545 NaN\n",
    "\n",
    "all_data = all_data.dropna(how='all')\n",
    "\n",
    "all_data"
   ]
  },
  {
   "cell_type": "code",
   "execution_count": 5,
   "metadata": {},
   "outputs": [
    {
     "data": {
      "text/html": [
       "<div>\n",
       "<style scoped>\n",
       "    .dataframe tbody tr th:only-of-type {\n",
       "        vertical-align: middle;\n",
       "    }\n",
       "\n",
       "    .dataframe tbody tr th {\n",
       "        vertical-align: top;\n",
       "    }\n",
       "\n",
       "    .dataframe thead th {\n",
       "        text-align: right;\n",
       "    }\n",
       "</style>\n",
       "<table border=\"1\" class=\"dataframe\">\n",
       "  <thead>\n",
       "    <tr style=\"text-align: right;\">\n",
       "      <th></th>\n",
       "      <th>Order ID</th>\n",
       "      <th>Product</th>\n",
       "      <th>Quantity Ordered</th>\n",
       "      <th>Price Each</th>\n",
       "      <th>Order Date</th>\n",
       "      <th>Purchase Address</th>\n",
       "    </tr>\n",
       "  </thead>\n",
       "  <tbody>\n",
       "    <tr>\n",
       "      <th>73891</th>\n",
       "      <td>147268</td>\n",
       "      <td>Wired Headphones</td>\n",
       "      <td>1</td>\n",
       "      <td>11.99</td>\n",
       "      <td>01/01/19 03:07</td>\n",
       "      <td>9 Lake St, New York City, NY 10001</td>\n",
       "    </tr>\n",
       "    <tr>\n",
       "      <th>74701</th>\n",
       "      <td>148041</td>\n",
       "      <td>USB-C Charging Cable</td>\n",
       "      <td>1</td>\n",
       "      <td>11.95</td>\n",
       "      <td>01/01/19 03:40</td>\n",
       "      <td>760 Church St, San Francisco, CA 94016</td>\n",
       "    </tr>\n",
       "    <tr>\n",
       "      <th>76054</th>\n",
       "      <td>149343</td>\n",
       "      <td>Apple Airpods Headphones</td>\n",
       "      <td>1</td>\n",
       "      <td>150</td>\n",
       "      <td>01/01/19 04:56</td>\n",
       "      <td>735 5th St, New York City, NY 10001</td>\n",
       "    </tr>\n",
       "    <tr>\n",
       "      <th>76708</th>\n",
       "      <td>149964</td>\n",
       "      <td>AAA Batteries (4-pack)</td>\n",
       "      <td>1</td>\n",
       "      <td>2.99</td>\n",
       "      <td>01/01/19 05:53</td>\n",
       "      <td>75 Jackson St, Dallas, TX 75001</td>\n",
       "    </tr>\n",
       "    <tr>\n",
       "      <th>76061</th>\n",
       "      <td>149350</td>\n",
       "      <td>USB-C Charging Cable</td>\n",
       "      <td>2</td>\n",
       "      <td>11.95</td>\n",
       "      <td>01/01/19 06:03</td>\n",
       "      <td>943 2nd St, Atlanta, GA 30301</td>\n",
       "    </tr>\n",
       "    <tr>\n",
       "      <th>...</th>\n",
       "      <td>...</td>\n",
       "      <td>...</td>\n",
       "      <td>...</td>\n",
       "      <td>...</td>\n",
       "      <td>...</td>\n",
       "      <td>...</td>\n",
       "    </tr>\n",
       "    <tr>\n",
       "      <th>33264</th>\n",
       "      <td>298406</td>\n",
       "      <td>AAA Batteries (4-pack)</td>\n",
       "      <td>2</td>\n",
       "      <td>2.99</td>\n",
       "      <td>12/31/19 23:42</td>\n",
       "      <td>30 Elm St, San Francisco, CA 94016</td>\n",
       "    </tr>\n",
       "    <tr>\n",
       "      <th>32308</th>\n",
       "      <td>297481</td>\n",
       "      <td>AA Batteries (4-pack)</td>\n",
       "      <td>1</td>\n",
       "      <td>3.84</td>\n",
       "      <td>12/31/19 23:42</td>\n",
       "      <td>82 Hill St, Dallas, TX 75001</td>\n",
       "    </tr>\n",
       "    <tr>\n",
       "      <th>52781</th>\n",
       "      <td>317048</td>\n",
       "      <td>AAA Batteries (4-pack)</td>\n",
       "      <td>2</td>\n",
       "      <td>2.99</td>\n",
       "      <td>12/31/19 23:45</td>\n",
       "      <td>743 Adams St, San Francisco, CA 94016</td>\n",
       "    </tr>\n",
       "    <tr>\n",
       "      <th>45172</th>\n",
       "      <td>309773</td>\n",
       "      <td>AAA Batteries (4-pack)</td>\n",
       "      <td>1</td>\n",
       "      <td>2.99</td>\n",
       "      <td>12/31/19 23:52</td>\n",
       "      <td>60 Hickory St, Los Angeles, CA 90001</td>\n",
       "    </tr>\n",
       "    <tr>\n",
       "      <th>32511</th>\n",
       "      <td>297674</td>\n",
       "      <td>AAA Batteries (4-pack)</td>\n",
       "      <td>1</td>\n",
       "      <td>2.99</td>\n",
       "      <td>12/31/19 23:53</td>\n",
       "      <td>425 Lake St, Portland, OR 97035</td>\n",
       "    </tr>\n",
       "  </tbody>\n",
       "</table>\n",
       "<p>185950 rows × 6 columns</p>\n",
       "</div>"
      ],
      "text/plain": [
       "      Order ID                   Product Quantity Ordered Price Each  \\\n",
       "73891   147268          Wired Headphones                1      11.99   \n",
       "74701   148041      USB-C Charging Cable                1      11.95   \n",
       "76054   149343  Apple Airpods Headphones                1        150   \n",
       "76708   149964    AAA Batteries (4-pack)                1       2.99   \n",
       "76061   149350      USB-C Charging Cable                2      11.95   \n",
       "...        ...                       ...              ...        ...   \n",
       "33264   298406    AAA Batteries (4-pack)                2       2.99   \n",
       "32308   297481     AA Batteries (4-pack)                1       3.84   \n",
       "52781   317048    AAA Batteries (4-pack)                2       2.99   \n",
       "45172   309773    AAA Batteries (4-pack)                1       2.99   \n",
       "32511   297674    AAA Batteries (4-pack)                1       2.99   \n",
       "\n",
       "           Order Date                        Purchase Address  \n",
       "73891  01/01/19 03:07      9 Lake St, New York City, NY 10001  \n",
       "74701  01/01/19 03:40  760 Church St, San Francisco, CA 94016  \n",
       "76054  01/01/19 04:56     735 5th St, New York City, NY 10001  \n",
       "76708  01/01/19 05:53         75 Jackson St, Dallas, TX 75001  \n",
       "76061  01/01/19 06:03           943 2nd St, Atlanta, GA 30301  \n",
       "...               ...                                     ...  \n",
       "33264  12/31/19 23:42      30 Elm St, San Francisco, CA 94016  \n",
       "32308  12/31/19 23:42            82 Hill St, Dallas, TX 75001  \n",
       "52781  12/31/19 23:45   743 Adams St, San Francisco, CA 94016  \n",
       "45172  12/31/19 23:52    60 Hickory St, Los Angeles, CA 90001  \n",
       "32511  12/31/19 23:53         425 Lake St, Portland, OR 97035  \n",
       "\n",
       "[185950 rows x 6 columns]"
      ]
     },
     "execution_count": 5,
     "metadata": {},
     "output_type": "execute_result"
    }
   ],
   "source": [
    "# drop order date\n",
    "\n",
    "all_data = all_data[all_data['Order Date'] != 'Order Date']\n",
    "\n",
    "all_data"
   ]
  },
  {
   "cell_type": "code",
   "execution_count": 6,
   "metadata": {},
   "outputs": [
    {
     "name": "stderr",
     "output_type": "stream",
     "text": [
      "C:\\Users\\beall\\AppData\\Local\\Temp\\ipykernel_14512\\315583325.py:3: SettingWithCopyWarning: \n",
      "A value is trying to be set on a copy of a slice from a DataFrame.\n",
      "Try using .loc[row_indexer,col_indexer] = value instead\n",
      "\n",
      "See the caveats in the documentation: https://pandas.pydata.org/pandas-docs/stable/user_guide/indexing.html#returning-a-view-versus-a-copy\n",
      "  all_data['Month'] = all_data['Order Date'].str[:2]\n",
      "C:\\Users\\beall\\AppData\\Local\\Temp\\ipykernel_14512\\315583325.py:4: SettingWithCopyWarning: \n",
      "A value is trying to be set on a copy of a slice from a DataFrame.\n",
      "Try using .loc[row_indexer,col_indexer] = value instead\n",
      "\n",
      "See the caveats in the documentation: https://pandas.pydata.org/pandas-docs/stable/user_guide/indexing.html#returning-a-view-versus-a-copy\n",
      "  all_data['Month'] = all_data['Month'].astype('int')\n"
     ]
    },
    {
     "data": {
      "text/html": [
       "<div>\n",
       "<style scoped>\n",
       "    .dataframe tbody tr th:only-of-type {\n",
       "        vertical-align: middle;\n",
       "    }\n",
       "\n",
       "    .dataframe tbody tr th {\n",
       "        vertical-align: top;\n",
       "    }\n",
       "\n",
       "    .dataframe thead th {\n",
       "        text-align: right;\n",
       "    }\n",
       "</style>\n",
       "<table border=\"1\" class=\"dataframe\">\n",
       "  <thead>\n",
       "    <tr style=\"text-align: right;\">\n",
       "      <th></th>\n",
       "      <th>Order ID</th>\n",
       "      <th>Product</th>\n",
       "      <th>Quantity Ordered</th>\n",
       "      <th>Price Each</th>\n",
       "      <th>Order Date</th>\n",
       "      <th>Purchase Address</th>\n",
       "      <th>Month</th>\n",
       "    </tr>\n",
       "  </thead>\n",
       "  <tbody>\n",
       "    <tr>\n",
       "      <th>73891</th>\n",
       "      <td>147268</td>\n",
       "      <td>Wired Headphones</td>\n",
       "      <td>1</td>\n",
       "      <td>11.99</td>\n",
       "      <td>01/01/19 03:07</td>\n",
       "      <td>9 Lake St, New York City, NY 10001</td>\n",
       "      <td>1</td>\n",
       "    </tr>\n",
       "    <tr>\n",
       "      <th>74701</th>\n",
       "      <td>148041</td>\n",
       "      <td>USB-C Charging Cable</td>\n",
       "      <td>1</td>\n",
       "      <td>11.95</td>\n",
       "      <td>01/01/19 03:40</td>\n",
       "      <td>760 Church St, San Francisco, CA 94016</td>\n",
       "      <td>1</td>\n",
       "    </tr>\n",
       "    <tr>\n",
       "      <th>76054</th>\n",
       "      <td>149343</td>\n",
       "      <td>Apple Airpods Headphones</td>\n",
       "      <td>1</td>\n",
       "      <td>150</td>\n",
       "      <td>01/01/19 04:56</td>\n",
       "      <td>735 5th St, New York City, NY 10001</td>\n",
       "      <td>1</td>\n",
       "    </tr>\n",
       "    <tr>\n",
       "      <th>76708</th>\n",
       "      <td>149964</td>\n",
       "      <td>AAA Batteries (4-pack)</td>\n",
       "      <td>1</td>\n",
       "      <td>2.99</td>\n",
       "      <td>01/01/19 05:53</td>\n",
       "      <td>75 Jackson St, Dallas, TX 75001</td>\n",
       "      <td>1</td>\n",
       "    </tr>\n",
       "    <tr>\n",
       "      <th>76061</th>\n",
       "      <td>149350</td>\n",
       "      <td>USB-C Charging Cable</td>\n",
       "      <td>2</td>\n",
       "      <td>11.95</td>\n",
       "      <td>01/01/19 06:03</td>\n",
       "      <td>943 2nd St, Atlanta, GA 30301</td>\n",
       "      <td>1</td>\n",
       "    </tr>\n",
       "    <tr>\n",
       "      <th>...</th>\n",
       "      <td>...</td>\n",
       "      <td>...</td>\n",
       "      <td>...</td>\n",
       "      <td>...</td>\n",
       "      <td>...</td>\n",
       "      <td>...</td>\n",
       "      <td>...</td>\n",
       "    </tr>\n",
       "    <tr>\n",
       "      <th>33264</th>\n",
       "      <td>298406</td>\n",
       "      <td>AAA Batteries (4-pack)</td>\n",
       "      <td>2</td>\n",
       "      <td>2.99</td>\n",
       "      <td>12/31/19 23:42</td>\n",
       "      <td>30 Elm St, San Francisco, CA 94016</td>\n",
       "      <td>12</td>\n",
       "    </tr>\n",
       "    <tr>\n",
       "      <th>32308</th>\n",
       "      <td>297481</td>\n",
       "      <td>AA Batteries (4-pack)</td>\n",
       "      <td>1</td>\n",
       "      <td>3.84</td>\n",
       "      <td>12/31/19 23:42</td>\n",
       "      <td>82 Hill St, Dallas, TX 75001</td>\n",
       "      <td>12</td>\n",
       "    </tr>\n",
       "    <tr>\n",
       "      <th>52781</th>\n",
       "      <td>317048</td>\n",
       "      <td>AAA Batteries (4-pack)</td>\n",
       "      <td>2</td>\n",
       "      <td>2.99</td>\n",
       "      <td>12/31/19 23:45</td>\n",
       "      <td>743 Adams St, San Francisco, CA 94016</td>\n",
       "      <td>12</td>\n",
       "    </tr>\n",
       "    <tr>\n",
       "      <th>45172</th>\n",
       "      <td>309773</td>\n",
       "      <td>AAA Batteries (4-pack)</td>\n",
       "      <td>1</td>\n",
       "      <td>2.99</td>\n",
       "      <td>12/31/19 23:52</td>\n",
       "      <td>60 Hickory St, Los Angeles, CA 90001</td>\n",
       "      <td>12</td>\n",
       "    </tr>\n",
       "    <tr>\n",
       "      <th>32511</th>\n",
       "      <td>297674</td>\n",
       "      <td>AAA Batteries (4-pack)</td>\n",
       "      <td>1</td>\n",
       "      <td>2.99</td>\n",
       "      <td>12/31/19 23:53</td>\n",
       "      <td>425 Lake St, Portland, OR 97035</td>\n",
       "      <td>12</td>\n",
       "    </tr>\n",
       "  </tbody>\n",
       "</table>\n",
       "<p>185950 rows × 7 columns</p>\n",
       "</div>"
      ],
      "text/plain": [
       "      Order ID                   Product Quantity Ordered Price Each  \\\n",
       "73891   147268          Wired Headphones                1      11.99   \n",
       "74701   148041      USB-C Charging Cable                1      11.95   \n",
       "76054   149343  Apple Airpods Headphones                1        150   \n",
       "76708   149964    AAA Batteries (4-pack)                1       2.99   \n",
       "76061   149350      USB-C Charging Cable                2      11.95   \n",
       "...        ...                       ...              ...        ...   \n",
       "33264   298406    AAA Batteries (4-pack)                2       2.99   \n",
       "32308   297481     AA Batteries (4-pack)                1       3.84   \n",
       "52781   317048    AAA Batteries (4-pack)                2       2.99   \n",
       "45172   309773    AAA Batteries (4-pack)                1       2.99   \n",
       "32511   297674    AAA Batteries (4-pack)                1       2.99   \n",
       "\n",
       "           Order Date                        Purchase Address  Month  \n",
       "73891  01/01/19 03:07      9 Lake St, New York City, NY 10001      1  \n",
       "74701  01/01/19 03:40  760 Church St, San Francisco, CA 94016      1  \n",
       "76054  01/01/19 04:56     735 5th St, New York City, NY 10001      1  \n",
       "76708  01/01/19 05:53         75 Jackson St, Dallas, TX 75001      1  \n",
       "76061  01/01/19 06:03           943 2nd St, Atlanta, GA 30301      1  \n",
       "...               ...                                     ...    ...  \n",
       "33264  12/31/19 23:42      30 Elm St, San Francisco, CA 94016     12  \n",
       "32308  12/31/19 23:42            82 Hill St, Dallas, TX 75001     12  \n",
       "52781  12/31/19 23:45   743 Adams St, San Francisco, CA 94016     12  \n",
       "45172  12/31/19 23:52    60 Hickory St, Los Angeles, CA 90001     12  \n",
       "32511  12/31/19 23:53         425 Lake St, Portland, OR 97035     12  \n",
       "\n",
       "[185950 rows x 7 columns]"
      ]
     },
     "execution_count": 6,
     "metadata": {},
     "output_type": "execute_result"
    }
   ],
   "source": [
    "# add month column\n",
    "\n",
    "all_data['Month'] = all_data['Order Date'].str[:2]\n",
    "all_data['Month'] = all_data['Month'].astype('int')\n",
    "\n",
    "all_data"
   ]
  },
  {
   "cell_type": "code",
   "execution_count": 7,
   "metadata": {},
   "outputs": [
    {
     "name": "stderr",
     "output_type": "stream",
     "text": [
      "C:\\Users\\beall\\AppData\\Local\\Temp\\ipykernel_14512\\2608959745.py:3: SettingWithCopyWarning: \n",
      "A value is trying to be set on a copy of a slice from a DataFrame.\n",
      "Try using .loc[row_indexer,col_indexer] = value instead\n",
      "\n",
      "See the caveats in the documentation: https://pandas.pydata.org/pandas-docs/stable/user_guide/indexing.html#returning-a-view-versus-a-copy\n",
      "  all_data['Quantity Ordered'] = pd.to_numeric(all_data['Quantity Ordered'])\n",
      "C:\\Users\\beall\\AppData\\Local\\Temp\\ipykernel_14512\\2608959745.py:4: SettingWithCopyWarning: \n",
      "A value is trying to be set on a copy of a slice from a DataFrame.\n",
      "Try using .loc[row_indexer,col_indexer] = value instead\n",
      "\n",
      "See the caveats in the documentation: https://pandas.pydata.org/pandas-docs/stable/user_guide/indexing.html#returning-a-view-versus-a-copy\n",
      "  all_data['Price Each'] = pd.to_numeric(all_data['Price Each'])\n",
      "C:\\Users\\beall\\AppData\\Local\\Temp\\ipykernel_14512\\2608959745.py:6: SettingWithCopyWarning: \n",
      "A value is trying to be set on a copy of a slice from a DataFrame.\n",
      "Try using .loc[row_indexer,col_indexer] = value instead\n",
      "\n",
      "See the caveats in the documentation: https://pandas.pydata.org/pandas-docs/stable/user_guide/indexing.html#returning-a-view-versus-a-copy\n",
      "  all_data['Total'] = all_data['Price Each'] * all_data['Quantity Ordered']\n"
     ]
    },
    {
     "data": {
      "text/html": [
       "<div>\n",
       "<style scoped>\n",
       "    .dataframe tbody tr th:only-of-type {\n",
       "        vertical-align: middle;\n",
       "    }\n",
       "\n",
       "    .dataframe tbody tr th {\n",
       "        vertical-align: top;\n",
       "    }\n",
       "\n",
       "    .dataframe thead th {\n",
       "        text-align: right;\n",
       "    }\n",
       "</style>\n",
       "<table border=\"1\" class=\"dataframe\">\n",
       "  <thead>\n",
       "    <tr style=\"text-align: right;\">\n",
       "      <th></th>\n",
       "      <th>Order ID</th>\n",
       "      <th>Product</th>\n",
       "      <th>Quantity Ordered</th>\n",
       "      <th>Price Each</th>\n",
       "      <th>Order Date</th>\n",
       "      <th>Purchase Address</th>\n",
       "      <th>Month</th>\n",
       "      <th>Total</th>\n",
       "    </tr>\n",
       "  </thead>\n",
       "  <tbody>\n",
       "    <tr>\n",
       "      <th>73891</th>\n",
       "      <td>147268</td>\n",
       "      <td>Wired Headphones</td>\n",
       "      <td>1</td>\n",
       "      <td>11.99</td>\n",
       "      <td>01/01/19 03:07</td>\n",
       "      <td>9 Lake St, New York City, NY 10001</td>\n",
       "      <td>1</td>\n",
       "      <td>11.99</td>\n",
       "    </tr>\n",
       "    <tr>\n",
       "      <th>74701</th>\n",
       "      <td>148041</td>\n",
       "      <td>USB-C Charging Cable</td>\n",
       "      <td>1</td>\n",
       "      <td>11.95</td>\n",
       "      <td>01/01/19 03:40</td>\n",
       "      <td>760 Church St, San Francisco, CA 94016</td>\n",
       "      <td>1</td>\n",
       "      <td>11.95</td>\n",
       "    </tr>\n",
       "    <tr>\n",
       "      <th>76054</th>\n",
       "      <td>149343</td>\n",
       "      <td>Apple Airpods Headphones</td>\n",
       "      <td>1</td>\n",
       "      <td>150.00</td>\n",
       "      <td>01/01/19 04:56</td>\n",
       "      <td>735 5th St, New York City, NY 10001</td>\n",
       "      <td>1</td>\n",
       "      <td>150.00</td>\n",
       "    </tr>\n",
       "    <tr>\n",
       "      <th>76708</th>\n",
       "      <td>149964</td>\n",
       "      <td>AAA Batteries (4-pack)</td>\n",
       "      <td>1</td>\n",
       "      <td>2.99</td>\n",
       "      <td>01/01/19 05:53</td>\n",
       "      <td>75 Jackson St, Dallas, TX 75001</td>\n",
       "      <td>1</td>\n",
       "      <td>2.99</td>\n",
       "    </tr>\n",
       "    <tr>\n",
       "      <th>76061</th>\n",
       "      <td>149350</td>\n",
       "      <td>USB-C Charging Cable</td>\n",
       "      <td>2</td>\n",
       "      <td>11.95</td>\n",
       "      <td>01/01/19 06:03</td>\n",
       "      <td>943 2nd St, Atlanta, GA 30301</td>\n",
       "      <td>1</td>\n",
       "      <td>23.90</td>\n",
       "    </tr>\n",
       "    <tr>\n",
       "      <th>...</th>\n",
       "      <td>...</td>\n",
       "      <td>...</td>\n",
       "      <td>...</td>\n",
       "      <td>...</td>\n",
       "      <td>...</td>\n",
       "      <td>...</td>\n",
       "      <td>...</td>\n",
       "      <td>...</td>\n",
       "    </tr>\n",
       "    <tr>\n",
       "      <th>33264</th>\n",
       "      <td>298406</td>\n",
       "      <td>AAA Batteries (4-pack)</td>\n",
       "      <td>2</td>\n",
       "      <td>2.99</td>\n",
       "      <td>12/31/19 23:42</td>\n",
       "      <td>30 Elm St, San Francisco, CA 94016</td>\n",
       "      <td>12</td>\n",
       "      <td>5.98</td>\n",
       "    </tr>\n",
       "    <tr>\n",
       "      <th>32308</th>\n",
       "      <td>297481</td>\n",
       "      <td>AA Batteries (4-pack)</td>\n",
       "      <td>1</td>\n",
       "      <td>3.84</td>\n",
       "      <td>12/31/19 23:42</td>\n",
       "      <td>82 Hill St, Dallas, TX 75001</td>\n",
       "      <td>12</td>\n",
       "      <td>3.84</td>\n",
       "    </tr>\n",
       "    <tr>\n",
       "      <th>52781</th>\n",
       "      <td>317048</td>\n",
       "      <td>AAA Batteries (4-pack)</td>\n",
       "      <td>2</td>\n",
       "      <td>2.99</td>\n",
       "      <td>12/31/19 23:45</td>\n",
       "      <td>743 Adams St, San Francisco, CA 94016</td>\n",
       "      <td>12</td>\n",
       "      <td>5.98</td>\n",
       "    </tr>\n",
       "    <tr>\n",
       "      <th>45172</th>\n",
       "      <td>309773</td>\n",
       "      <td>AAA Batteries (4-pack)</td>\n",
       "      <td>1</td>\n",
       "      <td>2.99</td>\n",
       "      <td>12/31/19 23:52</td>\n",
       "      <td>60 Hickory St, Los Angeles, CA 90001</td>\n",
       "      <td>12</td>\n",
       "      <td>2.99</td>\n",
       "    </tr>\n",
       "    <tr>\n",
       "      <th>32511</th>\n",
       "      <td>297674</td>\n",
       "      <td>AAA Batteries (4-pack)</td>\n",
       "      <td>1</td>\n",
       "      <td>2.99</td>\n",
       "      <td>12/31/19 23:53</td>\n",
       "      <td>425 Lake St, Portland, OR 97035</td>\n",
       "      <td>12</td>\n",
       "      <td>2.99</td>\n",
       "    </tr>\n",
       "  </tbody>\n",
       "</table>\n",
       "<p>185950 rows × 8 columns</p>\n",
       "</div>"
      ],
      "text/plain": [
       "      Order ID                   Product  Quantity Ordered  Price Each  \\\n",
       "73891   147268          Wired Headphones                 1       11.99   \n",
       "74701   148041      USB-C Charging Cable                 1       11.95   \n",
       "76054   149343  Apple Airpods Headphones                 1      150.00   \n",
       "76708   149964    AAA Batteries (4-pack)                 1        2.99   \n",
       "76061   149350      USB-C Charging Cable                 2       11.95   \n",
       "...        ...                       ...               ...         ...   \n",
       "33264   298406    AAA Batteries (4-pack)                 2        2.99   \n",
       "32308   297481     AA Batteries (4-pack)                 1        3.84   \n",
       "52781   317048    AAA Batteries (4-pack)                 2        2.99   \n",
       "45172   309773    AAA Batteries (4-pack)                 1        2.99   \n",
       "32511   297674    AAA Batteries (4-pack)                 1        2.99   \n",
       "\n",
       "           Order Date                        Purchase Address  Month   Total  \n",
       "73891  01/01/19 03:07      9 Lake St, New York City, NY 10001      1   11.99  \n",
       "74701  01/01/19 03:40  760 Church St, San Francisco, CA 94016      1   11.95  \n",
       "76054  01/01/19 04:56     735 5th St, New York City, NY 10001      1  150.00  \n",
       "76708  01/01/19 05:53         75 Jackson St, Dallas, TX 75001      1    2.99  \n",
       "76061  01/01/19 06:03           943 2nd St, Atlanta, GA 30301      1   23.90  \n",
       "...               ...                                     ...    ...     ...  \n",
       "33264  12/31/19 23:42      30 Elm St, San Francisco, CA 94016     12    5.98  \n",
       "32308  12/31/19 23:42            82 Hill St, Dallas, TX 75001     12    3.84  \n",
       "52781  12/31/19 23:45   743 Adams St, San Francisco, CA 94016     12    5.98  \n",
       "45172  12/31/19 23:52    60 Hickory St, Los Angeles, CA 90001     12    2.99  \n",
       "32511  12/31/19 23:53         425 Lake St, Portland, OR 97035     12    2.99  \n",
       "\n",
       "[185950 rows x 8 columns]"
      ]
     },
     "execution_count": 7,
     "metadata": {},
     "output_type": "execute_result"
    }
   ],
   "source": [
    "# add total sales\n",
    "\n",
    "all_data['Quantity Ordered'] = pd.to_numeric(all_data['Quantity Ordered'])\n",
    "all_data['Price Each'] = pd.to_numeric(all_data['Price Each'])\n",
    "\n",
    "all_data['Total'] = all_data['Price Each'] * all_data['Quantity Ordered']\n",
    "\n",
    "all_data"
   ]
  },
  {
   "cell_type": "code",
   "execution_count": 8,
   "metadata": {},
   "outputs": [],
   "source": [
    "total_sales = all_data.groupby('Month').sum()"
   ]
  },
  {
   "cell_type": "code",
   "execution_count": 9,
   "metadata": {},
   "outputs": [
    {
     "data": {
      "image/png": "[encoded data removed]",
      "text/plain": [
       "<Figure size 640x480 with 1 Axes>"
      ]
     },
     "metadata": {},
     "output_type": "display_data"
    }
   ],
   "source": [
    "import matplotlib.pyplot as plt\n",
    "\n",
    "months = range(1,13)\n",
    "\n",
    "plt.bar(months, total_sales['Total'])\n",
    "plt.xticks(months)\n",
    "plt.ylabel('Sales')\n",
    "plt.xlabel('Month Num')\n",
    "plt.show()"
   ]
  },
  {
   "cell_type": "code",
   "execution_count": 10,
   "metadata": {},
   "outputs": [
    {
     "name": "stderr",
     "output_type": "stream",
     "text": [
      "C:\\Users\\beall\\AppData\\Local\\Temp\\ipykernel_14512\\2279875109.py:9: SettingWithCopyWarning: \n",
      "A value is trying to be set on a copy of a slice from a DataFrame.\n",
      "Try using .loc[row_indexer,col_indexer] = value instead\n",
      "\n",
      "See the caveats in the documentation: https://pandas.pydata.org/pandas-docs/stable/user_guide/indexing.html#returning-a-view-versus-a-copy\n",
      "  all_data['City'] = all_data['Purchase Address'].apply(lambda x: get_city(x) + ', ' + get_state(x))\n"
     ]
    },
    {
     "data": {
      "text/html": [
       "<div>\n",
       "<style scoped>\n",
       "    .dataframe tbody tr th:only-of-type {\n",
       "        vertical-align: middle;\n",
       "    }\n",
       "\n",
       "    .dataframe tbody tr th {\n",
       "        vertical-align: top;\n",
       "    }\n",
       "\n",
       "    .dataframe thead th {\n",
       "        text-align: right;\n",
       "    }\n",
       "</style>\n",
       "<table border=\"1\" class=\"dataframe\">\n",
       "  <thead>\n",
       "    <tr style=\"text-align: right;\">\n",
       "      <th></th>\n",
       "      <th>Order ID</th>\n",
       "      <th>Product</th>\n",
       "      <th>Quantity Ordered</th>\n",
       "      <th>Price Each</th>\n",
       "      <th>Order Date</th>\n",
       "      <th>Purchase Address</th>\n",
       "      <th>Month</th>\n",
       "      <th>Total</th>\n",
       "      <th>City</th>\n",
       "    </tr>\n",
       "  </thead>\n",
       "  <tbody>\n",
       "    <tr>\n",
       "      <th>73891</th>\n",
       "      <td>147268</td>\n",
       "      <td>Wired Headphones</td>\n",
       "      <td>1</td>\n",
       "      <td>11.99</td>\n",
       "      <td>01/01/19 03:07</td>\n",
       "      <td>9 Lake St, New York City, NY 10001</td>\n",
       "      <td>1</td>\n",
       "      <td>11.99</td>\n",
       "      <td>New York City, NY</td>\n",
       "    </tr>\n",
       "    <tr>\n",
       "      <th>74701</th>\n",
       "      <td>148041</td>\n",
       "      <td>USB-C Charging Cable</td>\n",
       "      <td>1</td>\n",
       "      <td>11.95</td>\n",
       "      <td>01/01/19 03:40</td>\n",
       "      <td>760 Church St, San Francisco, CA 94016</td>\n",
       "      <td>1</td>\n",
       "      <td>11.95</td>\n",
       "      <td>San Francisco, CA</td>\n",
       "    </tr>\n",
       "    <tr>\n",
       "      <th>76054</th>\n",
       "      <td>149343</td>\n",
       "      <td>Apple Airpods Headphones</td>\n",
       "      <td>1</td>\n",
       "      <td>150.00</td>\n",
       "      <td>01/01/19 04:56</td>\n",
       "      <td>735 5th St, New York City, NY 10001</td>\n",
       "      <td>1</td>\n",
       "      <td>150.00</td>\n",
       "      <td>New York City, NY</td>\n",
       "    </tr>\n",
       "    <tr>\n",
       "      <th>76708</th>\n",
       "      <td>149964</td>\n",
       "      <td>AAA Batteries (4-pack)</td>\n",
       "      <td>1</td>\n",
       "      <td>2.99</td>\n",
       "      <td>01/01/19 05:53</td>\n",
       "      <td>75 Jackson St, Dallas, TX 75001</td>\n",
       "      <td>1</td>\n",
       "      <td>2.99</td>\n",
       "      <td>Dallas, TX</td>\n",
       "    </tr>\n",
       "    <tr>\n",
       "      <th>76061</th>\n",
       "      <td>149350</td>\n",
       "      <td>USB-C Charging Cable</td>\n",
       "      <td>2</td>\n",
       "      <td>11.95</td>\n",
       "      <td>01/01/19 06:03</td>\n",
       "      <td>943 2nd St, Atlanta, GA 30301</td>\n",
       "      <td>1</td>\n",
       "      <td>23.90</td>\n",
       "      <td>Atlanta, GA</td>\n",
       "    </tr>\n",
       "    <tr>\n",
       "      <th>...</th>\n",
       "      <td>...</td>\n",
       "      <td>...</td>\n",
       "      <td>...</td>\n",
       "      <td>...</td>\n",
       "      <td>...</td>\n",
       "      <td>...</td>\n",
       "      <td>...</td>\n",
       "      <td>...</td>\n",
       "      <td>...</td>\n",
       "    </tr>\n",
       "    <tr>\n",
       "      <th>33264</th>\n",
       "      <td>298406</td>\n",
       "      <td>AAA Batteries (4-pack)</td>\n",
       "      <td>2</td>\n",
       "      <td>2.99</td>\n",
       "      <td>12/31/19 23:42</td>\n",
       "      <td>30 Elm St, San Francisco, CA 94016</td>\n",
       "      <td>12</td>\n",
       "      <td>5.98</td>\n",
       "      <td>San Francisco, CA</td>\n",
       "    </tr>\n",
       "    <tr>\n",
       "      <th>32308</th>\n",
       "      <td>297481</td>\n",
       "      <td>AA Batteries (4-pack)</td>\n",
       "      <td>1</td>\n",
       "      <td>3.84</td>\n",
       "      <td>12/31/19 23:42</td>\n",
       "      <td>82 Hill St, Dallas, TX 75001</td>\n",
       "      <td>12</td>\n",
       "      <td>3.84</td>\n",
       "      <td>Dallas, TX</td>\n",
       "    </tr>\n",
       "    <tr>\n",
       "      <th>52781</th>\n",
       "      <td>317048</td>\n",
       "      <td>AAA Batteries (4-pack)</td>\n",
       "      <td>2</td>\n",
       "      <td>2.99</td>\n",
       "      <td>12/31/19 23:45</td>\n",
       "      <td>743 Adams St, San Francisco, CA 94016</td>\n",
       "      <td>12</td>\n",
       "      <td>5.98</td>\n",
       "      <td>San Francisco, CA</td>\n",
       "    </tr>\n",
       "    <tr>\n",
       "      <th>45172</th>\n",
       "      <td>309773</td>\n",
       "      <td>AAA Batteries (4-pack)</td>\n",
       "      <td>1</td>\n",
       "      <td>2.99</td>\n",
       "      <td>12/31/19 23:52</td>\n",
       "      <td>60 Hickory St, Los Angeles, CA 90001</td>\n",
       "      <td>12</td>\n",
       "      <td>2.99</td>\n",
       "      <td>Los Angeles, CA</td>\n",
       "    </tr>\n",
       "    <tr>\n",
       "      <th>32511</th>\n",
       "      <td>297674</td>\n",
       "      <td>AAA Batteries (4-pack)</td>\n",
       "      <td>1</td>\n",
       "      <td>2.99</td>\n",
       "      <td>12/31/19 23:53</td>\n",
       "      <td>425 Lake St, Portland, OR 97035</td>\n",
       "      <td>12</td>\n",
       "      <td>2.99</td>\n",
       "      <td>Portland, OR</td>\n",
       "    </tr>\n",
       "  </tbody>\n",
       "</table>\n",
       "<p>185950 rows × 9 columns</p>\n",
       "</div>"
      ],
      "text/plain": [
       "      Order ID                   Product  Quantity Ordered  Price Each  \\\n",
       "73891   147268          Wired Headphones                 1       11.99   \n",
       "74701   148041      USB-C Charging Cable                 1       11.95   \n",
       "76054   149343  Apple Airpods Headphones                 1      150.00   \n",
       "76708   149964    AAA Batteries (4-pack)                 1        2.99   \n",
       "76061   149350      USB-C Charging Cable                 2       11.95   \n",
       "...        ...                       ...               ...         ...   \n",
       "33264   298406    AAA Batteries (4-pack)                 2        2.99   \n",
       "32308   297481     AA Batteries (4-pack)                 1        3.84   \n",
       "52781   317048    AAA Batteries (4-pack)                 2        2.99   \n",
       "45172   309773    AAA Batteries (4-pack)                 1        2.99   \n",
       "32511   297674    AAA Batteries (4-pack)                 1        2.99   \n",
       "\n",
       "           Order Date                        Purchase Address  Month   Total  \\\n",
       "73891  01/01/19 03:07      9 Lake St, New York City, NY 10001      1   11.99   \n",
       "74701  01/01/19 03:40  760 Church St, San Francisco, CA 94016      1   11.95   \n",
       "76054  01/01/19 04:56     735 5th St, New York City, NY 10001      1  150.00   \n",
       "76708  01/01/19 05:53         75 Jackson St, Dallas, TX 75001      1    2.99   \n",
       "76061  01/01/19 06:03           943 2nd St, Atlanta, GA 30301      1   23.90   \n",
       "...               ...                                     ...    ...     ...   \n",
       "33264  12/31/19 23:42      30 Elm St, San Francisco, CA 94016     12    5.98   \n",
       "32308  12/31/19 23:42            82 Hill St, Dallas, TX 75001     12    3.84   \n",
       "52781  12/31/19 23:45   743 Adams St, San Francisco, CA 94016     12    5.98   \n",
       "45172  12/31/19 23:52    60 Hickory St, Los Angeles, CA 90001     12    2.99   \n",
       "32511  12/31/19 23:53         425 Lake St, Portland, OR 97035     12    2.99   \n",
       "\n",
       "                     City  \n",
       "73891   New York City, NY  \n",
       "74701   San Francisco, CA  \n",
       "76054   New York City, NY  \n",
       "76708          Dallas, TX  \n",
       "76061         Atlanta, GA  \n",
       "...                   ...  \n",
       "33264   San Francisco, CA  \n",
       "32308          Dallas, TX  \n",
       "52781   San Francisco, CA  \n",
       "45172     Los Angeles, CA  \n",
       "32511        Portland, OR  \n",
       "\n",
       "[185950 rows x 9 columns]"
      ]
     },
     "execution_count": 10,
     "metadata": {},
     "output_type": "execute_result"
    }
   ],
   "source": [
    "# add cities\n",
    "\n",
    "def get_city(address):\n",
    "    return address.split(',')[1]\n",
    "\n",
    "def get_state(address):\n",
    "    return address.split(',')[2][1:3]\n",
    "\n",
    "all_data['City'] = all_data['Purchase Address'].apply(lambda x: get_city(x) + ', ' + get_state(x))\n",
    "\n",
    "all_data"
   ]
  },
  {
   "cell_type": "code",
   "execution_count": 11,
   "metadata": {},
   "outputs": [
    {
     "data": {
      "text/html": [
       "<div>\n",
       "<style scoped>\n",
       "    .dataframe tbody tr th:only-of-type {\n",
       "        vertical-align: middle;\n",
       "    }\n",
       "\n",
       "    .dataframe tbody tr th {\n",
       "        vertical-align: top;\n",
       "    }\n",
       "\n",
       "    .dataframe thead th {\n",
       "        text-align: right;\n",
       "    }\n",
       "</style>\n",
       "<table border=\"1\" class=\"dataframe\">\n",
       "  <thead>\n",
       "    <tr style=\"text-align: right;\">\n",
       "      <th></th>\n",
       "      <th>Order ID</th>\n",
       "      <th>Product</th>\n",
       "      <th>Quantity Ordered</th>\n",
       "      <th>Price Each</th>\n",
       "      <th>Order Date</th>\n",
       "      <th>Purchase Address</th>\n",
       "      <th>Month</th>\n",
       "      <th>Total</th>\n",
       "    </tr>\n",
       "    <tr>\n",
       "      <th>City</th>\n",
       "      <th></th>\n",
       "      <th></th>\n",
       "      <th></th>\n",
       "      <th></th>\n",
       "      <th></th>\n",
       "      <th></th>\n",
       "      <th></th>\n",
       "      <th></th>\n",
       "    </tr>\n",
       "  </thead>\n",
       "  <tbody>\n",
       "    <tr>\n",
       "      <th>Atlanta, GA</th>\n",
       "      <td>1493501417321437631499261493781477581416131437...</td>\n",
       "      <td>USB-C Charging CableiPhoneApple Airpods Headph...</td>\n",
       "      <td>16602</td>\n",
       "      <td>2779908.20</td>\n",
       "      <td>01/01/19 06:0301/01/19 06:1301/01/19 08:4401/0...</td>\n",
       "      <td>943 2nd St, Atlanta, GA 30301446 Pine St, Atla...</td>\n",
       "      <td>104794</td>\n",
       "      <td>2795498.58</td>\n",
       "    </tr>\n",
       "    <tr>\n",
       "      <th>Austin, TX</th>\n",
       "      <td>1461001489781457691480601479631473081499121474...</td>\n",
       "      <td>Wired HeadphonesUSB-C Charging CableApple Airp...</td>\n",
       "      <td>11153</td>\n",
       "      <td>1809873.61</td>\n",
       "      <td>01/01/19 10:0201/01/19 10:1201/01/19 10:3201/0...</td>\n",
       "      <td>428 13th St, Austin, TX 73301914 South St, Aus...</td>\n",
       "      <td>69829</td>\n",
       "      <td>1819581.75</td>\n",
       "    </tr>\n",
       "    <tr>\n",
       "      <th>Boston, MA</th>\n",
       "      <td>1424511427891494211421931503941445371451651422...</td>\n",
       "      <td>AAA Batteries (4-pack)AAA Batteries (4-pack)Wi...</td>\n",
       "      <td>22528</td>\n",
       "      <td>3637409.77</td>\n",
       "      <td>01/01/19 06:4101/01/19 07:3501/01/19 08:3101/0...</td>\n",
       "      <td>232 12th St, Boston, MA 02215336 Spruce St, Bo...</td>\n",
       "      <td>141112</td>\n",
       "      <td>3661642.01</td>\n",
       "    </tr>\n",
       "    <tr>\n",
       "      <th>Dallas, TX</th>\n",
       "      <td>1499641452701413641459901495791484501484501415...</td>\n",
       "      <td>AAA Batteries (4-pack)Google PhoneAA Batteries...</td>\n",
       "      <td>16730</td>\n",
       "      <td>2752627.82</td>\n",
       "      <td>01/01/19 05:5301/01/19 07:3301/01/19 07:4601/0...</td>\n",
       "      <td>75 Jackson St, Dallas, TX 75001392 4th St, Dal...</td>\n",
       "      <td>104620</td>\n",
       "      <td>2767975.40</td>\n",
       "    </tr>\n",
       "    <tr>\n",
       "      <th>Los Angeles, CA</th>\n",
       "      <td>1458781449941503671412421435401470131475741468...</td>\n",
       "      <td>Macbook Pro LaptopThinkPad LaptopLightning Cha...</td>\n",
       "      <td>33289</td>\n",
       "      <td>5421435.23</td>\n",
       "      <td>01/01/19 07:4801/01/19 08:1301/01/19 08:2501/0...</td>\n",
       "      <td>456 5th St, Los Angeles, CA 90001903 Willow St...</td>\n",
       "      <td>208325</td>\n",
       "      <td>5452570.80</td>\n",
       "    </tr>\n",
       "    <tr>\n",
       "      <th>New York City, NY</th>\n",
       "      <td>1472681493431434981448041448041421341503931424...</td>\n",
       "      <td>Wired HeadphonesApple Airpods HeadphonesAA Bat...</td>\n",
       "      <td>27932</td>\n",
       "      <td>4635370.83</td>\n",
       "      <td>01/01/19 03:0701/01/19 04:5601/01/19 07:2601/0...</td>\n",
       "      <td>9 Lake St, New York City, NY 10001735 5th St, ...</td>\n",
       "      <td>175741</td>\n",
       "      <td>4664317.43</td>\n",
       "    </tr>\n",
       "    <tr>\n",
       "      <th>Portland, ME</th>\n",
       "      <td>1413291414071414091470531448271483971447421500...</td>\n",
       "      <td>USB-C Charging CableApple Airpods HeadphonesBo...</td>\n",
       "      <td>2750</td>\n",
       "      <td>447189.25</td>\n",
       "      <td>01/01/19 16:0101/01/19 16:0601/01/19 21:4901/0...</td>\n",
       "      <td>122 5th St, Portland, ME 04101946 12th St, Por...</td>\n",
       "      <td>17144</td>\n",
       "      <td>449758.27</td>\n",
       "    </tr>\n",
       "    <tr>\n",
       "      <th>Portland, OR</th>\n",
       "      <td>1460561461121433421436741495241438971436101433...</td>\n",
       "      <td>Lightning Charging CableUSB-C Charging CableUS...</td>\n",
       "      <td>11303</td>\n",
       "      <td>1860558.22</td>\n",
       "      <td>01/01/19 07:5301/01/19 09:3601/01/19 10:0601/0...</td>\n",
       "      <td>622 Hill St, Portland, OR 97035973 Adams St, P...</td>\n",
       "      <td>70621</td>\n",
       "      <td>1870732.34</td>\n",
       "    </tr>\n",
       "    <tr>\n",
       "      <th>San Francisco, CA</th>\n",
       "      <td>1480411496201460391480881495861421561450821475...</td>\n",
       "      <td>USB-C Charging CableLightning Charging Cable34...</td>\n",
       "      <td>50239</td>\n",
       "      <td>8211461.74</td>\n",
       "      <td>01/01/19 03:4001/01/19 06:3401/01/19 07:2401/0...</td>\n",
       "      <td>760 Church St, San Francisco, CA 94016338 Ches...</td>\n",
       "      <td>315520</td>\n",
       "      <td>8262203.91</td>\n",
       "    </tr>\n",
       "    <tr>\n",
       "      <th>Seattle, WA</th>\n",
       "      <td>1413161449021445051442841462431422941421781492...</td>\n",
       "      <td>AAA Batteries (4-pack)27in 4K Gaming MonitorAp...</td>\n",
       "      <td>16553</td>\n",
       "      <td>2733296.01</td>\n",
       "      <td>01/01/19 07:2601/01/19 10:2301/01/19 10:3101/0...</td>\n",
       "      <td>235 South St, Seattle, WA 98101169 Ridge St, S...</td>\n",
       "      <td>104941</td>\n",
       "      <td>2747755.48</td>\n",
       "    </tr>\n",
       "  </tbody>\n",
       "</table>\n",
       "</div>"
      ],
      "text/plain": [
       "                                                            Order ID  \\\n",
       "City                                                                   \n",
       "Atlanta, GA        1493501417321437631499261493781477581416131437...   \n",
       "Austin, TX         1461001489781457691480601479631473081499121474...   \n",
       "Boston, MA         1424511427891494211421931503941445371451651422...   \n",
       "Dallas, TX         1499641452701413641459901495791484501484501415...   \n",
       "Los Angeles, CA    1458781449941503671412421435401470131475741468...   \n",
       "New York City, NY  1472681493431434981448041448041421341503931424...   \n",
       "Portland, ME       1413291414071414091470531448271483971447421500...   \n",
       "Portland, OR       1460561461121433421436741495241438971436101433...   \n",
       "San Francisco, CA  1480411496201460391480881495861421561450821475...   \n",
       "Seattle, WA        1413161449021445051442841462431422941421781492...   \n",
       "\n",
       "                                                             Product  \\\n",
       "City                                                                   \n",
       "Atlanta, GA        USB-C Charging CableiPhoneApple Airpods Headph...   \n",
       "Austin, TX         Wired HeadphonesUSB-C Charging CableApple Airp...   \n",
       "Boston, MA         AAA Batteries (4-pack)AAA Batteries (4-pack)Wi...   \n",
       "Dallas, TX         AAA Batteries (4-pack)Google PhoneAA Batteries...   \n",
       "Los Angeles, CA    Macbook Pro LaptopThinkPad LaptopLightning Cha...   \n",
       "New York City, NY  Wired HeadphonesApple Airpods HeadphonesAA Bat...   \n",
       "Portland, ME       USB-C Charging CableApple Airpods HeadphonesBo...   \n",
       "Portland, OR       Lightning Charging CableUSB-C Charging CableUS...   \n",
       "San Francisco, CA  USB-C Charging CableLightning Charging Cable34...   \n",
       "Seattle, WA        AAA Batteries (4-pack)27in 4K Gaming MonitorAp...   \n",
       "\n",
       "                   Quantity Ordered  Price Each  \\\n",
       "City                                              \n",
       "Atlanta, GA                   16602  2779908.20   \n",
       "Austin, TX                    11153  1809873.61   \n",
       "Boston, MA                    22528  3637409.77   \n",
       "Dallas, TX                    16730  2752627.82   \n",
       "Los Angeles, CA               33289  5421435.23   \n",
       "New York City, NY             27932  4635370.83   \n",
       "Portland, ME                   2750   447189.25   \n",
       "Portland, OR                  11303  1860558.22   \n",
       "San Francisco, CA             50239  8211461.74   \n",
       "Seattle, WA                   16553  2733296.01   \n",
       "\n",
       "                                                          Order Date  \\\n",
       "City                                                                   \n",
       "Atlanta, GA        01/01/19 06:0301/01/19 06:1301/01/19 08:4401/0...   \n",
       "Austin, TX         01/01/19 10:0201/01/19 10:1201/01/19 10:3201/0...   \n",
       "Boston, MA         01/01/19 06:4101/01/19 07:3501/01/19 08:3101/0...   \n",
       "Dallas, TX         01/01/19 05:5301/01/19 07:3301/01/19 07:4601/0...   \n",
       "Los Angeles, CA    01/01/19 07:4801/01/19 08:1301/01/19 08:2501/0...   \n",
       "New York City, NY  01/01/19 03:0701/01/19 04:5601/01/19 07:2601/0...   \n",
       "Portland, ME       01/01/19 16:0101/01/19 16:0601/01/19 21:4901/0...   \n",
       "Portland, OR       01/01/19 07:5301/01/19 09:3601/01/19 10:0601/0...   \n",
       "San Francisco, CA  01/01/19 03:4001/01/19 06:3401/01/19 07:2401/0...   \n",
       "Seattle, WA        01/01/19 07:2601/01/19 10:2301/01/19 10:3101/0...   \n",
       "\n",
       "                                                    Purchase Address   Month  \\\n",
       "City                                                                           \n",
       "Atlanta, GA        943 2nd St, Atlanta, GA 30301446 Pine St, Atla...  104794   \n",
       "Austin, TX         428 13th St, Austin, TX 73301914 South St, Aus...   69829   \n",
       "Boston, MA         232 12th St, Boston, MA 02215336 Spruce St, Bo...  141112   \n",
       "Dallas, TX         75 Jackson St, Dallas, TX 75001392 4th St, Dal...  104620   \n",
       "Los Angeles, CA    456 5th St, Los Angeles, CA 90001903 Willow St...  208325   \n",
       "New York City, NY  9 Lake St, New York City, NY 10001735 5th St, ...  175741   \n",
       "Portland, ME       122 5th St, Portland, ME 04101946 12th St, Por...   17144   \n",
       "Portland, OR       622 Hill St, Portland, OR 97035973 Adams St, P...   70621   \n",
       "San Francisco, CA  760 Church St, San Francisco, CA 94016338 Ches...  315520   \n",
       "Seattle, WA        235 South St, Seattle, WA 98101169 Ridge St, S...  104941   \n",
       "\n",
       "                        Total  \n",
       "City                           \n",
       "Atlanta, GA        2795498.58  \n",
       "Austin, TX         1819581.75  \n",
       "Boston, MA         3661642.01  \n",
       "Dallas, TX         2767975.40  \n",
       "Los Angeles, CA    5452570.80  \n",
       "New York City, NY  4664317.43  \n",
       "Portland, ME        449758.27  \n",
       "Portland, OR       1870732.34  \n",
       "San Francisco, CA  8262203.91  \n",
       "Seattle, WA        2747755.48  "
      ]
     },
     "execution_count": 11,
     "metadata": {},
     "output_type": "execute_result"
    }
   ],
   "source": [
    "sales_city = all_data.groupby('City').sum()\n",
    "sales_city"
   ]
  },
  {
   "cell_type": "code",
   "execution_count": 12,
   "metadata": {},
   "outputs": [
    {
     "data": {
      "image/png": "[encoded data removed]",
      "text/plain": [
       "<Figure size 640x480 with 1 Axes>"
      ]
     },
     "metadata": {},
     "output_type": "display_data"
    }
   ],
   "source": [
    "import matplotlib.pyplot as plt\n",
    "\n",
    "cities = all_data['City'].unique()\n",
    "\n",
    "plt.bar(cities, sales_city['Total'])\n",
    "plt.xticks(cities)\n",
    "plt.ylabel('Sales')\n",
    "plt.xlabel('City')\n",
    "plt.xticks(rotation=45)\n",
    "plt.show()"
   ]
  },
  {
   "cell_type": "code",
   "execution_count": 13,
   "metadata": {},
   "outputs": [
    {
     "data": {
      "image/png": "[encoded data removed]",
      "text/plain": [
       "<Figure size 640x480 with 1 Axes>"
      ]
     },
     "metadata": {},
     "output_type": "display_data"
    }
   ],
   "source": [
    "# cities = all_data['City'].unique()\n",
    "\n",
    "sales_city = all_data.groupby('City')['Total'].sum().reset_index()\n",
    "\n",
    "plt.bar(sales_city['City'], sales_city['Total'])\n",
    "plt.xticks(rotation=90, size=8)\n",
    "plt.ylabel('Sales')\n",
    "plt.xlabel('City')\n",
    "plt.show()"
   ]
  },
  {
   "cell_type": "code",
   "execution_count": 14,
   "metadata": {},
   "outputs": [
    {
     "data": {
      "text/html": [
       "<div>\n",
       "<style scoped>\n",
       "    .dataframe tbody tr th:only-of-type {\n",
       "        vertical-align: middle;\n",
       "    }\n",
       "\n",
       "    .dataframe tbody tr th {\n",
       "        vertical-align: top;\n",
       "    }\n",
       "\n",
       "    .dataframe thead th {\n",
       "        text-align: right;\n",
       "    }\n",
       "</style>\n",
       "<table border=\"1\" class=\"dataframe\">\n",
       "  <thead>\n",
       "    <tr style=\"text-align: right;\">\n",
       "      <th></th>\n",
       "      <th>Order ID</th>\n",
       "      <th>Product</th>\n",
       "      <th>Quantity Ordered</th>\n",
       "      <th>Price Each</th>\n",
       "      <th>Order Date</th>\n",
       "      <th>Purchase Address</th>\n",
       "      <th>Month</th>\n",
       "      <th>Total</th>\n",
       "      <th>City</th>\n",
       "    </tr>\n",
       "  </thead>\n",
       "  <tbody>\n",
       "    <tr>\n",
       "      <th>73891</th>\n",
       "      <td>147268</td>\n",
       "      <td>Wired Headphones</td>\n",
       "      <td>1</td>\n",
       "      <td>11.99</td>\n",
       "      <td>01/01/19 03:07</td>\n",
       "      <td>9 Lake St, New York City, NY 10001</td>\n",
       "      <td>1</td>\n",
       "      <td>11.99</td>\n",
       "      <td>New York City, NY</td>\n",
       "    </tr>\n",
       "    <tr>\n",
       "      <th>74701</th>\n",
       "      <td>148041</td>\n",
       "      <td>USB-C Charging Cable</td>\n",
       "      <td>1</td>\n",
       "      <td>11.95</td>\n",
       "      <td>01/01/19 03:40</td>\n",
       "      <td>760 Church St, San Francisco, CA 94016</td>\n",
       "      <td>1</td>\n",
       "      <td>11.95</td>\n",
       "      <td>San Francisco, CA</td>\n",
       "    </tr>\n",
       "    <tr>\n",
       "      <th>76054</th>\n",
       "      <td>149343</td>\n",
       "      <td>Apple Airpods Headphones</td>\n",
       "      <td>1</td>\n",
       "      <td>150.00</td>\n",
       "      <td>01/01/19 04:56</td>\n",
       "      <td>735 5th St, New York City, NY 10001</td>\n",
       "      <td>1</td>\n",
       "      <td>150.00</td>\n",
       "      <td>New York City, NY</td>\n",
       "    </tr>\n",
       "    <tr>\n",
       "      <th>76708</th>\n",
       "      <td>149964</td>\n",
       "      <td>AAA Batteries (4-pack)</td>\n",
       "      <td>1</td>\n",
       "      <td>2.99</td>\n",
       "      <td>01/01/19 05:53</td>\n",
       "      <td>75 Jackson St, Dallas, TX 75001</td>\n",
       "      <td>1</td>\n",
       "      <td>2.99</td>\n",
       "      <td>Dallas, TX</td>\n",
       "    </tr>\n",
       "    <tr>\n",
       "      <th>76061</th>\n",
       "      <td>149350</td>\n",
       "      <td>USB-C Charging Cable</td>\n",
       "      <td>2</td>\n",
       "      <td>11.95</td>\n",
       "      <td>01/01/19 06:03</td>\n",
       "      <td>943 2nd St, Atlanta, GA 30301</td>\n",
       "      <td>1</td>\n",
       "      <td>23.90</td>\n",
       "      <td>Atlanta, GA</td>\n",
       "    </tr>\n",
       "    <tr>\n",
       "      <th>...</th>\n",
       "      <td>...</td>\n",
       "      <td>...</td>\n",
       "      <td>...</td>\n",
       "      <td>...</td>\n",
       "      <td>...</td>\n",
       "      <td>...</td>\n",
       "      <td>...</td>\n",
       "      <td>...</td>\n",
       "      <td>...</td>\n",
       "    </tr>\n",
       "    <tr>\n",
       "      <th>33264</th>\n",
       "      <td>298406</td>\n",
       "      <td>AAA Batteries (4-pack)</td>\n",
       "      <td>2</td>\n",
       "      <td>2.99</td>\n",
       "      <td>12/31/19 23:42</td>\n",
       "      <td>30 Elm St, San Francisco, CA 94016</td>\n",
       "      <td>12</td>\n",
       "      <td>5.98</td>\n",
       "      <td>San Francisco, CA</td>\n",
       "    </tr>\n",
       "    <tr>\n",
       "      <th>32308</th>\n",
       "      <td>297481</td>\n",
       "      <td>AA Batteries (4-pack)</td>\n",
       "      <td>1</td>\n",
       "      <td>3.84</td>\n",
       "      <td>12/31/19 23:42</td>\n",
       "      <td>82 Hill St, Dallas, TX 75001</td>\n",
       "      <td>12</td>\n",
       "      <td>3.84</td>\n",
       "      <td>Dallas, TX</td>\n",
       "    </tr>\n",
       "    <tr>\n",
       "      <th>52781</th>\n",
       "      <td>317048</td>\n",
       "      <td>AAA Batteries (4-pack)</td>\n",
       "      <td>2</td>\n",
       "      <td>2.99</td>\n",
       "      <td>12/31/19 23:45</td>\n",
       "      <td>743 Adams St, San Francisco, CA 94016</td>\n",
       "      <td>12</td>\n",
       "      <td>5.98</td>\n",
       "      <td>San Francisco, CA</td>\n",
       "    </tr>\n",
       "    <tr>\n",
       "      <th>45172</th>\n",
       "      <td>309773</td>\n",
       "      <td>AAA Batteries (4-pack)</td>\n",
       "      <td>1</td>\n",
       "      <td>2.99</td>\n",
       "      <td>12/31/19 23:52</td>\n",
       "      <td>60 Hickory St, Los Angeles, CA 90001</td>\n",
       "      <td>12</td>\n",
       "      <td>2.99</td>\n",
       "      <td>Los Angeles, CA</td>\n",
       "    </tr>\n",
       "    <tr>\n",
       "      <th>32511</th>\n",
       "      <td>297674</td>\n",
       "      <td>AAA Batteries (4-pack)</td>\n",
       "      <td>1</td>\n",
       "      <td>2.99</td>\n",
       "      <td>12/31/19 23:53</td>\n",
       "      <td>425 Lake St, Portland, OR 97035</td>\n",
       "      <td>12</td>\n",
       "      <td>2.99</td>\n",
       "      <td>Portland, OR</td>\n",
       "    </tr>\n",
       "  </tbody>\n",
       "</table>\n",
       "<p>185950 rows × 9 columns</p>\n",
       "</div>"
      ],
      "text/plain": [
       "      Order ID                   Product  Quantity Ordered  Price Each  \\\n",
       "73891   147268          Wired Headphones                 1       11.99   \n",
       "74701   148041      USB-C Charging Cable                 1       11.95   \n",
       "76054   149343  Apple Airpods Headphones                 1      150.00   \n",
       "76708   149964    AAA Batteries (4-pack)                 1        2.99   \n",
       "76061   149350      USB-C Charging Cable                 2       11.95   \n",
       "...        ...                       ...               ...         ...   \n",
       "33264   298406    AAA Batteries (4-pack)                 2        2.99   \n",
       "32308   297481     AA Batteries (4-pack)                 1        3.84   \n",
       "52781   317048    AAA Batteries (4-pack)                 2        2.99   \n",
       "45172   309773    AAA Batteries (4-pack)                 1        2.99   \n",
       "32511   297674    AAA Batteries (4-pack)                 1        2.99   \n",
       "\n",
       "           Order Date                        Purchase Address  Month   Total  \\\n",
       "73891  01/01/19 03:07      9 Lake St, New York City, NY 10001      1   11.99   \n",
       "74701  01/01/19 03:40  760 Church St, San Francisco, CA 94016      1   11.95   \n",
       "76054  01/01/19 04:56     735 5th St, New York City, NY 10001      1  150.00   \n",
       "76708  01/01/19 05:53         75 Jackson St, Dallas, TX 75001      1    2.99   \n",
       "76061  01/01/19 06:03           943 2nd St, Atlanta, GA 30301      1   23.90   \n",
       "...               ...                                     ...    ...     ...   \n",
       "33264  12/31/19 23:42      30 Elm St, San Francisco, CA 94016     12    5.98   \n",
       "32308  12/31/19 23:42            82 Hill St, Dallas, TX 75001     12    3.84   \n",
       "52781  12/31/19 23:45   743 Adams St, San Francisco, CA 94016     12    5.98   \n",
       "45172  12/31/19 23:52    60 Hickory St, Los Angeles, CA 90001     12    2.99   \n",
       "32511  12/31/19 23:53         425 Lake St, Portland, OR 97035     12    2.99   \n",
       "\n",
       "                     City  \n",
       "73891   New York City, NY  \n",
       "74701   San Francisco, CA  \n",
       "76054   New York City, NY  \n",
       "76708          Dallas, TX  \n",
       "76061         Atlanta, GA  \n",
       "...                   ...  \n",
       "33264   San Francisco, CA  \n",
       "32308          Dallas, TX  \n",
       "52781   San Francisco, CA  \n",
       "45172     Los Angeles, CA  \n",
       "32511        Portland, OR  \n",
       "\n",
       "[185950 rows x 9 columns]"
      ]
     },
     "execution_count": 14,
     "metadata": {},
     "output_type": "execute_result"
    }
   ],
   "source": [
    "all_data"
   ]
  },
  {
   "cell_type": "code",
   "execution_count": 15,
   "metadata": {},
   "outputs": [
    {
     "data": {
      "text/plain": [
       "73891    03:07\n",
       "74701    03:40\n",
       "76054    04:56\n",
       "76708    05:53\n",
       "76061    06:03\n",
       "         ...  \n",
       "33264    23:42\n",
       "32308    23:42\n",
       "52781    23:45\n",
       "45172    23:52\n",
       "32511    23:53\n",
       "Name: Order Date, Length: 185950, dtype: object"
      ]
     },
     "execution_count": 15,
     "metadata": {},
     "output_type": "execute_result"
    }
   ],
   "source": [
    "# graph time of day\n",
    "\n",
    "order_time = all_data['Order Date'].str.split(' ').str[1]\n",
    "\n",
    "order_time"
   ]
  },
  {
   "cell_type": "code",
   "execution_count": 16,
   "metadata": {},
   "outputs": [
    {
     "name": "stderr",
     "output_type": "stream",
     "text": [
      "C:\\Users\\beall\\AppData\\Local\\Temp\\ipykernel_14512\\2446301274.py:1: SettingWithCopyWarning: \n",
      "A value is trying to be set on a copy of a slice from a DataFrame.\n",
      "Try using .loc[row_indexer,col_indexer] = value instead\n",
      "\n",
      "See the caveats in the documentation: https://pandas.pydata.org/pandas-docs/stable/user_guide/indexing.html#returning-a-view-versus-a-copy\n",
      "  all_data['Order Time'] = all_data['Order Date'].str.split(' ').str[1]\n",
      "C:\\Users\\beall\\AppData\\Local\\Temp\\ipykernel_14512\\2446301274.py:2: SettingWithCopyWarning: \n",
      "A value is trying to be set on a copy of a slice from a DataFrame.\n",
      "Try using .loc[row_indexer,col_indexer] = value instead\n",
      "\n",
      "See the caveats in the documentation: https://pandas.pydata.org/pandas-docs/stable/user_guide/indexing.html#returning-a-view-versus-a-copy\n",
      "  all_data['Order Time'] = all_data['Order Time'].str.split(':').str[0]\n"
     ]
    },
    {
     "data": {
      "text/html": [
       "<div>\n",
       "<style scoped>\n",
       "    .dataframe tbody tr th:only-of-type {\n",
       "        vertical-align: middle;\n",
       "    }\n",
       "\n",
       "    .dataframe tbody tr th {\n",
       "        vertical-align: top;\n",
       "    }\n",
       "\n",
       "    .dataframe thead th {\n",
       "        text-align: right;\n",
       "    }\n",
       "</style>\n",
       "<table border=\"1\" class=\"dataframe\">\n",
       "  <thead>\n",
       "    <tr style=\"text-align: right;\">\n",
       "      <th></th>\n",
       "      <th>Order ID</th>\n",
       "      <th>Product</th>\n",
       "      <th>Quantity Ordered</th>\n",
       "      <th>Price Each</th>\n",
       "      <th>Order Date</th>\n",
       "      <th>Purchase Address</th>\n",
       "      <th>Month</th>\n",
       "      <th>Total</th>\n",
       "      <th>City</th>\n",
       "      <th>Order Time</th>\n",
       "    </tr>\n",
       "  </thead>\n",
       "  <tbody>\n",
       "    <tr>\n",
       "      <th>73891</th>\n",
       "      <td>147268</td>\n",
       "      <td>Wired Headphones</td>\n",
       "      <td>1</td>\n",
       "      <td>11.99</td>\n",
       "      <td>01/01/19 03:07</td>\n",
       "      <td>9 Lake St, New York City, NY 10001</td>\n",
       "      <td>1</td>\n",
       "      <td>11.99</td>\n",
       "      <td>New York City, NY</td>\n",
       "      <td>03</td>\n",
       "    </tr>\n",
       "    <tr>\n",
       "      <th>74701</th>\n",
       "      <td>148041</td>\n",
       "      <td>USB-C Charging Cable</td>\n",
       "      <td>1</td>\n",
       "      <td>11.95</td>\n",
       "      <td>01/01/19 03:40</td>\n",
       "      <td>760 Church St, San Francisco, CA 94016</td>\n",
       "      <td>1</td>\n",
       "      <td>11.95</td>\n",
       "      <td>San Francisco, CA</td>\n",
       "      <td>03</td>\n",
       "    </tr>\n",
       "    <tr>\n",
       "      <th>76054</th>\n",
       "      <td>149343</td>\n",
       "      <td>Apple Airpods Headphones</td>\n",
       "      <td>1</td>\n",
       "      <td>150.00</td>\n",
       "      <td>01/01/19 04:56</td>\n",
       "      <td>735 5th St, New York City, NY 10001</td>\n",
       "      <td>1</td>\n",
       "      <td>150.00</td>\n",
       "      <td>New York City, NY</td>\n",
       "      <td>04</td>\n",
       "    </tr>\n",
       "    <tr>\n",
       "      <th>76708</th>\n",
       "      <td>149964</td>\n",
       "      <td>AAA Batteries (4-pack)</td>\n",
       "      <td>1</td>\n",
       "      <td>2.99</td>\n",
       "      <td>01/01/19 05:53</td>\n",
       "      <td>75 Jackson St, Dallas, TX 75001</td>\n",
       "      <td>1</td>\n",
       "      <td>2.99</td>\n",
       "      <td>Dallas, TX</td>\n",
       "      <td>05</td>\n",
       "    </tr>\n",
       "    <tr>\n",
       "      <th>76061</th>\n",
       "      <td>149350</td>\n",
       "      <td>USB-C Charging Cable</td>\n",
       "      <td>2</td>\n",
       "      <td>11.95</td>\n",
       "      <td>01/01/19 06:03</td>\n",
       "      <td>943 2nd St, Atlanta, GA 30301</td>\n",
       "      <td>1</td>\n",
       "      <td>23.90</td>\n",
       "      <td>Atlanta, GA</td>\n",
       "      <td>06</td>\n",
       "    </tr>\n",
       "    <tr>\n",
       "      <th>...</th>\n",
       "      <td>...</td>\n",
       "      <td>...</td>\n",
       "      <td>...</td>\n",
       "      <td>...</td>\n",
       "      <td>...</td>\n",
       "      <td>...</td>\n",
       "      <td>...</td>\n",
       "      <td>...</td>\n",
       "      <td>...</td>\n",
       "      <td>...</td>\n",
       "    </tr>\n",
       "    <tr>\n",
       "      <th>33264</th>\n",
       "      <td>298406</td>\n",
       "      <td>AAA Batteries (4-pack)</td>\n",
       "      <td>2</td>\n",
       "      <td>2.99</td>\n",
       "      <td>12/31/19 23:42</td>\n",
       "      <td>30 Elm St, San Francisco, CA 94016</td>\n",
       "      <td>12</td>\n",
       "      <td>5.98</td>\n",
       "      <td>San Francisco, CA</td>\n",
       "      <td>23</td>\n",
       "    </tr>\n",
       "    <tr>\n",
       "      <th>32308</th>\n",
       "      <td>297481</td>\n",
       "      <td>AA Batteries (4-pack)</td>\n",
       "      <td>1</td>\n",
       "      <td>3.84</td>\n",
       "      <td>12/31/19 23:42</td>\n",
       "      <td>82 Hill St, Dallas, TX 75001</td>\n",
       "      <td>12</td>\n",
       "      <td>3.84</td>\n",
       "      <td>Dallas, TX</td>\n",
       "      <td>23</td>\n",
       "    </tr>\n",
       "    <tr>\n",
       "      <th>52781</th>\n",
       "      <td>317048</td>\n",
       "      <td>AAA Batteries (4-pack)</td>\n",
       "      <td>2</td>\n",
       "      <td>2.99</td>\n",
       "      <td>12/31/19 23:45</td>\n",
       "      <td>743 Adams St, San Francisco, CA 94016</td>\n",
       "      <td>12</td>\n",
       "      <td>5.98</td>\n",
       "      <td>San Francisco, CA</td>\n",
       "      <td>23</td>\n",
       "    </tr>\n",
       "    <tr>\n",
       "      <th>45172</th>\n",
       "      <td>309773</td>\n",
       "      <td>AAA Batteries (4-pack)</td>\n",
       "      <td>1</td>\n",
       "      <td>2.99</td>\n",
       "      <td>12/31/19 23:52</td>\n",
       "      <td>60 Hickory St, Los Angeles, CA 90001</td>\n",
       "      <td>12</td>\n",
       "      <td>2.99</td>\n",
       "      <td>Los Angeles, CA</td>\n",
       "      <td>23</td>\n",
       "    </tr>\n",
       "    <tr>\n",
       "      <th>32511</th>\n",
       "      <td>297674</td>\n",
       "      <td>AAA Batteries (4-pack)</td>\n",
       "      <td>1</td>\n",
       "      <td>2.99</td>\n",
       "      <td>12/31/19 23:53</td>\n",
       "      <td>425 Lake St, Portland, OR 97035</td>\n",
       "      <td>12</td>\n",
       "      <td>2.99</td>\n",
       "      <td>Portland, OR</td>\n",
       "      <td>23</td>\n",
       "    </tr>\n",
       "  </tbody>\n",
       "</table>\n",
       "<p>185950 rows × 10 columns</p>\n",
       "</div>"
      ],
      "text/plain": [
       "      Order ID                   Product  Quantity Ordered  Price Each  \\\n",
       "73891   147268          Wired Headphones                 1       11.99   \n",
       "74701   148041      USB-C Charging Cable                 1       11.95   \n",
       "76054   149343  Apple Airpods Headphones                 1      150.00   \n",
       "76708   149964    AAA Batteries (4-pack)                 1        2.99   \n",
       "76061   149350      USB-C Charging Cable                 2       11.95   \n",
       "...        ...                       ...               ...         ...   \n",
       "33264   298406    AAA Batteries (4-pack)                 2        2.99   \n",
       "32308   297481     AA Batteries (4-pack)                 1        3.84   \n",
       "52781   317048    AAA Batteries (4-pack)                 2        2.99   \n",
       "45172   309773    AAA Batteries (4-pack)                 1        2.99   \n",
       "32511   297674    AAA Batteries (4-pack)                 1        2.99   \n",
       "\n",
       "           Order Date                        Purchase Address  Month   Total  \\\n",
       "73891  01/01/19 03:07      9 Lake St, New York City, NY 10001      1   11.99   \n",
       "74701  01/01/19 03:40  760 Church St, San Francisco, CA 94016      1   11.95   \n",
       "76054  01/01/19 04:56     735 5th St, New York City, NY 10001      1  150.00   \n",
       "76708  01/01/19 05:53         75 Jackson St, Dallas, TX 75001      1    2.99   \n",
       "76061  01/01/19 06:03           943 2nd St, Atlanta, GA 30301      1   23.90   \n",
       "...               ...                                     ...    ...     ...   \n",
       "33264  12/31/19 23:42      30 Elm St, San Francisco, CA 94016     12    5.98   \n",
       "32308  12/31/19 23:42            82 Hill St, Dallas, TX 75001     12    3.84   \n",
       "52781  12/31/19 23:45   743 Adams St, San Francisco, CA 94016     12    5.98   \n",
       "45172  12/31/19 23:52    60 Hickory St, Los Angeles, CA 90001     12    2.99   \n",
       "32511  12/31/19 23:53         425 Lake St, Portland, OR 97035     12    2.99   \n",
       "\n",
       "                     City Order Time  \n",
       "73891   New York City, NY         03  \n",
       "74701   San Francisco, CA         03  \n",
       "76054   New York City, NY         04  \n",
       "76708          Dallas, TX         05  \n",
       "76061         Atlanta, GA         06  \n",
       "...                   ...        ...  \n",
       "33264   San Francisco, CA         23  \n",
       "32308          Dallas, TX         23  \n",
       "52781   San Francisco, CA         23  \n",
       "45172     Los Angeles, CA         23  \n",
       "32511        Portland, OR         23  \n",
       "\n",
       "[185950 rows x 10 columns]"
      ]
     },
     "execution_count": 16,
     "metadata": {},
     "output_type": "execute_result"
    }
   ],
   "source": [
    "all_data['Order Time'] = all_data['Order Date'].str.split(' ').str[1]\n",
    "all_data['Order Time'] = all_data['Order Time'].str.split(':').str[0]\n",
    "all_data"
   ]
  },
  {
   "cell_type": "code",
   "execution_count": 17,
   "metadata": {},
   "outputs": [
    {
     "data": {
      "text/html": [
       "<div>\n",
       "<style scoped>\n",
       "    .dataframe tbody tr th:only-of-type {\n",
       "        vertical-align: middle;\n",
       "    }\n",
       "\n",
       "    .dataframe tbody tr th {\n",
       "        vertical-align: top;\n",
       "    }\n",
       "\n",
       "    .dataframe thead th {\n",
       "        text-align: right;\n",
       "    }\n",
       "</style>\n",
       "<table border=\"1\" class=\"dataframe\">\n",
       "  <thead>\n",
       "    <tr style=\"text-align: right;\">\n",
       "      <th></th>\n",
       "      <th>Order ID</th>\n",
       "      <th>Product</th>\n",
       "      <th>Quantity Ordered</th>\n",
       "      <th>Price Each</th>\n",
       "      <th>Order Date</th>\n",
       "      <th>Purchase Address</th>\n",
       "      <th>Month</th>\n",
       "      <th>Total</th>\n",
       "      <th>City</th>\n",
       "    </tr>\n",
       "    <tr>\n",
       "      <th>Order Time</th>\n",
       "      <th></th>\n",
       "      <th></th>\n",
       "      <th></th>\n",
       "      <th></th>\n",
       "      <th></th>\n",
       "      <th></th>\n",
       "      <th></th>\n",
       "      <th></th>\n",
       "      <th></th>\n",
       "    </tr>\n",
       "  </thead>\n",
       "  <tbody>\n",
       "    <tr>\n",
       "      <th>00</th>\n",
       "      <td>3113863113863023933007592978172978173083222971...</td>\n",
       "      <td>Apple Airpods HeadphonesiPhoneLightning Chargi...</td>\n",
       "      <td>4428</td>\n",
       "      <td>709296.70</td>\n",
       "      <td>01/01/20 00:1001/01/20 00:1001/01/20 00:1401/0...</td>\n",
       "      <td>730 Pine St, San Francisco, CA 94016730 Pine S...</td>\n",
       "      <td>27554</td>\n",
       "      <td>713721.27</td>\n",
       "      <td>San Francisco, CA San Francisco, CA Boston, M...</td>\n",
       "    </tr>\n",
       "    <tr>\n",
       "      <th>01</th>\n",
       "      <td>3055383168672990493153153100743066553145523140...</td>\n",
       "      <td>Apple Airpods Headphones27in FHD MonitorApple ...</td>\n",
       "      <td>2619</td>\n",
       "      <td>458490.00</td>\n",
       "      <td>01/01/20 01:0001/01/20 01:0501/01/20 01:1701/0...</td>\n",
       "      <td>693 1st St, Portland, OR 97035137 Madison St, ...</td>\n",
       "      <td>16657</td>\n",
       "      <td>460866.88</td>\n",
       "      <td>Portland, OR Seattle, WA San Francisco, CA Au...</td>\n",
       "    </tr>\n",
       "    <tr>\n",
       "      <th>02</th>\n",
       "      <td>3078903120123068093168331487391452341443431425...</td>\n",
       "      <td>Lightning Charging Cable27in FHD MonitorMacboo...</td>\n",
       "      <td>1398</td>\n",
       "      <td>233833.64</td>\n",
       "      <td>01/01/20 02:0601/01/20 02:1201/01/20 02:2001/0...</td>\n",
       "      <td>39 Pine St, New York City, NY 10001507 13th St...</td>\n",
       "      <td>8507</td>\n",
       "      <td>234851.44</td>\n",
       "      <td>New York City, NY San Francisco, CA Dallas, T...</td>\n",
       "    </tr>\n",
       "    <tr>\n",
       "      <th>03</th>\n",
       "      <td>1472681480413193083069282983441477611451431451...</td>\n",
       "      <td>Wired HeadphonesUSB-C Charging CableUSB-C Char...</td>\n",
       "      <td>928</td>\n",
       "      <td>144726.42</td>\n",
       "      <td>01/01/19 03:0701/01/19 03:4001/01/20 03:1301/0...</td>\n",
       "      <td>9 Lake St, New York City, NY 10001760 Church S...</td>\n",
       "      <td>5904</td>\n",
       "      <td>145757.89</td>\n",
       "      <td>New York City, NY San Francisco, CA Boston, M...</td>\n",
       "    </tr>\n",
       "    <tr>\n",
       "      <th>04</th>\n",
       "      <td>1493433081853041652991253058401500291500291449...</td>\n",
       "      <td>Apple Airpods Headphones27in FHD MonitorAAA Ba...</td>\n",
       "      <td>937</td>\n",
       "      <td>162058.18</td>\n",
       "      <td>01/01/19 04:5601/01/20 04:0601/01/20 04:1301/0...</td>\n",
       "      <td>735 5th St, New York City, NY 10001202 Maple S...</td>\n",
       "      <td>6148</td>\n",
       "      <td>162661.01</td>\n",
       "      <td>New York City, NY San Francisco, CA Portland,...</td>\n",
       "    </tr>\n",
       "    <tr>\n",
       "      <th>05</th>\n",
       "      <td>1499643005193005191501661449001449001461541503...</td>\n",
       "      <td>AAA Batteries (4-pack)Bose SoundSport Headphon...</td>\n",
       "      <td>1493</td>\n",
       "      <td>229621.21</td>\n",
       "      <td>01/01/19 05:5301/01/20 05:1301/01/20 05:1301/0...</td>\n",
       "      <td>75 Jackson St, Dallas, TX 75001657 Spruce St, ...</td>\n",
       "      <td>9301</td>\n",
       "      <td>230679.82</td>\n",
       "      <td>Dallas, TX New York City, NY New York City, N...</td>\n",
       "    </tr>\n",
       "    <tr>\n",
       "      <th>06</th>\n",
       "      <td>1493501417321496201424511442401453251481861469...</td>\n",
       "      <td>USB-C Charging CableiPhoneLightning Charging C...</td>\n",
       "      <td>2810</td>\n",
       "      <td>445000.11</td>\n",
       "      <td>01/01/19 06:0301/01/19 06:1301/01/19 06:3401/0...</td>\n",
       "      <td>943 2nd St, Atlanta, GA 30301446 Pine St, Atla...</td>\n",
       "      <td>17539</td>\n",
       "      <td>448113.00</td>\n",
       "      <td>Atlanta, GA Atlanta, GA San Francisco, CA Bos...</td>\n",
       "    </tr>\n",
       "    <tr>\n",
       "      <th>07</th>\n",
       "      <td>1460391434981413161448041448041452701427891480...</td>\n",
       "      <td>34in Ultrawide MonitorAA Batteries (4-pack)AAA...</td>\n",
       "      <td>4556</td>\n",
       "      <td>740568.11</td>\n",
       "      <td>01/01/19 07:2401/01/19 07:2601/01/19 07:2601/0...</td>\n",
       "      <td>53 River St, San Francisco, CA 94016428 Highla...</td>\n",
       "      <td>28850</td>\n",
       "      <td>744854.12</td>\n",
       "      <td>San Francisco, CA New York City, NY Seattle, ...</td>\n",
       "    </tr>\n",
       "    <tr>\n",
       "      <th>08</th>\n",
       "      <td>1449941421561503671494211437631450821475561477...</td>\n",
       "      <td>ThinkPad Laptop34in Ultrawide MonitorLightning...</td>\n",
       "      <td>7002</td>\n",
       "      <td>1185970.62</td>\n",
       "      <td>01/01/19 08:1301/01/19 08:1601/01/19 08:2501/0...</td>\n",
       "      <td>903 Willow St, Los Angeles, CA 90001540 2nd St...</td>\n",
       "      <td>43626</td>\n",
       "      <td>1192348.97</td>\n",
       "      <td>Los Angeles, CA San Francisco, CA Los Angeles...</td>\n",
       "    </tr>\n",
       "    <tr>\n",
       "      <th>09</th>\n",
       "      <td>1459901421931503941445371475191464591421341499...</td>\n",
       "      <td>AAA Batteries (4-pack)27in FHD MonitorAAA Batt...</td>\n",
       "      <td>9816</td>\n",
       "      <td>1628498.49</td>\n",
       "      <td>01/01/19 09:0301/01/19 09:0801/01/19 09:0801/0...</td>\n",
       "      <td>325 Madison St, Dallas, TX 75001912 Cherry St,...</td>\n",
       "      <td>60981</td>\n",
       "      <td>1639030.58</td>\n",
       "      <td>Dallas, TX Boston, MA Boston, MA Boston, MA S...</td>\n",
       "    </tr>\n",
       "    <tr>\n",
       "      <th>10</th>\n",
       "      <td>1499291461001433421436991495791425341489781455...</td>\n",
       "      <td>27in 4K Gaming MonitorWired HeadphonesUSB-C Ch...</td>\n",
       "      <td>12308</td>\n",
       "      <td>1932665.62</td>\n",
       "      <td>01/01/19 10:0201/01/19 10:0201/01/19 10:0601/0...</td>\n",
       "      <td>167 Johnson St, New York City, NY 10001428 13t...</td>\n",
       "      <td>76928</td>\n",
       "      <td>1944286.77</td>\n",
       "      <td>New York City, NY Austin, TX Portland, OR San...</td>\n",
       "    </tr>\n",
       "    <tr>\n",
       "      <th>11</th>\n",
       "      <td>1479631416631470131442841475741437151413501465...</td>\n",
       "      <td>Flatscreen TViPhoneAAA Batteries (4-pack)AAA B...</td>\n",
       "      <td>14005</td>\n",
       "      <td>2288855.18</td>\n",
       "      <td>01/01/19 11:0001/01/19 11:0101/01/19 11:0701/0...</td>\n",
       "      <td>655 Meadow St, Austin, TX 73301738 8th St, San...</td>\n",
       "      <td>87654</td>\n",
       "      <td>2300610.24</td>\n",
       "      <td>Austin, TX San Francisco, CA Los Angeles, CA ...</td>\n",
       "    </tr>\n",
       "    <tr>\n",
       "      <th>12</th>\n",
       "      <td>1480721484501484501436741465901494921415581422...</td>\n",
       "      <td>Flatscreen TVLightning Charging CableiPhoneWir...</td>\n",
       "      <td>14202</td>\n",
       "      <td>2299876.68</td>\n",
       "      <td>01/01/19 12:0001/01/19 12:0201/01/19 12:0201/0...</td>\n",
       "      <td>989 Center St, San Francisco, CA 94016761 Lake...</td>\n",
       "      <td>89161</td>\n",
       "      <td>2316821.34</td>\n",
       "      <td>San Francisco, CA Dallas, TX Dallas, TX Portl...</td>\n",
       "    </tr>\n",
       "    <tr>\n",
       "      <th>13</th>\n",
       "      <td>1453191444601499121492981438971427141450141502...</td>\n",
       "      <td>Apple Airpods HeadphonesApple Airpods Headphon...</td>\n",
       "      <td>13685</td>\n",
       "      <td>2139743.86</td>\n",
       "      <td>01/01/19 13:0501/01/19 13:0801/01/19 13:1001/0...</td>\n",
       "      <td>905 River St, San Francisco, CA 94016624 5th S...</td>\n",
       "      <td>85808</td>\n",
       "      <td>2155389.80</td>\n",
       "      <td>San Francisco, CA Los Angeles, CA Austin, TX ...</td>\n",
       "    </tr>\n",
       "    <tr>\n",
       "      <th>14</th>\n",
       "      <td>1495091446411474621471981471981417051470951470...</td>\n",
       "      <td>ThinkPad LaptopLightning Charging CableUSB-C C...</td>\n",
       "      <td>12362</td>\n",
       "      <td>2072194.77</td>\n",
       "      <td>01/01/19 14:0401/01/19 14:0601/01/19 14:0701/0...</td>\n",
       "      <td>493 Dogwood St, Seattle, WA 98101847 10th St, ...</td>\n",
       "      <td>77836</td>\n",
       "      <td>2083672.73</td>\n",
       "      <td>Seattle, WA Boston, MA Los Angeles, CA Austin...</td>\n",
       "    </tr>\n",
       "    <tr>\n",
       "      <th>15</th>\n",
       "      <td>1418551488291491631483561443011502081486581463...</td>\n",
       "      <td>ThinkPad LaptopBose SoundSport HeadphonesLight...</td>\n",
       "      <td>11391</td>\n",
       "      <td>1931174.99</td>\n",
       "      <td>01/01/19 15:0101/01/19 15:2501/01/19 15:2501/0...</td>\n",
       "      <td>549 Lincoln St, San Francisco, CA 94016899 Hig...</td>\n",
       "      <td>72060</td>\n",
       "      <td>1941549.60</td>\n",
       "      <td>San Francisco, CA San Francisco, CA Seattle, ...</td>\n",
       "    </tr>\n",
       "    <tr>\n",
       "      <th>16</th>\n",
       "      <td>1413291445961414071487671469101441431456041423...</td>\n",
       "      <td>USB-C Charging Cable34in Ultrawide MonitorAppl...</td>\n",
       "      <td>11662</td>\n",
       "      <td>1892454.54</td>\n",
       "      <td>01/01/19 16:0101/01/19 16:0501/01/19 16:0601/0...</td>\n",
       "      <td>122 5th St, Portland, ME 0410147 Hill St, Seat...</td>\n",
       "      <td>72939</td>\n",
       "      <td>1904601.31</td>\n",
       "      <td>Portland, ME Seattle, WA Portland, ME Austin,...</td>\n",
       "    </tr>\n",
       "    <tr>\n",
       "      <th>17</th>\n",
       "      <td>1500871476851448641433841443681480831475921415...</td>\n",
       "      <td>Macbook Pro LaptopAAA Batteries (4-pack)Apple ...</td>\n",
       "      <td>12229</td>\n",
       "      <td>2116777.02</td>\n",
       "      <td>01/01/19 17:0201/01/19 17:0401/01/19 17:0501/0...</td>\n",
       "      <td>276 Cedar St, Portland, OR 97035620 Willow St,...</td>\n",
       "      <td>77454</td>\n",
       "      <td>2129361.61</td>\n",
       "      <td>Portland, OR San Francisco, CA Dallas, TX Dal...</td>\n",
       "    </tr>\n",
       "    <tr>\n",
       "      <th>18</th>\n",
       "      <td>1486001448681441581431311476891469081423451425...</td>\n",
       "      <td>Bose SoundSport HeadphonesAA Batteries (4-pack...</td>\n",
       "      <td>13802</td>\n",
       "      <td>2207696.93</td>\n",
       "      <td>01/01/19 18:0201/01/19 18:0301/01/19 18:0401/0...</td>\n",
       "      <td>219 4th St, Boston, MA 02215565 Hill St, Bosto...</td>\n",
       "      <td>86421</td>\n",
       "      <td>2219348.30</td>\n",
       "      <td>Boston, MA Boston, MA San Francisco, CA Portl...</td>\n",
       "    </tr>\n",
       "    <tr>\n",
       "      <th>19</th>\n",
       "      <td>1429941429101480161476311500231427761463881484...</td>\n",
       "      <td>Lightning Charging CableAAA Batteries (4-pack)...</td>\n",
       "      <td>14470</td>\n",
       "      <td>2398588.31</td>\n",
       "      <td>01/01/19 19:0001/01/19 19:0001/01/19 19:0301/0...</td>\n",
       "      <td>971 8th St, San Francisco, CA 94016409 10th St...</td>\n",
       "      <td>91389</td>\n",
       "      <td>2412938.54</td>\n",
       "      <td>San Francisco, CA New York City, NY San Franc...</td>\n",
       "    </tr>\n",
       "    <tr>\n",
       "      <th>20</th>\n",
       "      <td>1437321435891443051417891417891468451498681434...</td>\n",
       "      <td>Macbook Pro LaptopUSB-C Charging CableUSB-C Ch...</td>\n",
       "      <td>13768</td>\n",
       "      <td>2268185.16</td>\n",
       "      <td>01/01/19 20:0401/01/19 20:1301/01/19 20:1301/0...</td>\n",
       "      <td>362 Maple St, Boston, MA 02215610 6th St, San ...</td>\n",
       "      <td>86375</td>\n",
       "      <td>2281716.24</td>\n",
       "      <td>Boston, MA San Francisco, CA Los Angeles, CA ...</td>\n",
       "    </tr>\n",
       "    <tr>\n",
       "      <th>21</th>\n",
       "      <td>1429961438631450221469151431471459441460221451...</td>\n",
       "      <td>AAA Batteries (4-pack)Lightning Charging Cable...</td>\n",
       "      <td>12244</td>\n",
       "      <td>2030763.83</td>\n",
       "      <td>01/01/19 21:0101/01/19 21:0801/01/19 21:1101/0...</td>\n",
       "      <td>402 Chestnut St, Boston, MA 02215884 Cherry St...</td>\n",
       "      <td>77103</td>\n",
       "      <td>2042000.86</td>\n",
       "      <td>Boston, MA Los Angeles, CA Seattle, WA New Yo...</td>\n",
       "    </tr>\n",
       "    <tr>\n",
       "      <th>22</th>\n",
       "      <td>1412601420661464031482461493861474441423351474...</td>\n",
       "      <td>AAA Batteries (4-pack)27in 4K Gaming MonitorAA...</td>\n",
       "      <td>9899</td>\n",
       "      <td>1599464.44</td>\n",
       "      <td>01/01/19 22:0001/01/19 22:0201/01/19 22:1101/0...</td>\n",
       "      <td>293 Hill St, San Francisco, CA 94016110 Dogwoo...</td>\n",
       "      <td>62088</td>\n",
       "      <td>1607549.21</td>\n",
       "      <td>San Francisco, CA Seattle, WA San Francisco, ...</td>\n",
       "    </tr>\n",
       "    <tr>\n",
       "      <th>23</th>\n",
       "      <td>1434841465101423211440161472131463801474141468...</td>\n",
       "      <td>Lightning Charging CableGoogle PhoneUSB-C Char...</td>\n",
       "      <td>7065</td>\n",
       "      <td>1172625.87</td>\n",
       "      <td>01/01/19 23:0701/01/19 23:0701/01/19 23:0801/0...</td>\n",
       "      <td>630 Adams St, New York City, NY 10001234 13th ...</td>\n",
       "      <td>44364</td>\n",
       "      <td>1179304.44</td>\n",
       "      <td>New York City, NY San Francisco, CA Austin, T...</td>\n",
       "    </tr>\n",
       "  </tbody>\n",
       "</table>\n",
       "</div>"
      ],
      "text/plain": [
       "                                                     Order ID  \\\n",
       "Order Time                                                      \n",
       "00          3113863113863023933007592978172978173083222971...   \n",
       "01          3055383168672990493153153100743066553145523140...   \n",
       "02          3078903120123068093168331487391452341443431425...   \n",
       "03          1472681480413193083069282983441477611451431451...   \n",
       "04          1493433081853041652991253058401500291500291449...   \n",
       "05          1499643005193005191501661449001449001461541503...   \n",
       "06          1493501417321496201424511442401453251481861469...   \n",
       "07          1460391434981413161448041448041452701427891480...   \n",
       "08          1449941421561503671494211437631450821475561477...   \n",
       "09          1459901421931503941445371475191464591421341499...   \n",
       "10          1499291461001433421436991495791425341489781455...   \n",
       "11          1479631416631470131442841475741437151413501465...   \n",
       "12          1480721484501484501436741465901494921415581422...   \n",
       "13          1453191444601499121492981438971427141450141502...   \n",
       "14          1495091446411474621471981471981417051470951470...   \n",
       "15          1418551488291491631483561443011502081486581463...   \n",
       "16          1413291445961414071487671469101441431456041423...   \n",
       "17          1500871476851448641433841443681480831475921415...   \n",
       "18          1486001448681441581431311476891469081423451425...   \n",
       "19          1429941429101480161476311500231427761463881484...   \n",
       "20          1437321435891443051417891417891468451498681434...   \n",
       "21          1429961438631450221469151431471459441460221451...   \n",
       "22          1412601420661464031482461493861474441423351474...   \n",
       "23          1434841465101423211440161472131463801474141468...   \n",
       "\n",
       "                                                      Product  \\\n",
       "Order Time                                                      \n",
       "00          Apple Airpods HeadphonesiPhoneLightning Chargi...   \n",
       "01          Apple Airpods Headphones27in FHD MonitorApple ...   \n",
       "02          Lightning Charging Cable27in FHD MonitorMacboo...   \n",
       "03          Wired HeadphonesUSB-C Charging CableUSB-C Char...   \n",
       "04          Apple Airpods Headphones27in FHD MonitorAAA Ba...   \n",
       "05          AAA Batteries (4-pack)Bose SoundSport Headphon...   \n",
       "06          USB-C Charging CableiPhoneLightning Charging C...   \n",
       "07          34in Ultrawide MonitorAA Batteries (4-pack)AAA...   \n",
       "08          ThinkPad Laptop34in Ultrawide MonitorLightning...   \n",
       "09          AAA Batteries (4-pack)27in FHD MonitorAAA Batt...   \n",
       "10          27in 4K Gaming MonitorWired HeadphonesUSB-C Ch...   \n",
       "11          Flatscreen TViPhoneAAA Batteries (4-pack)AAA B...   \n",
       "12          Flatscreen TVLightning Charging CableiPhoneWir...   \n",
       "13          Apple Airpods HeadphonesApple Airpods Headphon...   \n",
       "14          ThinkPad LaptopLightning Charging CableUSB-C C...   \n",
       "15          ThinkPad LaptopBose SoundSport HeadphonesLight...   \n",
       "16          USB-C Charging Cable34in Ultrawide MonitorAppl...   \n",
       "17          Macbook Pro LaptopAAA Batteries (4-pack)Apple ...   \n",
       "18          Bose SoundSport HeadphonesAA Batteries (4-pack...   \n",
       "19          Lightning Charging CableAAA Batteries (4-pack)...   \n",
       "20          Macbook Pro LaptopUSB-C Charging CableUSB-C Ch...   \n",
       "21          AAA Batteries (4-pack)Lightning Charging Cable...   \n",
       "22          AAA Batteries (4-pack)27in 4K Gaming MonitorAA...   \n",
       "23          Lightning Charging CableGoogle PhoneUSB-C Char...   \n",
       "\n",
       "            Quantity Ordered  Price Each  \\\n",
       "Order Time                                 \n",
       "00                      4428   709296.70   \n",
       "01                      2619   458490.00   \n",
       "02                      1398   233833.64   \n",
       "03                       928   144726.42   \n",
       "04                       937   162058.18   \n",
       "05                      1493   229621.21   \n",
       "06                      2810   445000.11   \n",
       "07                      4556   740568.11   \n",
       "08                      7002  1185970.62   \n",
       "09                      9816  1628498.49   \n",
       "10                     12308  1932665.62   \n",
       "11                     14005  2288855.18   \n",
       "12                     14202  2299876.68   \n",
       "13                     13685  2139743.86   \n",
       "14                     12362  2072194.77   \n",
       "15                     11391  1931174.99   \n",
       "16                     11662  1892454.54   \n",
       "17                     12229  2116777.02   \n",
       "18                     13802  2207696.93   \n",
       "19                     14470  2398588.31   \n",
       "20                     13768  2268185.16   \n",
       "21                     12244  2030763.83   \n",
       "22                      9899  1599464.44   \n",
       "23                      7065  1172625.87   \n",
       "\n",
       "                                                   Order Date  \\\n",
       "Order Time                                                      \n",
       "00          01/01/20 00:1001/01/20 00:1001/01/20 00:1401/0...   \n",
       "01          01/01/20 01:0001/01/20 01:0501/01/20 01:1701/0...   \n",
       "02          01/01/20 02:0601/01/20 02:1201/01/20 02:2001/0...   \n",
       "03          01/01/19 03:0701/01/19 03:4001/01/20 03:1301/0...   \n",
       "04          01/01/19 04:5601/01/20 04:0601/01/20 04:1301/0...   \n",
       "05          01/01/19 05:5301/01/20 05:1301/01/20 05:1301/0...   \n",
       "06          01/01/19 06:0301/01/19 06:1301/01/19 06:3401/0...   \n",
       "07          01/01/19 07:2401/01/19 07:2601/01/19 07:2601/0...   \n",
       "08          01/01/19 08:1301/01/19 08:1601/01/19 08:2501/0...   \n",
       "09          01/01/19 09:0301/01/19 09:0801/01/19 09:0801/0...   \n",
       "10          01/01/19 10:0201/01/19 10:0201/01/19 10:0601/0...   \n",
       "11          01/01/19 11:0001/01/19 11:0101/01/19 11:0701/0...   \n",
       "12          01/01/19 12:0001/01/19 12:0201/01/19 12:0201/0...   \n",
       "13          01/01/19 13:0501/01/19 13:0801/01/19 13:1001/0...   \n",
       "14          01/01/19 14:0401/01/19 14:0601/01/19 14:0701/0...   \n",
       "15          01/01/19 15:0101/01/19 15:2501/01/19 15:2501/0...   \n",
       "16          01/01/19 16:0101/01/19 16:0501/01/19 16:0601/0...   \n",
       "17          01/01/19 17:0201/01/19 17:0401/01/19 17:0501/0...   \n",
       "18          01/01/19 18:0201/01/19 18:0301/01/19 18:0401/0...   \n",
       "19          01/01/19 19:0001/01/19 19:0001/01/19 19:0301/0...   \n",
       "20          01/01/19 20:0401/01/19 20:1301/01/19 20:1301/0...   \n",
       "21          01/01/19 21:0101/01/19 21:0801/01/19 21:1101/0...   \n",
       "22          01/01/19 22:0001/01/19 22:0201/01/19 22:1101/0...   \n",
       "23          01/01/19 23:0701/01/19 23:0701/01/19 23:0801/0...   \n",
       "\n",
       "                                             Purchase Address  Month  \\\n",
       "Order Time                                                             \n",
       "00          730 Pine St, San Francisco, CA 94016730 Pine S...  27554   \n",
       "01          693 1st St, Portland, OR 97035137 Madison St, ...  16657   \n",
       "02          39 Pine St, New York City, NY 10001507 13th St...   8507   \n",
       "03          9 Lake St, New York City, NY 10001760 Church S...   5904   \n",
       "04          735 5th St, New York City, NY 10001202 Maple S...   6148   \n",
       "05          75 Jackson St, Dallas, TX 75001657 Spruce St, ...   9301   \n",
       "06          943 2nd St, Atlanta, GA 30301446 Pine St, Atla...  17539   \n",
       "07          53 River St, San Francisco, CA 94016428 Highla...  28850   \n",
       "08          903 Willow St, Los Angeles, CA 90001540 2nd St...  43626   \n",
       "09          325 Madison St, Dallas, TX 75001912 Cherry St,...  60981   \n",
       "10          167 Johnson St, New York City, NY 10001428 13t...  76928   \n",
       "11          655 Meadow St, Austin, TX 73301738 8th St, San...  87654   \n",
       "12          989 Center St, San Francisco, CA 94016761 Lake...  89161   \n",
       "13          905 River St, San Francisco, CA 94016624 5th S...  85808   \n",
       "14          493 Dogwood St, Seattle, WA 98101847 10th St, ...  77836   \n",
       "15          549 Lincoln St, San Francisco, CA 94016899 Hig...  72060   \n",
       "16          122 5th St, Portland, ME 0410147 Hill St, Seat...  72939   \n",
       "17          276 Cedar St, Portland, OR 97035620 Willow St,...  77454   \n",
       "18          219 4th St, Boston, MA 02215565 Hill St, Bosto...  86421   \n",
       "19          971 8th St, San Francisco, CA 94016409 10th St...  91389   \n",
       "20          362 Maple St, Boston, MA 02215610 6th St, San ...  86375   \n",
       "21          402 Chestnut St, Boston, MA 02215884 Cherry St...  77103   \n",
       "22          293 Hill St, San Francisco, CA 94016110 Dogwoo...  62088   \n",
       "23          630 Adams St, New York City, NY 10001234 13th ...  44364   \n",
       "\n",
       "                 Total                                               City  \n",
       "Order Time                                                                 \n",
       "00           713721.27   San Francisco, CA San Francisco, CA Boston, M...  \n",
       "01           460866.88   Portland, OR Seattle, WA San Francisco, CA Au...  \n",
       "02           234851.44   New York City, NY San Francisco, CA Dallas, T...  \n",
       "03           145757.89   New York City, NY San Francisco, CA Boston, M...  \n",
       "04           162661.01   New York City, NY San Francisco, CA Portland,...  \n",
       "05           230679.82   Dallas, TX New York City, NY New York City, N...  \n",
       "06           448113.00   Atlanta, GA Atlanta, GA San Francisco, CA Bos...  \n",
       "07           744854.12   San Francisco, CA New York City, NY Seattle, ...  \n",
       "08          1192348.97   Los Angeles, CA San Francisco, CA Los Angeles...  \n",
       "09          1639030.58   Dallas, TX Boston, MA Boston, MA Boston, MA S...  \n",
       "10          1944286.77   New York City, NY Austin, TX Portland, OR San...  \n",
       "11          2300610.24   Austin, TX San Francisco, CA Los Angeles, CA ...  \n",
       "12          2316821.34   San Francisco, CA Dallas, TX Dallas, TX Portl...  \n",
       "13          2155389.80   San Francisco, CA Los Angeles, CA Austin, TX ...  \n",
       "14          2083672.73   Seattle, WA Boston, MA Los Angeles, CA Austin...  \n",
       "15          1941549.60   San Francisco, CA San Francisco, CA Seattle, ...  \n",
       "16          1904601.31   Portland, ME Seattle, WA Portland, ME Austin,...  \n",
       "17          2129361.61   Portland, OR San Francisco, CA Dallas, TX Dal...  \n",
       "18          2219348.30   Boston, MA Boston, MA San Francisco, CA Portl...  \n",
       "19          2412938.54   San Francisco, CA New York City, NY San Franc...  \n",
       "20          2281716.24   Boston, MA San Francisco, CA Los Angeles, CA ...  \n",
       "21          2042000.86   Boston, MA Los Angeles, CA Seattle, WA New Yo...  \n",
       "22          1607549.21   San Francisco, CA Seattle, WA San Francisco, ...  \n",
       "23          1179304.44   New York City, NY San Francisco, CA Austin, T...  "
      ]
     },
     "execution_count": 17,
     "metadata": {},
     "output_type": "execute_result"
    }
   ],
   "source": [
    "order_group = all_data.groupby('Order Time').sum()\n",
    "order_group"
   ]
  },
  {
   "cell_type": "code",
   "execution_count": 18,
   "metadata": {},
   "outputs": [
    {
     "data": {
      "image/png": "[encoded data removed]",
      "text/plain": [
       "<Figure size 1200x600 with 1 Axes>"
      ]
     },
     "metadata": {},
     "output_type": "display_data"
    }
   ],
   "source": [
    "order_group.reset_index(inplace=True)\n",
    "\n",
    "# Create a bar chart\n",
    "plt.figure(figsize=(12, 6))\n",
    "plt.bar(order_group['Order Time'], order_group['Total'])\n",
    "plt.xlabel('Order Time')\n",
    "plt.ylabel('Total')\n",
    "plt.title('Total Sales by Order Time')\n",
    "plt.xticks(rotation=45)  # Rotate x-axis labels for better readability\n",
    "plt.show()\n"
   ]
  },
  {
   "cell_type": "code",
   "execution_count": 19,
   "metadata": {},
   "outputs": [
    {
     "data": {
      "application/vnd.plotly.v1+json": {
       "config": {
        "plotlyServerURL": "https://plot.ly"
       },
       "data": [
        {
         "alignmentgroup": "True",
         "hovertemplate": "Order Time=%{x}<br>Total=%{y}<extra></extra>",
         "legendgroup": "",
         "marker": {
          "color": "#636efa",
          "pattern": {
           "shape": ""
          }
         },
         "name": "",
         "offsetgroup": "",
         "orientation": "v",
         "showlegend": false,
         "textposition": "auto",
         "type": "bar",
         "x": [
          "00",
          "01",
          "02",
          "03",
          "04",
          "05",
          "06",
          "07",
          "08",
          "09",
          "10",
          "11",
          "12",
          "13",
          "14",
          "15",
          "16",
          "17",
          "18",
          "19",
          "20",
          "21",
          "22",
          "23"
         ],
         "xaxis": "x",
         "y": [
          713721.27,
          460866.88,
          234851.44,
          145757.89,
          162661.01,
          230679.82,
          448113,
          744854.12,
          1192348.97,
          1639030.58,
          1944286.77,
          2300610.24,
          2316821.34,
          2155389.8,
          2083672.73,
          1941549.6,
          1904601.31,
          2129361.61,
          2219348.3,
          2412938.54,
          2281716.24,
          2042000.86,
          1607549.21,
          1179304.44
         ],
         "yaxis": "y"
        }
       ],
       "layout": {
        "barmode": "relative",
        "legend": {
         "tracegroupgap": 0
        },
        "template": {
         "data": {
          "bar": [
           {
            "error_x": {
             "color": "#2a3f5f"
            },
            "error_y": {
             "color": "#2a3f5f"
            },
            "marker": {
             "line": {
              "color": "#E5ECF6",
              "width": 0.5
             },
             "pattern": {
              "fillmode": "overlay",
              "size": 10,
              "solidity": 0.2
             }
            },
            "type": "bar"
           }
          ],
          "barpolar": [
           {
            "marker": {
             "line": {
              "color": "#E5ECF6",
              "width": 0.5
             },
             "pattern": {
              "fillmode": "overlay",
              "size": 10,
              "solidity": 0.2
             }
            },
            "type": "barpolar"
           }
          ],
          "carpet": [
           {
            "aaxis": {
             "endlinecolor": "#2a3f5f",
             "gridcolor": "white",
             "linecolor": "white",
             "minorgridcolor": "white",
             "startlinecolor": "#2a3f5f"
            },
            "baxis": {
             "endlinecolor": "#2a3f5f",
             "gridcolor": "white",
             "linecolor": "white",
             "minorgridcolor": "white",
             "startlinecolor": "#2a3f5f"
            },
            "type": "carpet"
           }
          ],
          "choropleth": [
           {
            "colorbar": {
             "outlinewidth": 0,
             "ticks": ""
            },
            "type": "choropleth"
           }
          ],
          "contour": [
           {
            "colorbar": {
             "outlinewidth": 0,
             "ticks": ""
            },
            "colorscale": [
             [
              0,
              "#0d0887"
             ],
             [
              0.1111111111111111,
              "#46039f"
             ],
             [
              0.2222222222222222,
              "#7201a8"
             ],
             [
              0.3333333333333333,
              "#9c179e"
             ],
             [
              0.4444444444444444,
              "#bd3786"
             ],
             [
              0.5555555555555556,
              "#d8576b"
             ],
             [
              0.6666666666666666,
              "#ed7953"
             ],
             [
              0.7777777777777778,
              "#fb9f3a"
             ],
             [
              0.8888888888888888,
              "#fdca26"
             ],
             [
              1,
              "#f0f921"
             ]
            ],
            "type": "contour"
           }
          ],
          "contourcarpet": [
           {
            "colorbar": {
             "outlinewidth": 0,
             "ticks": ""
            },
            "type": "contourcarpet"
           }
          ],
          "heatmap": [
           {
            "colorbar": {
             "outlinewidth": 0,
             "ticks": ""
            },
            "colorscale": [
             [
              0,
              "#0d0887"
             ],
             [
              0.1111111111111111,
              "#46039f"
             ],
             [
              0.2222222222222222,
              "#7201a8"
             ],
             [
              0.3333333333333333,
              "#9c179e"
             ],
             [
              0.4444444444444444,
              "#bd3786"
             ],
             [
              0.5555555555555556,
              "#d8576b"
             ],
             [
              0.6666666666666666,
              "#ed7953"
             ],
             [
              0.7777777777777778,
              "#fb9f3a"
             ],
             [
              0.8888888888888888,
              "#fdca26"
             ],
             [
              1,
              "#f0f921"
             ]
            ],
            "type": "heatmap"
           }
          ],
          "heatmapgl": [
           {
            "colorbar": {
             "outlinewidth": 0,
             "ticks": ""
            },
            "colorscale": [
             [
              0,
              "#0d0887"
             ],
             [
              0.1111111111111111,
              "#46039f"
             ],
             [
              0.2222222222222222,
              "#7201a8"
             ],
             [
              0.3333333333333333,
              "#9c179e"
             ],
             [
              0.4444444444444444,
              "#bd3786"
             ],
             [
              0.5555555555555556,
              "#d8576b"
             ],
             [
              0.6666666666666666,
              "#ed7953"
             ],
             [
              0.7777777777777778,
              "#fb9f3a"
             ],
             [
              0.8888888888888888,
              "#fdca26"
             ],
             [
              1,
              "#f0f921"
             ]
            ],
            "type": "heatmapgl"
           }
          ],
          "histogram": [
           {
            "marker": {
             "pattern": {
              "fillmode": "overlay",
              "size": 10,
              "solidity": 0.2
             }
            },
            "type": "histogram"
           }
          ],
          "histogram2d": [
           {
            "colorbar": {
             "outlinewidth": 0,
             "ticks": ""
            },
            "colorscale": [
             [
              0,
              "#0d0887"
             ],
             [
              0.1111111111111111,
              "#46039f"
             ],
             [
              0.2222222222222222,
              "#7201a8"
             ],
             [
              0.3333333333333333,
              "#9c179e"
             ],
             [
              0.4444444444444444,
              "#bd3786"
             ],
             [
              0.5555555555555556,
              "#d8576b"
             ],
             [
              0.6666666666666666,
              "#ed7953"
             ],
             [
              0.7777777777777778,
              "#fb9f3a"
             ],
             [
              0.8888888888888888,
              "#fdca26"
             ],
             [
              1,
              "#f0f921"
             ]
            ],
            "type": "histogram2d"
           }
          ],
          "histogram2dcontour": [
           {
            "colorbar": {
             "outlinewidth": 0,
             "ticks": ""
            },
            "colorscale": [
             [
              0,
              "#0d0887"
             ],
             [
              0.1111111111111111,
              "#46039f"
             ],
             [
              0.2222222222222222,
              "#7201a8"
             ],
             [
              0.3333333333333333,
              "#9c179e"
             ],
             [
              0.4444444444444444,
              "#bd3786"
             ],
             [
              0.5555555555555556,
              "#d8576b"
             ],
             [
              0.6666666666666666,
              "#ed7953"
             ],
             [
              0.7777777777777778,
              "#fb9f3a"
             ],
             [
              0.8888888888888888,
              "#fdca26"
             ],
             [
              1,
              "#f0f921"
             ]
            ],
            "type": "histogram2dcontour"
           }
          ],
          "mesh3d": [
           {
            "colorbar": {
             "outlinewidth": 0,
             "ticks": ""
            },
            "type": "mesh3d"
           }
          ],
          "parcoords": [
           {
            "line": {
             "colorbar": {
              "outlinewidth": 0,
              "ticks": ""
             }
            },
            "type": "parcoords"
           }
          ],
          "pie": [
           {
            "automargin": true,
            "type": "pie"
           }
          ],
          "scatter": [
           {
            "fillpattern": {
             "fillmode": "overlay",
             "size": 10,
             "solidity": 0.2
            },
            "type": "scatter"
           }
          ],
          "scatter3d": [
           {
            "line": {
             "colorbar": {
              "outlinewidth": 0,
              "ticks": ""
             }
            },
            "marker": {
             "colorbar": {
              "outlinewidth": 0,
              "ticks": ""
             }
            },
            "type": "scatter3d"
           }
          ],
          "scattercarpet": [
           {
            "marker": {
             "colorbar": {
              "outlinewidth": 0,
              "ticks": ""
             }
            },
            "type": "scattercarpet"
           }
          ],
          "scattergeo": [
           {
            "marker": {
             "colorbar": {
              "outlinewidth": 0,
              "ticks": ""
             }
            },
            "type": "scattergeo"
           }
          ],
          "scattergl": [
           {
            "marker": {
             "colorbar": {
              "outlinewidth": 0,
              "ticks": ""
             }
            },
            "type": "scattergl"
           }
          ],
          "scattermapbox": [
           {
            "marker": {
             "colorbar": {
              "outlinewidth": 0,
              "ticks": ""
             }
            },
            "type": "scattermapbox"
           }
          ],
          "scatterpolar": [
           {
            "marker": {
             "colorbar": {
              "outlinewidth": 0,
              "ticks": ""
             }
            },
            "type": "scatterpolar"
           }
          ],
          "scatterpolargl": [
           {
            "marker": {
             "colorbar": {
              "outlinewidth": 0,
              "ticks": ""
             }
            },
            "type": "scatterpolargl"
           }
          ],
          "scatterternary": [
           {
            "marker": {
             "colorbar": {
              "outlinewidth": 0,
              "ticks": ""
             }
            },
            "type": "scatterternary"
           }
          ],
          "surface": [
           {
            "colorbar": {
             "outlinewidth": 0,
             "ticks": ""
            },
            "colorscale": [
             [
              0,
              "#0d0887"
             ],
             [
              0.1111111111111111,
              "#46039f"
             ],
             [
              0.2222222222222222,
              "#7201a8"
             ],
             [
              0.3333333333333333,
              "#9c179e"
             ],
             [
              0.4444444444444444,
              "#bd3786"
             ],
             [
              0.5555555555555556,
              "#d8576b"
             ],
             [
              0.6666666666666666,
              "#ed7953"
             ],
             [
              0.7777777777777778,
              "#fb9f3a"
             ],
             [
              0.8888888888888888,
              "#fdca26"
             ],
             [
              1,
              "#f0f921"
             ]
            ],
            "type": "surface"
           }
          ],
          "table": [
           {
            "cells": {
             "fill": {
              "color": "#EBF0F8"
             },
             "line": {
              "color": "white"
             }
            },
            "header": {
             "fill": {
              "color": "#C8D4E3"
             },
             "line": {
              "color": "white"
             }
            },
            "type": "table"
           }
          ]
         },
         "layout": {
          "annotationdefaults": {
           "arrowcolor": "#2a3f5f",
           "arrowhead": 0,
           "arrowwidth": 1
          },
          "autotypenumbers": "strict",
          "coloraxis": {
           "colorbar": {
            "outlinewidth": 0,
            "ticks": ""
           }
          },
          "colorscale": {
           "diverging": [
            [
             0,
             "#8e0152"
            ],
            [
             0.1,
             "#c51b7d"
            ],
            [
             0.2,
             "#de77ae"
            ],
            [
             0.3,
             "#f1b6da"
            ],
            [
             0.4,
             "#fde0ef"
            ],
            [
             0.5,
             "#f7f7f7"
            ],
            [
             0.6,
             "#e6f5d0"
            ],
            [
             0.7,
             "#b8e186"
            ],
            [
             0.8,
             "#7fbc41"
            ],
            [
             0.9,
             "#4d9221"
            ],
            [
             1,
             "#276419"
            ]
           ],
           "sequential": [
            [
             0,
             "#0d0887"
            ],
            [
             0.1111111111111111,
             "#46039f"
            ],
            [
             0.2222222222222222,
             "#7201a8"
            ],
            [
             0.3333333333333333,
             "#9c179e"
            ],
            [
             0.4444444444444444,
             "#bd3786"
            ],
            [
             0.5555555555555556,
             "#d8576b"
            ],
            [
             0.6666666666666666,
             "#ed7953"
            ],
            [
             0.7777777777777778,
             "#fb9f3a"
            ],
            [
             0.8888888888888888,
             "#fdca26"
            ],
            [
             1,
             "#f0f921"
            ]
           ],
           "sequentialminus": [
            [
             0,
             "#0d0887"
            ],
            [
             0.1111111111111111,
             "#46039f"
            ],
            [
             0.2222222222222222,
             "#7201a8"
            ],
            [
             0.3333333333333333,
             "#9c179e"
            ],
            [
             0.4444444444444444,
             "#bd3786"
            ],
            [
             0.5555555555555556,
             "#d8576b"
            ],
            [
             0.6666666666666666,
             "#ed7953"
            ],
            [
             0.7777777777777778,
             "#fb9f3a"
            ],
            [
             0.8888888888888888,
             "#fdca26"
            ],
            [
             1,
             "#f0f921"
            ]
           ]
          },
          "colorway": [
           "#636efa",
           "#EF553B",
           "#00cc96",
           "#ab63fa",
           "#FFA15A",
           "#19d3f3",
           "#FF6692",
           "#B6E880",
           "#FF97FF",
           "#FECB52"
          ],
          "font": {
           "color": "#2a3f5f"
          },
          "geo": {
           "bgcolor": "white",
           "lakecolor": "white",
           "landcolor": "#E5ECF6",
           "showlakes": true,
           "showland": true,
           "subunitcolor": "white"
          },
          "hoverlabel": {
           "align": "left"
          },
          "hovermode": "closest",
          "mapbox": {
           "style": "light"
          },
          "paper_bgcolor": "white",
          "plot_bgcolor": "#E5ECF6",
          "polar": {
           "angularaxis": {
            "gridcolor": "white",
            "linecolor": "white",
            "ticks": ""
           },
           "bgcolor": "#E5ECF6",
           "radialaxis": {
            "gridcolor": "white",
            "linecolor": "white",
            "ticks": ""
           }
          },
          "scene": {
           "xaxis": {
            "backgroundcolor": "#E5ECF6",
            "gridcolor": "white",
            "gridwidth": 2,
            "linecolor": "white",
            "showbackground": true,
            "ticks": "",
            "zerolinecolor": "white"
           },
           "yaxis": {
            "backgroundcolor": "#E5ECF6",
            "gridcolor": "white",
            "gridwidth": 2,
            "linecolor": "white",
            "showbackground": true,
            "ticks": "",
            "zerolinecolor": "white"
           },
           "zaxis": {
            "backgroundcolor": "#E5ECF6",
            "gridcolor": "white",
            "gridwidth": 2,
            "linecolor": "white",
            "showbackground": true,
            "ticks": "",
            "zerolinecolor": "white"
           }
          },
          "shapedefaults": {
           "line": {
            "color": "#2a3f5f"
           }
          },
          "ternary": {
           "aaxis": {
            "gridcolor": "white",
            "linecolor": "white",
            "ticks": ""
           },
           "baxis": {
            "gridcolor": "white",
            "linecolor": "white",
            "ticks": ""
           },
           "bgcolor": "#E5ECF6",
           "caxis": {
            "gridcolor": "white",
            "linecolor": "white",
            "ticks": ""
           }
          },
          "title": {
           "x": 0.05
          },
          "xaxis": {
           "automargin": true,
           "gridcolor": "white",
           "linecolor": "white",
           "ticks": "",
           "title": {
            "standoff": 15
           },
           "zerolinecolor": "white",
           "zerolinewidth": 2
          },
          "yaxis": {
           "automargin": true,
           "gridcolor": "white",
           "linecolor": "white",
           "ticks": "",
           "title": {
            "standoff": 15
           },
           "zerolinecolor": "white",
           "zerolinewidth": 2
          }
         }
        },
        "title": {
         "text": "Total Sales by Order Time"
        },
        "xaxis": {
         "anchor": "y",
         "domain": [
          0,
          1
         ],
         "title": {
          "text": "Order Time"
         }
        },
        "yaxis": {
         "anchor": "x",
         "domain": [
          0,
          1
         ],
         "title": {
          "text": "Total"
         }
        }
       }
      }
     },
     "metadata": {},
     "output_type": "display_data"
    }
   ],
   "source": [
    "import plotly.express as px\n",
    "\n",
    "# Assuming 'order_group' is your grouped DataFrame\n",
    "fig = px.bar(order_group.reset_index(), x='Order Time', y='Total', title='Total Sales by Order Time')\n",
    "# fig.update_xaxes(categoryorder='total ascending')  # Ensure the x-axis is ordered correctly\n",
    "fig.show()\n"
   ]
  },
  {
   "cell_type": "code",
   "execution_count": 20,
   "metadata": {},
   "outputs": [
    {
     "data": {
      "text/html": [
       "<div>\n",
       "<style scoped>\n",
       "    .dataframe tbody tr th:only-of-type {\n",
       "        vertical-align: middle;\n",
       "    }\n",
       "\n",
       "    .dataframe tbody tr th {\n",
       "        vertical-align: top;\n",
       "    }\n",
       "\n",
       "    .dataframe thead th {\n",
       "        text-align: right;\n",
       "    }\n",
       "</style>\n",
       "<table border=\"1\" class=\"dataframe\">\n",
       "  <thead>\n",
       "    <tr style=\"text-align: right;\">\n",
       "      <th></th>\n",
       "      <th>Order ID</th>\n",
       "      <th>Product</th>\n",
       "      <th>Quantity Ordered</th>\n",
       "      <th>Price Each</th>\n",
       "      <th>Order Date</th>\n",
       "      <th>Purchase Address</th>\n",
       "      <th>Month</th>\n",
       "      <th>Total</th>\n",
       "      <th>City</th>\n",
       "      <th>Order Time</th>\n",
       "    </tr>\n",
       "  </thead>\n",
       "  <tbody>\n",
       "    <tr>\n",
       "      <th>73891</th>\n",
       "      <td>147268</td>\n",
       "      <td>Wired Headphones</td>\n",
       "      <td>1</td>\n",
       "      <td>11.99</td>\n",
       "      <td>01/01/19 03:07</td>\n",
       "      <td>9 Lake St, New York City, NY 10001</td>\n",
       "      <td>1</td>\n",
       "      <td>11.99</td>\n",
       "      <td>New York City, NY</td>\n",
       "      <td>03</td>\n",
       "    </tr>\n",
       "    <tr>\n",
       "      <th>74701</th>\n",
       "      <td>148041</td>\n",
       "      <td>USB-C Charging Cable</td>\n",
       "      <td>1</td>\n",
       "      <td>11.95</td>\n",
       "      <td>01/01/19 03:40</td>\n",
       "      <td>760 Church St, San Francisco, CA 94016</td>\n",
       "      <td>1</td>\n",
       "      <td>11.95</td>\n",
       "      <td>San Francisco, CA</td>\n",
       "      <td>03</td>\n",
       "    </tr>\n",
       "    <tr>\n",
       "      <th>76054</th>\n",
       "      <td>149343</td>\n",
       "      <td>Apple Airpods Headphones</td>\n",
       "      <td>1</td>\n",
       "      <td>150.00</td>\n",
       "      <td>01/01/19 04:56</td>\n",
       "      <td>735 5th St, New York City, NY 10001</td>\n",
       "      <td>1</td>\n",
       "      <td>150.00</td>\n",
       "      <td>New York City, NY</td>\n",
       "      <td>04</td>\n",
       "    </tr>\n",
       "    <tr>\n",
       "      <th>76708</th>\n",
       "      <td>149964</td>\n",
       "      <td>AAA Batteries (4-pack)</td>\n",
       "      <td>1</td>\n",
       "      <td>2.99</td>\n",
       "      <td>01/01/19 05:53</td>\n",
       "      <td>75 Jackson St, Dallas, TX 75001</td>\n",
       "      <td>1</td>\n",
       "      <td>2.99</td>\n",
       "      <td>Dallas, TX</td>\n",
       "      <td>05</td>\n",
       "    </tr>\n",
       "    <tr>\n",
       "      <th>76061</th>\n",
       "      <td>149350</td>\n",
       "      <td>USB-C Charging Cable</td>\n",
       "      <td>2</td>\n",
       "      <td>11.95</td>\n",
       "      <td>01/01/19 06:03</td>\n",
       "      <td>943 2nd St, Atlanta, GA 30301</td>\n",
       "      <td>1</td>\n",
       "      <td>23.90</td>\n",
       "      <td>Atlanta, GA</td>\n",
       "      <td>06</td>\n",
       "    </tr>\n",
       "    <tr>\n",
       "      <th>...</th>\n",
       "      <td>...</td>\n",
       "      <td>...</td>\n",
       "      <td>...</td>\n",
       "      <td>...</td>\n",
       "      <td>...</td>\n",
       "      <td>...</td>\n",
       "      <td>...</td>\n",
       "      <td>...</td>\n",
       "      <td>...</td>\n",
       "      <td>...</td>\n",
       "    </tr>\n",
       "    <tr>\n",
       "      <th>33264</th>\n",
       "      <td>298406</td>\n",
       "      <td>AAA Batteries (4-pack)</td>\n",
       "      <td>2</td>\n",
       "      <td>2.99</td>\n",
       "      <td>12/31/19 23:42</td>\n",
       "      <td>30 Elm St, San Francisco, CA 94016</td>\n",
       "      <td>12</td>\n",
       "      <td>5.98</td>\n",
       "      <td>San Francisco, CA</td>\n",
       "      <td>23</td>\n",
       "    </tr>\n",
       "    <tr>\n",
       "      <th>32308</th>\n",
       "      <td>297481</td>\n",
       "      <td>AA Batteries (4-pack)</td>\n",
       "      <td>1</td>\n",
       "      <td>3.84</td>\n",
       "      <td>12/31/19 23:42</td>\n",
       "      <td>82 Hill St, Dallas, TX 75001</td>\n",
       "      <td>12</td>\n",
       "      <td>3.84</td>\n",
       "      <td>Dallas, TX</td>\n",
       "      <td>23</td>\n",
       "    </tr>\n",
       "    <tr>\n",
       "      <th>52781</th>\n",
       "      <td>317048</td>\n",
       "      <td>AAA Batteries (4-pack)</td>\n",
       "      <td>2</td>\n",
       "      <td>2.99</td>\n",
       "      <td>12/31/19 23:45</td>\n",
       "      <td>743 Adams St, San Francisco, CA 94016</td>\n",
       "      <td>12</td>\n",
       "      <td>5.98</td>\n",
       "      <td>San Francisco, CA</td>\n",
       "      <td>23</td>\n",
       "    </tr>\n",
       "    <tr>\n",
       "      <th>45172</th>\n",
       "      <td>309773</td>\n",
       "      <td>AAA Batteries (4-pack)</td>\n",
       "      <td>1</td>\n",
       "      <td>2.99</td>\n",
       "      <td>12/31/19 23:52</td>\n",
       "      <td>60 Hickory St, Los Angeles, CA 90001</td>\n",
       "      <td>12</td>\n",
       "      <td>2.99</td>\n",
       "      <td>Los Angeles, CA</td>\n",
       "      <td>23</td>\n",
       "    </tr>\n",
       "    <tr>\n",
       "      <th>32511</th>\n",
       "      <td>297674</td>\n",
       "      <td>AAA Batteries (4-pack)</td>\n",
       "      <td>1</td>\n",
       "      <td>2.99</td>\n",
       "      <td>12/31/19 23:53</td>\n",
       "      <td>425 Lake St, Portland, OR 97035</td>\n",
       "      <td>12</td>\n",
       "      <td>2.99</td>\n",
       "      <td>Portland, OR</td>\n",
       "      <td>23</td>\n",
       "    </tr>\n",
       "  </tbody>\n",
       "</table>\n",
       "<p>185950 rows × 10 columns</p>\n",
       "</div>"
      ],
      "text/plain": [
       "      Order ID                   Product  Quantity Ordered  Price Each  \\\n",
       "73891   147268          Wired Headphones                 1       11.99   \n",
       "74701   148041      USB-C Charging Cable                 1       11.95   \n",
       "76054   149343  Apple Airpods Headphones                 1      150.00   \n",
       "76708   149964    AAA Batteries (4-pack)                 1        2.99   \n",
       "76061   149350      USB-C Charging Cable                 2       11.95   \n",
       "...        ...                       ...               ...         ...   \n",
       "33264   298406    AAA Batteries (4-pack)                 2        2.99   \n",
       "32308   297481     AA Batteries (4-pack)                 1        3.84   \n",
       "52781   317048    AAA Batteries (4-pack)                 2        2.99   \n",
       "45172   309773    AAA Batteries (4-pack)                 1        2.99   \n",
       "32511   297674    AAA Batteries (4-pack)                 1        2.99   \n",
       "\n",
       "           Order Date                        Purchase Address  Month   Total  \\\n",
       "73891  01/01/19 03:07      9 Lake St, New York City, NY 10001      1   11.99   \n",
       "74701  01/01/19 03:40  760 Church St, San Francisco, CA 94016      1   11.95   \n",
       "76054  01/01/19 04:56     735 5th St, New York City, NY 10001      1  150.00   \n",
       "76708  01/01/19 05:53         75 Jackson St, Dallas, TX 75001      1    2.99   \n",
       "76061  01/01/19 06:03           943 2nd St, Atlanta, GA 30301      1   23.90   \n",
       "...               ...                                     ...    ...     ...   \n",
       "33264  12/31/19 23:42      30 Elm St, San Francisco, CA 94016     12    5.98   \n",
       "32308  12/31/19 23:42            82 Hill St, Dallas, TX 75001     12    3.84   \n",
       "52781  12/31/19 23:45   743 Adams St, San Francisco, CA 94016     12    5.98   \n",
       "45172  12/31/19 23:52    60 Hickory St, Los Angeles, CA 90001     12    2.99   \n",
       "32511  12/31/19 23:53         425 Lake St, Portland, OR 97035     12    2.99   \n",
       "\n",
       "                     City Order Time  \n",
       "73891   New York City, NY         03  \n",
       "74701   San Francisco, CA         03  \n",
       "76054   New York City, NY         04  \n",
       "76708          Dallas, TX         05  \n",
       "76061         Atlanta, GA         06  \n",
       "...                   ...        ...  \n",
       "33264   San Francisco, CA         23  \n",
       "32308          Dallas, TX         23  \n",
       "52781   San Francisco, CA         23  \n",
       "45172     Los Angeles, CA         23  \n",
       "32511        Portland, OR         23  \n",
       "\n",
       "[185950 rows x 10 columns]"
      ]
     },
     "execution_count": 20,
     "metadata": {},
     "output_type": "execute_result"
    }
   ],
   "source": [
    "all_data"
   ]
  },
  {
   "cell_type": "code",
   "execution_count": 21,
   "metadata": {},
   "outputs": [
    {
     "name": "stderr",
     "output_type": "stream",
     "text": [
      "C:\\Users\\beall\\AppData\\Local\\Temp\\ipykernel_14512\\1410441871.py:1: UserWarning:\n",
      "\n",
      "Could not infer format, so each element will be parsed individually, falling back to `dateutil`. To ensure parsing is consistent and as-expected, please specify a format.\n",
      "\n",
      "C:\\Users\\beall\\AppData\\Local\\Temp\\ipykernel_14512\\1410441871.py:1: SettingWithCopyWarning:\n",
      "\n",
      "\n",
      "A value is trying to be set on a copy of a slice from a DataFrame.\n",
      "Try using .loc[row_indexer,col_indexer] = value instead\n",
      "\n",
      "See the caveats in the documentation: https://pandas.pydata.org/pandas-docs/stable/user_guide/indexing.html#returning-a-view-versus-a-copy\n",
      "\n"
     ]
    },
    {
     "data": {
      "text/html": [
       "<div>\n",
       "<style scoped>\n",
       "    .dataframe tbody tr th:only-of-type {\n",
       "        vertical-align: middle;\n",
       "    }\n",
       "\n",
       "    .dataframe tbody tr th {\n",
       "        vertical-align: top;\n",
       "    }\n",
       "\n",
       "    .dataframe thead th {\n",
       "        text-align: right;\n",
       "    }\n",
       "</style>\n",
       "<table border=\"1\" class=\"dataframe\">\n",
       "  <thead>\n",
       "    <tr style=\"text-align: right;\">\n",
       "      <th></th>\n",
       "      <th>Order ID</th>\n",
       "      <th>Product</th>\n",
       "      <th>Quantity Ordered</th>\n",
       "      <th>Price Each</th>\n",
       "      <th>Order Date</th>\n",
       "      <th>Purchase Address</th>\n",
       "      <th>Month</th>\n",
       "      <th>Total</th>\n",
       "      <th>City</th>\n",
       "      <th>Order Time</th>\n",
       "    </tr>\n",
       "  </thead>\n",
       "  <tbody>\n",
       "    <tr>\n",
       "      <th>73891</th>\n",
       "      <td>147268</td>\n",
       "      <td>Wired Headphones</td>\n",
       "      <td>1</td>\n",
       "      <td>11.99</td>\n",
       "      <td>2019-01-01 03:07:00</td>\n",
       "      <td>9 Lake St, New York City, NY 10001</td>\n",
       "      <td>1</td>\n",
       "      <td>11.99</td>\n",
       "      <td>New York City, NY</td>\n",
       "      <td>03</td>\n",
       "    </tr>\n",
       "    <tr>\n",
       "      <th>74701</th>\n",
       "      <td>148041</td>\n",
       "      <td>USB-C Charging Cable</td>\n",
       "      <td>1</td>\n",
       "      <td>11.95</td>\n",
       "      <td>2019-01-01 03:40:00</td>\n",
       "      <td>760 Church St, San Francisco, CA 94016</td>\n",
       "      <td>1</td>\n",
       "      <td>11.95</td>\n",
       "      <td>San Francisco, CA</td>\n",
       "      <td>03</td>\n",
       "    </tr>\n",
       "    <tr>\n",
       "      <th>76054</th>\n",
       "      <td>149343</td>\n",
       "      <td>Apple Airpods Headphones</td>\n",
       "      <td>1</td>\n",
       "      <td>150.00</td>\n",
       "      <td>2019-01-01 04:56:00</td>\n",
       "      <td>735 5th St, New York City, NY 10001</td>\n",
       "      <td>1</td>\n",
       "      <td>150.00</td>\n",
       "      <td>New York City, NY</td>\n",
       "      <td>04</td>\n",
       "    </tr>\n",
       "    <tr>\n",
       "      <th>76708</th>\n",
       "      <td>149964</td>\n",
       "      <td>AAA Batteries (4-pack)</td>\n",
       "      <td>1</td>\n",
       "      <td>2.99</td>\n",
       "      <td>2019-01-01 05:53:00</td>\n",
       "      <td>75 Jackson St, Dallas, TX 75001</td>\n",
       "      <td>1</td>\n",
       "      <td>2.99</td>\n",
       "      <td>Dallas, TX</td>\n",
       "      <td>05</td>\n",
       "    </tr>\n",
       "    <tr>\n",
       "      <th>76061</th>\n",
       "      <td>149350</td>\n",
       "      <td>USB-C Charging Cable</td>\n",
       "      <td>2</td>\n",
       "      <td>11.95</td>\n",
       "      <td>2019-01-01 06:03:00</td>\n",
       "      <td>943 2nd St, Atlanta, GA 30301</td>\n",
       "      <td>1</td>\n",
       "      <td>23.90</td>\n",
       "      <td>Atlanta, GA</td>\n",
       "      <td>06</td>\n",
       "    </tr>\n",
       "    <tr>\n",
       "      <th>...</th>\n",
       "      <td>...</td>\n",
       "      <td>...</td>\n",
       "      <td>...</td>\n",
       "      <td>...</td>\n",
       "      <td>...</td>\n",
       "      <td>...</td>\n",
       "      <td>...</td>\n",
       "      <td>...</td>\n",
       "      <td>...</td>\n",
       "      <td>...</td>\n",
       "    </tr>\n",
       "    <tr>\n",
       "      <th>33264</th>\n",
       "      <td>298406</td>\n",
       "      <td>AAA Batteries (4-pack)</td>\n",
       "      <td>2</td>\n",
       "      <td>2.99</td>\n",
       "      <td>2019-12-31 23:42:00</td>\n",
       "      <td>30 Elm St, San Francisco, CA 94016</td>\n",
       "      <td>12</td>\n",
       "      <td>5.98</td>\n",
       "      <td>San Francisco, CA</td>\n",
       "      <td>23</td>\n",
       "    </tr>\n",
       "    <tr>\n",
       "      <th>32308</th>\n",
       "      <td>297481</td>\n",
       "      <td>AA Batteries (4-pack)</td>\n",
       "      <td>1</td>\n",
       "      <td>3.84</td>\n",
       "      <td>2019-12-31 23:42:00</td>\n",
       "      <td>82 Hill St, Dallas, TX 75001</td>\n",
       "      <td>12</td>\n",
       "      <td>3.84</td>\n",
       "      <td>Dallas, TX</td>\n",
       "      <td>23</td>\n",
       "    </tr>\n",
       "    <tr>\n",
       "      <th>52781</th>\n",
       "      <td>317048</td>\n",
       "      <td>AAA Batteries (4-pack)</td>\n",
       "      <td>2</td>\n",
       "      <td>2.99</td>\n",
       "      <td>2019-12-31 23:45:00</td>\n",
       "      <td>743 Adams St, San Francisco, CA 94016</td>\n",
       "      <td>12</td>\n",
       "      <td>5.98</td>\n",
       "      <td>San Francisco, CA</td>\n",
       "      <td>23</td>\n",
       "    </tr>\n",
       "    <tr>\n",
       "      <th>45172</th>\n",
       "      <td>309773</td>\n",
       "      <td>AAA Batteries (4-pack)</td>\n",
       "      <td>1</td>\n",
       "      <td>2.99</td>\n",
       "      <td>2019-12-31 23:52:00</td>\n",
       "      <td>60 Hickory St, Los Angeles, CA 90001</td>\n",
       "      <td>12</td>\n",
       "      <td>2.99</td>\n",
       "      <td>Los Angeles, CA</td>\n",
       "      <td>23</td>\n",
       "    </tr>\n",
       "    <tr>\n",
       "      <th>32511</th>\n",
       "      <td>297674</td>\n",
       "      <td>AAA Batteries (4-pack)</td>\n",
       "      <td>1</td>\n",
       "      <td>2.99</td>\n",
       "      <td>2019-12-31 23:53:00</td>\n",
       "      <td>425 Lake St, Portland, OR 97035</td>\n",
       "      <td>12</td>\n",
       "      <td>2.99</td>\n",
       "      <td>Portland, OR</td>\n",
       "      <td>23</td>\n",
       "    </tr>\n",
       "  </tbody>\n",
       "</table>\n",
       "<p>185950 rows × 10 columns</p>\n",
       "</div>"
      ],
      "text/plain": [
       "      Order ID                   Product  Quantity Ordered  Price Each  \\\n",
       "73891   147268          Wired Headphones                 1       11.99   \n",
       "74701   148041      USB-C Charging Cable                 1       11.95   \n",
       "76054   149343  Apple Airpods Headphones                 1      150.00   \n",
       "76708   149964    AAA Batteries (4-pack)                 1        2.99   \n",
       "76061   149350      USB-C Charging Cable                 2       11.95   \n",
       "...        ...                       ...               ...         ...   \n",
       "33264   298406    AAA Batteries (4-pack)                 2        2.99   \n",
       "32308   297481     AA Batteries (4-pack)                 1        3.84   \n",
       "52781   317048    AAA Batteries (4-pack)                 2        2.99   \n",
       "45172   309773    AAA Batteries (4-pack)                 1        2.99   \n",
       "32511   297674    AAA Batteries (4-pack)                 1        2.99   \n",
       "\n",
       "               Order Date                        Purchase Address  Month  \\\n",
       "73891 2019-01-01 03:07:00      9 Lake St, New York City, NY 10001      1   \n",
       "74701 2019-01-01 03:40:00  760 Church St, San Francisco, CA 94016      1   \n",
       "76054 2019-01-01 04:56:00     735 5th St, New York City, NY 10001      1   \n",
       "76708 2019-01-01 05:53:00         75 Jackson St, Dallas, TX 75001      1   \n",
       "76061 2019-01-01 06:03:00           943 2nd St, Atlanta, GA 30301      1   \n",
       "...                   ...                                     ...    ...   \n",
       "33264 2019-12-31 23:42:00      30 Elm St, San Francisco, CA 94016     12   \n",
       "32308 2019-12-31 23:42:00            82 Hill St, Dallas, TX 75001     12   \n",
       "52781 2019-12-31 23:45:00   743 Adams St, San Francisco, CA 94016     12   \n",
       "45172 2019-12-31 23:52:00    60 Hickory St, Los Angeles, CA 90001     12   \n",
       "32511 2019-12-31 23:53:00         425 Lake St, Portland, OR 97035     12   \n",
       "\n",
       "        Total                City Order Time  \n",
       "73891   11.99   New York City, NY         03  \n",
       "74701   11.95   San Francisco, CA         03  \n",
       "76054  150.00   New York City, NY         04  \n",
       "76708    2.99          Dallas, TX         05  \n",
       "76061   23.90         Atlanta, GA         06  \n",
       "...       ...                 ...        ...  \n",
       "33264    5.98   San Francisco, CA         23  \n",
       "32308    3.84          Dallas, TX         23  \n",
       "52781    5.98   San Francisco, CA         23  \n",
       "45172    2.99     Los Angeles, CA         23  \n",
       "32511    2.99        Portland, OR         23  \n",
       "\n",
       "[185950 rows x 10 columns]"
      ]
     },
     "execution_count": 21,
     "metadata": {},
     "output_type": "execute_result"
    }
   ],
   "source": [
    "all_data['Order Date'] = pd.to_datetime(all_data['Order Date'])\n",
    "all_data"
   ]
  },
  {
   "cell_type": "code",
   "execution_count": 22,
   "metadata": {},
   "outputs": [
    {
     "name": "stderr",
     "output_type": "stream",
     "text": [
      "C:\\Users\\beall\\AppData\\Local\\Temp\\ipykernel_14512\\3735371003.py:1: SettingWithCopyWarning:\n",
      "\n",
      "\n",
      "A value is trying to be set on a copy of a slice from a DataFrame.\n",
      "Try using .loc[row_indexer,col_indexer] = value instead\n",
      "\n",
      "See the caveats in the documentation: https://pandas.pydata.org/pandas-docs/stable/user_guide/indexing.html#returning-a-view-versus-a-copy\n",
      "\n"
     ]
    },
    {
     "data": {
      "text/html": [
       "<div>\n",
       "<style scoped>\n",
       "    .dataframe tbody tr th:only-of-type {\n",
       "        vertical-align: middle;\n",
       "    }\n",
       "\n",
       "    .dataframe tbody tr th {\n",
       "        vertical-align: top;\n",
       "    }\n",
       "\n",
       "    .dataframe thead th {\n",
       "        text-align: right;\n",
       "    }\n",
       "</style>\n",
       "<table border=\"1\" class=\"dataframe\">\n",
       "  <thead>\n",
       "    <tr style=\"text-align: right;\">\n",
       "      <th></th>\n",
       "      <th>Order ID</th>\n",
       "      <th>Product</th>\n",
       "      <th>Quantity Ordered</th>\n",
       "      <th>Price Each</th>\n",
       "      <th>Order Date</th>\n",
       "      <th>Purchase Address</th>\n",
       "      <th>Month</th>\n",
       "      <th>Total</th>\n",
       "      <th>City</th>\n",
       "      <th>Order Time</th>\n",
       "      <th>hm</th>\n",
       "    </tr>\n",
       "  </thead>\n",
       "  <tbody>\n",
       "    <tr>\n",
       "      <th>73891</th>\n",
       "      <td>147268</td>\n",
       "      <td>Wired Headphones</td>\n",
       "      <td>1</td>\n",
       "      <td>11.99</td>\n",
       "      <td>2019-01-01 03:07:00</td>\n",
       "      <td>9 Lake St, New York City, NY 10001</td>\n",
       "      <td>1</td>\n",
       "      <td>11.99</td>\n",
       "      <td>New York City, NY</td>\n",
       "      <td>03</td>\n",
       "      <td>03:07</td>\n",
       "    </tr>\n",
       "    <tr>\n",
       "      <th>74701</th>\n",
       "      <td>148041</td>\n",
       "      <td>USB-C Charging Cable</td>\n",
       "      <td>1</td>\n",
       "      <td>11.95</td>\n",
       "      <td>2019-01-01 03:40:00</td>\n",
       "      <td>760 Church St, San Francisco, CA 94016</td>\n",
       "      <td>1</td>\n",
       "      <td>11.95</td>\n",
       "      <td>San Francisco, CA</td>\n",
       "      <td>03</td>\n",
       "      <td>03:40</td>\n",
       "    </tr>\n",
       "    <tr>\n",
       "      <th>76054</th>\n",
       "      <td>149343</td>\n",
       "      <td>Apple Airpods Headphones</td>\n",
       "      <td>1</td>\n",
       "      <td>150.00</td>\n",
       "      <td>2019-01-01 04:56:00</td>\n",
       "      <td>735 5th St, New York City, NY 10001</td>\n",
       "      <td>1</td>\n",
       "      <td>150.00</td>\n",
       "      <td>New York City, NY</td>\n",
       "      <td>04</td>\n",
       "      <td>04:56</td>\n",
       "    </tr>\n",
       "    <tr>\n",
       "      <th>76708</th>\n",
       "      <td>149964</td>\n",
       "      <td>AAA Batteries (4-pack)</td>\n",
       "      <td>1</td>\n",
       "      <td>2.99</td>\n",
       "      <td>2019-01-01 05:53:00</td>\n",
       "      <td>75 Jackson St, Dallas, TX 75001</td>\n",
       "      <td>1</td>\n",
       "      <td>2.99</td>\n",
       "      <td>Dallas, TX</td>\n",
       "      <td>05</td>\n",
       "      <td>05:53</td>\n",
       "    </tr>\n",
       "    <tr>\n",
       "      <th>76061</th>\n",
       "      <td>149350</td>\n",
       "      <td>USB-C Charging Cable</td>\n",
       "      <td>2</td>\n",
       "      <td>11.95</td>\n",
       "      <td>2019-01-01 06:03:00</td>\n",
       "      <td>943 2nd St, Atlanta, GA 30301</td>\n",
       "      <td>1</td>\n",
       "      <td>23.90</td>\n",
       "      <td>Atlanta, GA</td>\n",
       "      <td>06</td>\n",
       "      <td>06:03</td>\n",
       "    </tr>\n",
       "    <tr>\n",
       "      <th>...</th>\n",
       "      <td>...</td>\n",
       "      <td>...</td>\n",
       "      <td>...</td>\n",
       "      <td>...</td>\n",
       "      <td>...</td>\n",
       "      <td>...</td>\n",
       "      <td>...</td>\n",
       "      <td>...</td>\n",
       "      <td>...</td>\n",
       "      <td>...</td>\n",
       "      <td>...</td>\n",
       "    </tr>\n",
       "    <tr>\n",
       "      <th>33264</th>\n",
       "      <td>298406</td>\n",
       "      <td>AAA Batteries (4-pack)</td>\n",
       "      <td>2</td>\n",
       "      <td>2.99</td>\n",
       "      <td>2019-12-31 23:42:00</td>\n",
       "      <td>30 Elm St, San Francisco, CA 94016</td>\n",
       "      <td>12</td>\n",
       "      <td>5.98</td>\n",
       "      <td>San Francisco, CA</td>\n",
       "      <td>23</td>\n",
       "      <td>23:42</td>\n",
       "    </tr>\n",
       "    <tr>\n",
       "      <th>32308</th>\n",
       "      <td>297481</td>\n",
       "      <td>AA Batteries (4-pack)</td>\n",
       "      <td>1</td>\n",
       "      <td>3.84</td>\n",
       "      <td>2019-12-31 23:42:00</td>\n",
       "      <td>82 Hill St, Dallas, TX 75001</td>\n",
       "      <td>12</td>\n",
       "      <td>3.84</td>\n",
       "      <td>Dallas, TX</td>\n",
       "      <td>23</td>\n",
       "      <td>23:42</td>\n",
       "    </tr>\n",
       "    <tr>\n",
       "      <th>52781</th>\n",
       "      <td>317048</td>\n",
       "      <td>AAA Batteries (4-pack)</td>\n",
       "      <td>2</td>\n",
       "      <td>2.99</td>\n",
       "      <td>2019-12-31 23:45:00</td>\n",
       "      <td>743 Adams St, San Francisco, CA 94016</td>\n",
       "      <td>12</td>\n",
       "      <td>5.98</td>\n",
       "      <td>San Francisco, CA</td>\n",
       "      <td>23</td>\n",
       "      <td>23:45</td>\n",
       "    </tr>\n",
       "    <tr>\n",
       "      <th>45172</th>\n",
       "      <td>309773</td>\n",
       "      <td>AAA Batteries (4-pack)</td>\n",
       "      <td>1</td>\n",
       "      <td>2.99</td>\n",
       "      <td>2019-12-31 23:52:00</td>\n",
       "      <td>60 Hickory St, Los Angeles, CA 90001</td>\n",
       "      <td>12</td>\n",
       "      <td>2.99</td>\n",
       "      <td>Los Angeles, CA</td>\n",
       "      <td>23</td>\n",
       "      <td>23:52</td>\n",
       "    </tr>\n",
       "    <tr>\n",
       "      <th>32511</th>\n",
       "      <td>297674</td>\n",
       "      <td>AAA Batteries (4-pack)</td>\n",
       "      <td>1</td>\n",
       "      <td>2.99</td>\n",
       "      <td>2019-12-31 23:53:00</td>\n",
       "      <td>425 Lake St, Portland, OR 97035</td>\n",
       "      <td>12</td>\n",
       "      <td>2.99</td>\n",
       "      <td>Portland, OR</td>\n",
       "      <td>23</td>\n",
       "      <td>23:53</td>\n",
       "    </tr>\n",
       "  </tbody>\n",
       "</table>\n",
       "<p>185950 rows × 11 columns</p>\n",
       "</div>"
      ],
      "text/plain": [
       "      Order ID                   Product  Quantity Ordered  Price Each  \\\n",
       "73891   147268          Wired Headphones                 1       11.99   \n",
       "74701   148041      USB-C Charging Cable                 1       11.95   \n",
       "76054   149343  Apple Airpods Headphones                 1      150.00   \n",
       "76708   149964    AAA Batteries (4-pack)                 1        2.99   \n",
       "76061   149350      USB-C Charging Cable                 2       11.95   \n",
       "...        ...                       ...               ...         ...   \n",
       "33264   298406    AAA Batteries (4-pack)                 2        2.99   \n",
       "32308   297481     AA Batteries (4-pack)                 1        3.84   \n",
       "52781   317048    AAA Batteries (4-pack)                 2        2.99   \n",
       "45172   309773    AAA Batteries (4-pack)                 1        2.99   \n",
       "32511   297674    AAA Batteries (4-pack)                 1        2.99   \n",
       "\n",
       "               Order Date                        Purchase Address  Month  \\\n",
       "73891 2019-01-01 03:07:00      9 Lake St, New York City, NY 10001      1   \n",
       "74701 2019-01-01 03:40:00  760 Church St, San Francisco, CA 94016      1   \n",
       "76054 2019-01-01 04:56:00     735 5th St, New York City, NY 10001      1   \n",
       "76708 2019-01-01 05:53:00         75 Jackson St, Dallas, TX 75001      1   \n",
       "76061 2019-01-01 06:03:00           943 2nd St, Atlanta, GA 30301      1   \n",
       "...                   ...                                     ...    ...   \n",
       "33264 2019-12-31 23:42:00      30 Elm St, San Francisco, CA 94016     12   \n",
       "32308 2019-12-31 23:42:00            82 Hill St, Dallas, TX 75001     12   \n",
       "52781 2019-12-31 23:45:00   743 Adams St, San Francisco, CA 94016     12   \n",
       "45172 2019-12-31 23:52:00    60 Hickory St, Los Angeles, CA 90001     12   \n",
       "32511 2019-12-31 23:53:00         425 Lake St, Portland, OR 97035     12   \n",
       "\n",
       "        Total                City Order Time     hm  \n",
       "73891   11.99   New York City, NY         03  03:07  \n",
       "74701   11.95   San Francisco, CA         03  03:40  \n",
       "76054  150.00   New York City, NY         04  04:56  \n",
       "76708    2.99          Dallas, TX         05  05:53  \n",
       "76061   23.90         Atlanta, GA         06  06:03  \n",
       "...       ...                 ...        ...    ...  \n",
       "33264    5.98   San Francisco, CA         23  23:42  \n",
       "32308    3.84          Dallas, TX         23  23:42  \n",
       "52781    5.98   San Francisco, CA         23  23:45  \n",
       "45172    2.99     Los Angeles, CA         23  23:52  \n",
       "32511    2.99        Portland, OR         23  23:53  \n",
       "\n",
       "[185950 rows x 11 columns]"
      ]
     },
     "execution_count": 22,
     "metadata": {},
     "output_type": "execute_result"
    }
   ],
   "source": [
    "all_data['hm'] = all_data['Order Date'].dt.strftime('%H:%M')\n",
    "all_data"
   ]
  },
  {
   "cell_type": "code",
   "execution_count": 23,
   "metadata": {},
   "outputs": [
    {
     "data": {
      "application/vnd.plotly.v1+json": {
       "config": {
        "plotlyServerURL": "https://plot.ly"
       },
       "data": [
        {
         "hovertemplate": "Order Time=%{x}<br>Total=%{y}<extra></extra>",
         "legendgroup": "",
         "line": {
          "color": "#636efa",
          "dash": "solid"
         },
         "marker": {
          "symbol": "circle"
         },
         "mode": "lines",
         "name": "",
         "orientation": "v",
         "showlegend": false,
         "type": "scatter",
         "x": [
          "00",
          "01",
          "02",
          "03",
          "04",
          "05",
          "06",
          "07",
          "08",
          "09",
          "10",
          "11",
          "12",
          "13",
          "14",
          "15",
          "16",
          "17",
          "18",
          "19",
          "20",
          "21",
          "22",
          "23"
         ],
         "xaxis": "x",
         "y": [
          713721.27,
          460866.88,
          234851.44,
          145757.89,
          162661.01,
          230679.82,
          448113,
          744854.12,
          1192348.97,
          1639030.58,
          1944286.77,
          2300610.24,
          2316821.34,
          2155389.8,
          2083672.73,
          1941549.6,
          1904601.31,
          2129361.61,
          2219348.3,
          2412938.54,
          2281716.24,
          2042000.86,
          1607549.21,
          1179304.44
         ],
         "yaxis": "y"
        }
       ],
       "layout": {
        "legend": {
         "tracegroupgap": 0
        },
        "template": {
         "data": {
          "bar": [
           {
            "error_x": {
             "color": "#2a3f5f"
            },
            "error_y": {
             "color": "#2a3f5f"
            },
            "marker": {
             "line": {
              "color": "#E5ECF6",
              "width": 0.5
             },
             "pattern": {
              "fillmode": "overlay",
              "size": 10,
              "solidity": 0.2
             }
            },
            "type": "bar"
           }
          ],
          "barpolar": [
           {
            "marker": {
             "line": {
              "color": "#E5ECF6",
              "width": 0.5
             },
             "pattern": {
              "fillmode": "overlay",
              "size": 10,
              "solidity": 0.2
             }
            },
            "type": "barpolar"
           }
          ],
          "carpet": [
           {
            "aaxis": {
             "endlinecolor": "#2a3f5f",
             "gridcolor": "white",
             "linecolor": "white",
             "minorgridcolor": "white",
             "startlinecolor": "#2a3f5f"
            },
            "baxis": {
             "endlinecolor": "#2a3f5f",
             "gridcolor": "white",
             "linecolor": "white",
             "minorgridcolor": "white",
             "startlinecolor": "#2a3f5f"
            },
            "type": "carpet"
           }
          ],
          "choropleth": [
           {
            "colorbar": {
             "outlinewidth": 0,
             "ticks": ""
            },
            "type": "choropleth"
           }
          ],
          "contour": [
           {
            "colorbar": {
             "outlinewidth": 0,
             "ticks": ""
            },
            "colorscale": [
             [
              0,
              "#0d0887"
             ],
             [
              0.1111111111111111,
              "#46039f"
             ],
             [
              0.2222222222222222,
              "#7201a8"
             ],
             [
              0.3333333333333333,
              "#9c179e"
             ],
             [
              0.4444444444444444,
              "#bd3786"
             ],
             [
              0.5555555555555556,
              "#d8576b"
             ],
             [
              0.6666666666666666,
              "#ed7953"
             ],
             [
              0.7777777777777778,
              "#fb9f3a"
             ],
             [
              0.8888888888888888,
              "#fdca26"
             ],
             [
              1,
              "#f0f921"
             ]
            ],
            "type": "contour"
           }
          ],
          "contourcarpet": [
           {
            "colorbar": {
             "outlinewidth": 0,
             "ticks": ""
            },
            "type": "contourcarpet"
           }
          ],
          "heatmap": [
           {
            "colorbar": {
             "outlinewidth": 0,
             "ticks": ""
            },
            "colorscale": [
             [
              0,
              "#0d0887"
             ],
             [
              0.1111111111111111,
              "#46039f"
             ],
             [
              0.2222222222222222,
              "#7201a8"
             ],
             [
              0.3333333333333333,
              "#9c179e"
             ],
             [
              0.4444444444444444,
              "#bd3786"
             ],
             [
              0.5555555555555556,
              "#d8576b"
             ],
             [
              0.6666666666666666,
              "#ed7953"
             ],
             [
              0.7777777777777778,
              "#fb9f3a"
             ],
             [
              0.8888888888888888,
              "#fdca26"
             ],
             [
              1,
              "#f0f921"
             ]
            ],
            "type": "heatmap"
           }
          ],
          "heatmapgl": [
           {
            "colorbar": {
             "outlinewidth": 0,
             "ticks": ""
            },
            "colorscale": [
             [
              0,
              "#0d0887"
             ],
             [
              0.1111111111111111,
              "#46039f"
             ],
             [
              0.2222222222222222,
              "#7201a8"
             ],
             [
              0.3333333333333333,
              "#9c179e"
             ],
             [
              0.4444444444444444,
              "#bd3786"
             ],
             [
              0.5555555555555556,
              "#d8576b"
             ],
             [
              0.6666666666666666,
              "#ed7953"
             ],
             [
              0.7777777777777778,
              "#fb9f3a"
             ],
             [
              0.8888888888888888,
              "#fdca26"
             ],
             [
              1,
              "#f0f921"
             ]
            ],
            "type": "heatmapgl"
           }
          ],
          "histogram": [
           {
            "marker": {
             "pattern": {
              "fillmode": "overlay",
              "size": 10,
              "solidity": 0.2
             }
            },
            "type": "histogram"
           }
          ],
          "histogram2d": [
           {
            "colorbar": {
             "outlinewidth": 0,
             "ticks": ""
            },
            "colorscale": [
             [
              0,
              "#0d0887"
             ],
             [
              0.1111111111111111,
              "#46039f"
             ],
             [
              0.2222222222222222,
              "#7201a8"
             ],
             [
              0.3333333333333333,
              "#9c179e"
             ],
             [
              0.4444444444444444,
              "#bd3786"
             ],
             [
              0.5555555555555556,
              "#d8576b"
             ],
             [
              0.6666666666666666,
              "#ed7953"
             ],
             [
              0.7777777777777778,
              "#fb9f3a"
             ],
             [
              0.8888888888888888,
              "#fdca26"
             ],
             [
              1,
              "#f0f921"
             ]
            ],
            "type": "histogram2d"
           }
          ],
          "histogram2dcontour": [
           {
            "colorbar": {
             "outlinewidth": 0,
             "ticks": ""
            },
            "colorscale": [
             [
              0,
              "#0d0887"
             ],
             [
              0.1111111111111111,
              "#46039f"
             ],
             [
              0.2222222222222222,
              "#7201a8"
             ],
             [
              0.3333333333333333,
              "#9c179e"
             ],
             [
              0.4444444444444444,
              "#bd3786"
             ],
             [
              0.5555555555555556,
              "#d8576b"
             ],
             [
              0.6666666666666666,
              "#ed7953"
             ],
             [
              0.7777777777777778,
              "#fb9f3a"
             ],
             [
              0.8888888888888888,
              "#fdca26"
             ],
             [
              1,
              "#f0f921"
             ]
            ],
            "type": "histogram2dcontour"
           }
          ],
          "mesh3d": [
           {
            "colorbar": {
             "outlinewidth": 0,
             "ticks": ""
            },
            "type": "mesh3d"
           }
          ],
          "parcoords": [
           {
            "line": {
             "colorbar": {
              "outlinewidth": 0,
              "ticks": ""
             }
            },
            "type": "parcoords"
           }
          ],
          "pie": [
           {
            "automargin": true,
            "type": "pie"
           }
          ],
          "scatter": [
           {
            "fillpattern": {
             "fillmode": "overlay",
             "size": 10,
             "solidity": 0.2
            },
            "type": "scatter"
           }
          ],
          "scatter3d": [
           {
            "line": {
             "colorbar": {
              "outlinewidth": 0,
              "ticks": ""
             }
            },
            "marker": {
             "colorbar": {
              "outlinewidth": 0,
              "ticks": ""
             }
            },
            "type": "scatter3d"
           }
          ],
          "scattercarpet": [
           {
            "marker": {
             "colorbar": {
              "outlinewidth": 0,
              "ticks": ""
             }
            },
            "type": "scattercarpet"
           }
          ],
          "scattergeo": [
           {
            "marker": {
             "colorbar": {
              "outlinewidth": 0,
              "ticks": ""
             }
            },
            "type": "scattergeo"
           }
          ],
          "scattergl": [
           {
            "marker": {
             "colorbar": {
              "outlinewidth": 0,
              "ticks": ""
             }
            },
            "type": "scattergl"
           }
          ],
          "scattermapbox": [
           {
            "marker": {
             "colorbar": {
              "outlinewidth": 0,
              "ticks": ""
             }
            },
            "type": "scattermapbox"
           }
          ],
          "scatterpolar": [
           {
            "marker": {
             "colorbar": {
              "outlinewidth": 0,
              "ticks": ""
             }
            },
            "type": "scatterpolar"
           }
          ],
          "scatterpolargl": [
           {
            "marker": {
             "colorbar": {
              "outlinewidth": 0,
              "ticks": ""
             }
            },
            "type": "scatterpolargl"
           }
          ],
          "scatterternary": [
           {
            "marker": {
             "colorbar": {
              "outlinewidth": 0,
              "ticks": ""
             }
            },
            "type": "scatterternary"
           }
          ],
          "surface": [
           {
            "colorbar": {
             "outlinewidth": 0,
             "ticks": ""
            },
            "colorscale": [
             [
              0,
              "#0d0887"
             ],
             [
              0.1111111111111111,
              "#46039f"
             ],
             [
              0.2222222222222222,
              "#7201a8"
             ],
             [
              0.3333333333333333,
              "#9c179e"
             ],
             [
              0.4444444444444444,
              "#bd3786"
             ],
             [
              0.5555555555555556,
              "#d8576b"
             ],
             [
              0.6666666666666666,
              "#ed7953"
             ],
             [
              0.7777777777777778,
              "#fb9f3a"
             ],
             [
              0.8888888888888888,
              "#fdca26"
             ],
             [
              1,
              "#f0f921"
             ]
            ],
            "type": "surface"
           }
          ],
          "table": [
           {
            "cells": {
             "fill": {
              "color": "#EBF0F8"
             },
             "line": {
              "color": "white"
             }
            },
            "header": {
             "fill": {
              "color": "#C8D4E3"
             },
             "line": {
              "color": "white"
             }
            },
            "type": "table"
           }
          ]
         },
         "layout": {
          "annotationdefaults": {
           "arrowcolor": "#2a3f5f",
           "arrowhead": 0,
           "arrowwidth": 1
          },
          "autotypenumbers": "strict",
          "coloraxis": {
           "colorbar": {
            "outlinewidth": 0,
            "ticks": ""
           }
          },
          "colorscale": {
           "diverging": [
            [
             0,
             "#8e0152"
            ],
            [
             0.1,
             "#c51b7d"
            ],
            [
             0.2,
             "#de77ae"
            ],
            [
             0.3,
             "#f1b6da"
            ],
            [
             0.4,
             "#fde0ef"
            ],
            [
             0.5,
             "#f7f7f7"
            ],
            [
             0.6,
             "#e6f5d0"
            ],
            [
             0.7,
             "#b8e186"
            ],
            [
             0.8,
             "#7fbc41"
            ],
            [
             0.9,
             "#4d9221"
            ],
            [
             1,
             "#276419"
            ]
           ],
           "sequential": [
            [
             0,
             "#0d0887"
            ],
            [
             0.1111111111111111,
             "#46039f"
            ],
            [
             0.2222222222222222,
             "#7201a8"
            ],
            [
             0.3333333333333333,
             "#9c179e"
            ],
            [
             0.4444444444444444,
             "#bd3786"
            ],
            [
             0.5555555555555556,
             "#d8576b"
            ],
            [
             0.6666666666666666,
             "#ed7953"
            ],
            [
             0.7777777777777778,
             "#fb9f3a"
            ],
            [
             0.8888888888888888,
             "#fdca26"
            ],
            [
             1,
             "#f0f921"
            ]
           ],
           "sequentialminus": [
            [
             0,
             "#0d0887"
            ],
            [
             0.1111111111111111,
             "#46039f"
            ],
            [
             0.2222222222222222,
             "#7201a8"
            ],
            [
             0.3333333333333333,
             "#9c179e"
            ],
            [
             0.4444444444444444,
             "#bd3786"
            ],
            [
             0.5555555555555556,
             "#d8576b"
            ],
            [
             0.6666666666666666,
             "#ed7953"
            ],
            [
             0.7777777777777778,
             "#fb9f3a"
            ],
            [
             0.8888888888888888,
             "#fdca26"
            ],
            [
             1,
             "#f0f921"
            ]
           ]
          },
          "colorway": [
           "#636efa",
           "#EF553B",
           "#00cc96",
           "#ab63fa",
           "#FFA15A",
           "#19d3f3",
           "#FF6692",
           "#B6E880",
           "#FF97FF",
           "#FECB52"
          ],
          "font": {
           "color": "#2a3f5f"
          },
          "geo": {
           "bgcolor": "white",
           "lakecolor": "white",
           "landcolor": "#E5ECF6",
           "showlakes": true,
           "showland": true,
           "subunitcolor": "white"
          },
          "hoverlabel": {
           "align": "left"
          },
          "hovermode": "closest",
          "mapbox": {
           "style": "light"
          },
          "paper_bgcolor": "white",
          "plot_bgcolor": "#E5ECF6",
          "polar": {
           "angularaxis": {
            "gridcolor": "white",
            "linecolor": "white",
            "ticks": ""
           },
           "bgcolor": "#E5ECF6",
           "radialaxis": {
            "gridcolor": "white",
            "linecolor": "white",
            "ticks": ""
           }
          },
          "scene": {
           "xaxis": {
            "backgroundcolor": "#E5ECF6",
            "gridcolor": "white",
            "gridwidth": 2,
            "linecolor": "white",
            "showbackground": true,
            "ticks": "",
            "zerolinecolor": "white"
           },
           "yaxis": {
            "backgroundcolor": "#E5ECF6",
            "gridcolor": "white",
            "gridwidth": 2,
            "linecolor": "white",
            "showbackground": true,
            "ticks": "",
            "zerolinecolor": "white"
           },
           "zaxis": {
            "backgroundcolor": "#E5ECF6",
            "gridcolor": "white",
            "gridwidth": 2,
            "linecolor": "white",
            "showbackground": true,
            "ticks": "",
            "zerolinecolor": "white"
           }
          },
          "shapedefaults": {
           "line": {
            "color": "#2a3f5f"
           }
          },
          "ternary": {
           "aaxis": {
            "gridcolor": "white",
            "linecolor": "white",
            "ticks": ""
           },
           "baxis": {
            "gridcolor": "white",
            "linecolor": "white",
            "ticks": ""
           },
           "bgcolor": "#E5ECF6",
           "caxis": {
            "gridcolor": "white",
            "linecolor": "white",
            "ticks": ""
           }
          },
          "title": {
           "x": 0.05
          },
          "xaxis": {
           "automargin": true,
           "gridcolor": "white",
           "linecolor": "white",
           "ticks": "",
           "title": {
            "standoff": 15
           },
           "zerolinecolor": "white",
           "zerolinewidth": 2
          },
          "yaxis": {
           "automargin": true,
           "gridcolor": "white",
           "linecolor": "white",
           "ticks": "",
           "title": {
            "standoff": 15
           },
           "zerolinecolor": "white",
           "zerolinewidth": 2
          }
         }
        },
        "title": {
         "text": "Total Sales by Order Time"
        },
        "xaxis": {
         "anchor": "y",
         "domain": [
          0,
          1
         ],
         "title": {
          "text": "Order Time"
         }
        },
        "yaxis": {
         "anchor": "x",
         "domain": [
          0,
          1
         ],
         "title": {
          "text": "Total"
         }
        }
       }
      }
     },
     "metadata": {},
     "output_type": "display_data"
    }
   ],
   "source": [
    "salesbytime = all_data.groupby('Order Time')['Total'].sum().reset_index()\n",
    "\n",
    "fig = px.line(salesbytime, x='Order Time', y='Total', title='Total Sales by Order Time')\n",
    "# fig.update_xaxes(categoryorder='total ascending')  # Ensure the x-axis is ordered correctly\n",
    "fig.show()"
   ]
  },
  {
   "cell_type": "code",
   "execution_count": 24,
   "metadata": {},
   "outputs": [
    {
     "data": {
      "text/html": [
       "<div>\n",
       "<style scoped>\n",
       "    .dataframe tbody tr th:only-of-type {\n",
       "        vertical-align: middle;\n",
       "    }\n",
       "\n",
       "    .dataframe tbody tr th {\n",
       "        vertical-align: top;\n",
       "    }\n",
       "\n",
       "    .dataframe thead th {\n",
       "        text-align: right;\n",
       "    }\n",
       "</style>\n",
       "<table border=\"1\" class=\"dataframe\">\n",
       "  <thead>\n",
       "    <tr style=\"text-align: right;\">\n",
       "      <th></th>\n",
       "      <th>Order Time</th>\n",
       "      <th>Total</th>\n",
       "    </tr>\n",
       "  </thead>\n",
       "  <tbody>\n",
       "    <tr>\n",
       "      <th>0</th>\n",
       "      <td>00</td>\n",
       "      <td>713721.27</td>\n",
       "    </tr>\n",
       "    <tr>\n",
       "      <th>1</th>\n",
       "      <td>01</td>\n",
       "      <td>460866.88</td>\n",
       "    </tr>\n",
       "    <tr>\n",
       "      <th>2</th>\n",
       "      <td>02</td>\n",
       "      <td>234851.44</td>\n",
       "    </tr>\n",
       "    <tr>\n",
       "      <th>3</th>\n",
       "      <td>03</td>\n",
       "      <td>145757.89</td>\n",
       "    </tr>\n",
       "    <tr>\n",
       "      <th>4</th>\n",
       "      <td>04</td>\n",
       "      <td>162661.01</td>\n",
       "    </tr>\n",
       "    <tr>\n",
       "      <th>5</th>\n",
       "      <td>05</td>\n",
       "      <td>230679.82</td>\n",
       "    </tr>\n",
       "    <tr>\n",
       "      <th>6</th>\n",
       "      <td>06</td>\n",
       "      <td>448113.00</td>\n",
       "    </tr>\n",
       "    <tr>\n",
       "      <th>7</th>\n",
       "      <td>07</td>\n",
       "      <td>744854.12</td>\n",
       "    </tr>\n",
       "    <tr>\n",
       "      <th>8</th>\n",
       "      <td>08</td>\n",
       "      <td>1192348.97</td>\n",
       "    </tr>\n",
       "    <tr>\n",
       "      <th>9</th>\n",
       "      <td>09</td>\n",
       "      <td>1639030.58</td>\n",
       "    </tr>\n",
       "    <tr>\n",
       "      <th>10</th>\n",
       "      <td>10</td>\n",
       "      <td>1944286.77</td>\n",
       "    </tr>\n",
       "    <tr>\n",
       "      <th>11</th>\n",
       "      <td>11</td>\n",
       "      <td>2300610.24</td>\n",
       "    </tr>\n",
       "    <tr>\n",
       "      <th>12</th>\n",
       "      <td>12</td>\n",
       "      <td>2316821.34</td>\n",
       "    </tr>\n",
       "    <tr>\n",
       "      <th>13</th>\n",
       "      <td>13</td>\n",
       "      <td>2155389.80</td>\n",
       "    </tr>\n",
       "    <tr>\n",
       "      <th>14</th>\n",
       "      <td>14</td>\n",
       "      <td>2083672.73</td>\n",
       "    </tr>\n",
       "    <tr>\n",
       "      <th>15</th>\n",
       "      <td>15</td>\n",
       "      <td>1941549.60</td>\n",
       "    </tr>\n",
       "    <tr>\n",
       "      <th>16</th>\n",
       "      <td>16</td>\n",
       "      <td>1904601.31</td>\n",
       "    </tr>\n",
       "    <tr>\n",
       "      <th>17</th>\n",
       "      <td>17</td>\n",
       "      <td>2129361.61</td>\n",
       "    </tr>\n",
       "    <tr>\n",
       "      <th>18</th>\n",
       "      <td>18</td>\n",
       "      <td>2219348.30</td>\n",
       "    </tr>\n",
       "    <tr>\n",
       "      <th>19</th>\n",
       "      <td>19</td>\n",
       "      <td>2412938.54</td>\n",
       "    </tr>\n",
       "    <tr>\n",
       "      <th>20</th>\n",
       "      <td>20</td>\n",
       "      <td>2281716.24</td>\n",
       "    </tr>\n",
       "    <tr>\n",
       "      <th>21</th>\n",
       "      <td>21</td>\n",
       "      <td>2042000.86</td>\n",
       "    </tr>\n",
       "    <tr>\n",
       "      <th>22</th>\n",
       "      <td>22</td>\n",
       "      <td>1607549.21</td>\n",
       "    </tr>\n",
       "    <tr>\n",
       "      <th>23</th>\n",
       "      <td>23</td>\n",
       "      <td>1179304.44</td>\n",
       "    </tr>\n",
       "  </tbody>\n",
       "</table>\n",
       "</div>"
      ],
      "text/plain": [
       "   Order Time       Total\n",
       "0          00   713721.27\n",
       "1          01   460866.88\n",
       "2          02   234851.44\n",
       "3          03   145757.89\n",
       "4          04   162661.01\n",
       "5          05   230679.82\n",
       "6          06   448113.00\n",
       "7          07   744854.12\n",
       "8          08  1192348.97\n",
       "9          09  1639030.58\n",
       "10         10  1944286.77\n",
       "11         11  2300610.24\n",
       "12         12  2316821.34\n",
       "13         13  2155389.80\n",
       "14         14  2083672.73\n",
       "15         15  1941549.60\n",
       "16         16  1904601.31\n",
       "17         17  2129361.61\n",
       "18         18  2219348.30\n",
       "19         19  2412938.54\n",
       "20         20  2281716.24\n",
       "21         21  2042000.86\n",
       "22         22  1607549.21\n",
       "23         23  1179304.44"
      ]
     },
     "execution_count": 24,
     "metadata": {},
     "output_type": "execute_result"
    }
   ],
   "source": [
    "salesbytime"
   ]
  },
  {
   "cell_type": "code",
   "execution_count": 25,
   "metadata": {},
   "outputs": [
    {
     "data": {
      "text/html": [
       "<div>\n",
       "<style scoped>\n",
       "    .dataframe tbody tr th:only-of-type {\n",
       "        vertical-align: middle;\n",
       "    }\n",
       "\n",
       "    .dataframe tbody tr th {\n",
       "        vertical-align: top;\n",
       "    }\n",
       "\n",
       "    .dataframe thead th {\n",
       "        text-align: right;\n",
       "    }\n",
       "</style>\n",
       "<table border=\"1\" class=\"dataframe\">\n",
       "  <thead>\n",
       "    <tr style=\"text-align: right;\">\n",
       "      <th></th>\n",
       "      <th>Order ID</th>\n",
       "      <th>Product</th>\n",
       "      <th>Quantity Ordered</th>\n",
       "      <th>Price Each</th>\n",
       "      <th>Order Date</th>\n",
       "      <th>Purchase Address</th>\n",
       "      <th>Month</th>\n",
       "      <th>Total</th>\n",
       "      <th>City</th>\n",
       "      <th>Order Time</th>\n",
       "      <th>hm</th>\n",
       "    </tr>\n",
       "  </thead>\n",
       "  <tbody>\n",
       "    <tr>\n",
       "      <th>73891</th>\n",
       "      <td>147268</td>\n",
       "      <td>Wired Headphones</td>\n",
       "      <td>1</td>\n",
       "      <td>11.99</td>\n",
       "      <td>2019-01-01 03:07:00</td>\n",
       "      <td>9 Lake St, New York City, NY 10001</td>\n",
       "      <td>1</td>\n",
       "      <td>11.99</td>\n",
       "      <td>New York City, NY</td>\n",
       "      <td>03</td>\n",
       "      <td>03:07</td>\n",
       "    </tr>\n",
       "    <tr>\n",
       "      <th>74701</th>\n",
       "      <td>148041</td>\n",
       "      <td>USB-C Charging Cable</td>\n",
       "      <td>1</td>\n",
       "      <td>11.95</td>\n",
       "      <td>2019-01-01 03:40:00</td>\n",
       "      <td>760 Church St, San Francisco, CA 94016</td>\n",
       "      <td>1</td>\n",
       "      <td>11.95</td>\n",
       "      <td>San Francisco, CA</td>\n",
       "      <td>03</td>\n",
       "      <td>03:40</td>\n",
       "    </tr>\n",
       "    <tr>\n",
       "      <th>76054</th>\n",
       "      <td>149343</td>\n",
       "      <td>Apple Airpods Headphones</td>\n",
       "      <td>1</td>\n",
       "      <td>150.00</td>\n",
       "      <td>2019-01-01 04:56:00</td>\n",
       "      <td>735 5th St, New York City, NY 10001</td>\n",
       "      <td>1</td>\n",
       "      <td>150.00</td>\n",
       "      <td>New York City, NY</td>\n",
       "      <td>04</td>\n",
       "      <td>04:56</td>\n",
       "    </tr>\n",
       "    <tr>\n",
       "      <th>76708</th>\n",
       "      <td>149964</td>\n",
       "      <td>AAA Batteries (4-pack)</td>\n",
       "      <td>1</td>\n",
       "      <td>2.99</td>\n",
       "      <td>2019-01-01 05:53:00</td>\n",
       "      <td>75 Jackson St, Dallas, TX 75001</td>\n",
       "      <td>1</td>\n",
       "      <td>2.99</td>\n",
       "      <td>Dallas, TX</td>\n",
       "      <td>05</td>\n",
       "      <td>05:53</td>\n",
       "    </tr>\n",
       "    <tr>\n",
       "      <th>76061</th>\n",
       "      <td>149350</td>\n",
       "      <td>USB-C Charging Cable</td>\n",
       "      <td>2</td>\n",
       "      <td>11.95</td>\n",
       "      <td>2019-01-01 06:03:00</td>\n",
       "      <td>943 2nd St, Atlanta, GA 30301</td>\n",
       "      <td>1</td>\n",
       "      <td>23.90</td>\n",
       "      <td>Atlanta, GA</td>\n",
       "      <td>06</td>\n",
       "      <td>06:03</td>\n",
       "    </tr>\n",
       "    <tr>\n",
       "      <th>...</th>\n",
       "      <td>...</td>\n",
       "      <td>...</td>\n",
       "      <td>...</td>\n",
       "      <td>...</td>\n",
       "      <td>...</td>\n",
       "      <td>...</td>\n",
       "      <td>...</td>\n",
       "      <td>...</td>\n",
       "      <td>...</td>\n",
       "      <td>...</td>\n",
       "      <td>...</td>\n",
       "    </tr>\n",
       "    <tr>\n",
       "      <th>33264</th>\n",
       "      <td>298406</td>\n",
       "      <td>AAA Batteries (4-pack)</td>\n",
       "      <td>2</td>\n",
       "      <td>2.99</td>\n",
       "      <td>2019-12-31 23:42:00</td>\n",
       "      <td>30 Elm St, San Francisco, CA 94016</td>\n",
       "      <td>12</td>\n",
       "      <td>5.98</td>\n",
       "      <td>San Francisco, CA</td>\n",
       "      <td>23</td>\n",
       "      <td>23:42</td>\n",
       "    </tr>\n",
       "    <tr>\n",
       "      <th>32308</th>\n",
       "      <td>297481</td>\n",
       "      <td>AA Batteries (4-pack)</td>\n",
       "      <td>1</td>\n",
       "      <td>3.84</td>\n",
       "      <td>2019-12-31 23:42:00</td>\n",
       "      <td>82 Hill St, Dallas, TX 75001</td>\n",
       "      <td>12</td>\n",
       "      <td>3.84</td>\n",
       "      <td>Dallas, TX</td>\n",
       "      <td>23</td>\n",
       "      <td>23:42</td>\n",
       "    </tr>\n",
       "    <tr>\n",
       "      <th>52781</th>\n",
       "      <td>317048</td>\n",
       "      <td>AAA Batteries (4-pack)</td>\n",
       "      <td>2</td>\n",
       "      <td>2.99</td>\n",
       "      <td>2019-12-31 23:45:00</td>\n",
       "      <td>743 Adams St, San Francisco, CA 94016</td>\n",
       "      <td>12</td>\n",
       "      <td>5.98</td>\n",
       "      <td>San Francisco, CA</td>\n",
       "      <td>23</td>\n",
       "      <td>23:45</td>\n",
       "    </tr>\n",
       "    <tr>\n",
       "      <th>45172</th>\n",
       "      <td>309773</td>\n",
       "      <td>AAA Batteries (4-pack)</td>\n",
       "      <td>1</td>\n",
       "      <td>2.99</td>\n",
       "      <td>2019-12-31 23:52:00</td>\n",
       "      <td>60 Hickory St, Los Angeles, CA 90001</td>\n",
       "      <td>12</td>\n",
       "      <td>2.99</td>\n",
       "      <td>Los Angeles, CA</td>\n",
       "      <td>23</td>\n",
       "      <td>23:52</td>\n",
       "    </tr>\n",
       "    <tr>\n",
       "      <th>32511</th>\n",
       "      <td>297674</td>\n",
       "      <td>AAA Batteries (4-pack)</td>\n",
       "      <td>1</td>\n",
       "      <td>2.99</td>\n",
       "      <td>2019-12-31 23:53:00</td>\n",
       "      <td>425 Lake St, Portland, OR 97035</td>\n",
       "      <td>12</td>\n",
       "      <td>2.99</td>\n",
       "      <td>Portland, OR</td>\n",
       "      <td>23</td>\n",
       "      <td>23:53</td>\n",
       "    </tr>\n",
       "  </tbody>\n",
       "</table>\n",
       "<p>185950 rows × 11 columns</p>\n",
       "</div>"
      ],
      "text/plain": [
       "      Order ID                   Product  Quantity Ordered  Price Each  \\\n",
       "73891   147268          Wired Headphones                 1       11.99   \n",
       "74701   148041      USB-C Charging Cable                 1       11.95   \n",
       "76054   149343  Apple Airpods Headphones                 1      150.00   \n",
       "76708   149964    AAA Batteries (4-pack)                 1        2.99   \n",
       "76061   149350      USB-C Charging Cable                 2       11.95   \n",
       "...        ...                       ...               ...         ...   \n",
       "33264   298406    AAA Batteries (4-pack)                 2        2.99   \n",
       "32308   297481     AA Batteries (4-pack)                 1        3.84   \n",
       "52781   317048    AAA Batteries (4-pack)                 2        2.99   \n",
       "45172   309773    AAA Batteries (4-pack)                 1        2.99   \n",
       "32511   297674    AAA Batteries (4-pack)                 1        2.99   \n",
       "\n",
       "               Order Date                        Purchase Address  Month  \\\n",
       "73891 2019-01-01 03:07:00      9 Lake St, New York City, NY 10001      1   \n",
       "74701 2019-01-01 03:40:00  760 Church St, San Francisco, CA 94016      1   \n",
       "76054 2019-01-01 04:56:00     735 5th St, New York City, NY 10001      1   \n",
       "76708 2019-01-01 05:53:00         75 Jackson St, Dallas, TX 75001      1   \n",
       "76061 2019-01-01 06:03:00           943 2nd St, Atlanta, GA 30301      1   \n",
       "...                   ...                                     ...    ...   \n",
       "33264 2019-12-31 23:42:00      30 Elm St, San Francisco, CA 94016     12   \n",
       "32308 2019-12-31 23:42:00            82 Hill St, Dallas, TX 75001     12   \n",
       "52781 2019-12-31 23:45:00   743 Adams St, San Francisco, CA 94016     12   \n",
       "45172 2019-12-31 23:52:00    60 Hickory St, Los Angeles, CA 90001     12   \n",
       "32511 2019-12-31 23:53:00         425 Lake St, Portland, OR 97035     12   \n",
       "\n",
       "        Total                City Order Time     hm  \n",
       "73891   11.99   New York City, NY         03  03:07  \n",
       "74701   11.95   San Francisco, CA         03  03:40  \n",
       "76054  150.00   New York City, NY         04  04:56  \n",
       "76708    2.99          Dallas, TX         05  05:53  \n",
       "76061   23.90         Atlanta, GA         06  06:03  \n",
       "...       ...                 ...        ...    ...  \n",
       "33264    5.98   San Francisco, CA         23  23:42  \n",
       "32308    3.84          Dallas, TX         23  23:42  \n",
       "52781    5.98   San Francisco, CA         23  23:45  \n",
       "45172    2.99     Los Angeles, CA         23  23:52  \n",
       "32511    2.99        Portland, OR         23  23:53  \n",
       "\n",
       "[185950 rows x 11 columns]"
      ]
     },
     "execution_count": 25,
     "metadata": {},
     "output_type": "execute_result"
    }
   ],
   "source": [
    "all_data"
   ]
  },
  {
   "cell_type": "code",
   "execution_count": 26,
   "metadata": {},
   "outputs": [
    {
     "data": {
      "text/html": [
       "<div>\n",
       "<style scoped>\n",
       "    .dataframe tbody tr th:only-of-type {\n",
       "        vertical-align: middle;\n",
       "    }\n",
       "\n",
       "    .dataframe tbody tr th {\n",
       "        vertical-align: top;\n",
       "    }\n",
       "\n",
       "    .dataframe thead th {\n",
       "        text-align: right;\n",
       "    }\n",
       "</style>\n",
       "<table border=\"1\" class=\"dataframe\">\n",
       "  <thead>\n",
       "    <tr style=\"text-align: right;\">\n",
       "      <th></th>\n",
       "      <th>Order ID</th>\n",
       "      <th>Product</th>\n",
       "      <th>Quantity Ordered</th>\n",
       "      <th>Price Each</th>\n",
       "      <th>Order Date</th>\n",
       "      <th>Purchase Address</th>\n",
       "      <th>Month</th>\n",
       "      <th>Total</th>\n",
       "      <th>City</th>\n",
       "      <th>Order Time</th>\n",
       "      <th>hm</th>\n",
       "    </tr>\n",
       "  </thead>\n",
       "  <tbody>\n",
       "    <tr>\n",
       "      <th>71311</th>\n",
       "      <td>144804</td>\n",
       "      <td>Wired Headphones</td>\n",
       "      <td>1</td>\n",
       "      <td>11.99</td>\n",
       "      <td>2019-01-01 07:29:00</td>\n",
       "      <td>628 Lake St, New York City, NY 10001</td>\n",
       "      <td>1</td>\n",
       "      <td>11.99</td>\n",
       "      <td>New York City, NY</td>\n",
       "      <td>07</td>\n",
       "      <td>07:29</td>\n",
       "    </tr>\n",
       "    <tr>\n",
       "      <th>71310</th>\n",
       "      <td>144804</td>\n",
       "      <td>iPhone</td>\n",
       "      <td>1</td>\n",
       "      <td>700.00</td>\n",
       "      <td>2019-01-01 07:29:00</td>\n",
       "      <td>628 Lake St, New York City, NY 10001</td>\n",
       "      <td>1</td>\n",
       "      <td>700.00</td>\n",
       "      <td>New York City, NY</td>\n",
       "      <td>07</td>\n",
       "      <td>07:29</td>\n",
       "    </tr>\n",
       "    <tr>\n",
       "      <th>74737</th>\n",
       "      <td>148074</td>\n",
       "      <td>USB-C Charging Cable</td>\n",
       "      <td>1</td>\n",
       "      <td>11.95</td>\n",
       "      <td>2019-01-01 11:25:00</td>\n",
       "      <td>6 Johnson St, Atlanta, GA 30301</td>\n",
       "      <td>1</td>\n",
       "      <td>11.95</td>\n",
       "      <td>Atlanta, GA</td>\n",
       "      <td>11</td>\n",
       "      <td>11:25</td>\n",
       "    </tr>\n",
       "    <tr>\n",
       "      <th>74736</th>\n",
       "      <td>148074</td>\n",
       "      <td>Google Phone</td>\n",
       "      <td>1</td>\n",
       "      <td>600.00</td>\n",
       "      <td>2019-01-01 11:25:00</td>\n",
       "      <td>6 Johnson St, Atlanta, GA 30301</td>\n",
       "      <td>1</td>\n",
       "      <td>600.00</td>\n",
       "      <td>Atlanta, GA</td>\n",
       "      <td>11</td>\n",
       "      <td>11:25</td>\n",
       "    </tr>\n",
       "    <tr>\n",
       "      <th>75124</th>\n",
       "      <td>148450</td>\n",
       "      <td>Lightning Charging Cable</td>\n",
       "      <td>1</td>\n",
       "      <td>14.95</td>\n",
       "      <td>2019-01-01 12:02:00</td>\n",
       "      <td>761 Lakeview St, Dallas, TX 75001</td>\n",
       "      <td>1</td>\n",
       "      <td>14.95</td>\n",
       "      <td>Dallas, TX</td>\n",
       "      <td>12</td>\n",
       "      <td>12:02</td>\n",
       "    </tr>\n",
       "    <tr>\n",
       "      <th>...</th>\n",
       "      <td>...</td>\n",
       "      <td>...</td>\n",
       "      <td>...</td>\n",
       "      <td>...</td>\n",
       "      <td>...</td>\n",
       "      <td>...</td>\n",
       "      <td>...</td>\n",
       "      <td>...</td>\n",
       "      <td>...</td>\n",
       "      <td>...</td>\n",
       "      <td>...</td>\n",
       "    </tr>\n",
       "    <tr>\n",
       "      <th>31590</th>\n",
       "      <td>296804</td>\n",
       "      <td>AA Batteries (4-pack)</td>\n",
       "      <td>1</td>\n",
       "      <td>3.84</td>\n",
       "      <td>2019-12-31 20:49:00</td>\n",
       "      <td>114 10th St, Atlanta, GA 30301</td>\n",
       "      <td>12</td>\n",
       "      <td>3.84</td>\n",
       "      <td>Atlanta, GA</td>\n",
       "      <td>20</td>\n",
       "      <td>20:49</td>\n",
       "    </tr>\n",
       "    <tr>\n",
       "      <th>36859</th>\n",
       "      <td>301832</td>\n",
       "      <td>20in Monitor</td>\n",
       "      <td>2</td>\n",
       "      <td>109.99</td>\n",
       "      <td>2019-12-31 20:51:00</td>\n",
       "      <td>774 Washington St, San Francisco, CA 94016</td>\n",
       "      <td>12</td>\n",
       "      <td>219.98</td>\n",
       "      <td>San Francisco, CA</td>\n",
       "      <td>20</td>\n",
       "      <td>20:51</td>\n",
       "    </tr>\n",
       "    <tr>\n",
       "      <th>36858</th>\n",
       "      <td>301832</td>\n",
       "      <td>AAA Batteries (4-pack)</td>\n",
       "      <td>1</td>\n",
       "      <td>2.99</td>\n",
       "      <td>2019-12-31 20:51:00</td>\n",
       "      <td>774 Washington St, San Francisco, CA 94016</td>\n",
       "      <td>12</td>\n",
       "      <td>2.99</td>\n",
       "      <td>San Francisco, CA</td>\n",
       "      <td>20</td>\n",
       "      <td>20:51</td>\n",
       "    </tr>\n",
       "    <tr>\n",
       "      <th>46480</th>\n",
       "      <td>311036</td>\n",
       "      <td>AAA Batteries (4-pack)</td>\n",
       "      <td>3</td>\n",
       "      <td>2.99</td>\n",
       "      <td>2019-12-31 22:04:00</td>\n",
       "      <td>138 Lincoln St, Los Angeles, CA 90001</td>\n",
       "      <td>12</td>\n",
       "      <td>8.97</td>\n",
       "      <td>Los Angeles, CA</td>\n",
       "      <td>22</td>\n",
       "      <td>22:04</td>\n",
       "    </tr>\n",
       "    <tr>\n",
       "      <th>46481</th>\n",
       "      <td>311036</td>\n",
       "      <td>Macbook Pro Laptop</td>\n",
       "      <td>1</td>\n",
       "      <td>1700.00</td>\n",
       "      <td>2019-12-31 22:04:00</td>\n",
       "      <td>138 Lincoln St, Los Angeles, CA 90001</td>\n",
       "      <td>12</td>\n",
       "      <td>1700.00</td>\n",
       "      <td>Los Angeles, CA</td>\n",
       "      <td>22</td>\n",
       "      <td>22:04</td>\n",
       "    </tr>\n",
       "  </tbody>\n",
       "</table>\n",
       "<p>14649 rows × 11 columns</p>\n",
       "</div>"
      ],
      "text/plain": [
       "      Order ID                   Product  Quantity Ordered  Price Each  \\\n",
       "71311   144804          Wired Headphones                 1       11.99   \n",
       "71310   144804                    iPhone                 1      700.00   \n",
       "74737   148074      USB-C Charging Cable                 1       11.95   \n",
       "74736   148074              Google Phone                 1      600.00   \n",
       "75124   148450  Lightning Charging Cable                 1       14.95   \n",
       "...        ...                       ...               ...         ...   \n",
       "31590   296804     AA Batteries (4-pack)                 1        3.84   \n",
       "36859   301832              20in Monitor                 2      109.99   \n",
       "36858   301832    AAA Batteries (4-pack)                 1        2.99   \n",
       "46480   311036    AAA Batteries (4-pack)                 3        2.99   \n",
       "46481   311036        Macbook Pro Laptop                 1     1700.00   \n",
       "\n",
       "               Order Date                            Purchase Address  Month  \\\n",
       "71311 2019-01-01 07:29:00        628 Lake St, New York City, NY 10001      1   \n",
       "71310 2019-01-01 07:29:00        628 Lake St, New York City, NY 10001      1   \n",
       "74737 2019-01-01 11:25:00             6 Johnson St, Atlanta, GA 30301      1   \n",
       "74736 2019-01-01 11:25:00             6 Johnson St, Atlanta, GA 30301      1   \n",
       "75124 2019-01-01 12:02:00           761 Lakeview St, Dallas, TX 75001      1   \n",
       "...                   ...                                         ...    ...   \n",
       "31590 2019-12-31 20:49:00              114 10th St, Atlanta, GA 30301     12   \n",
       "36859 2019-12-31 20:51:00  774 Washington St, San Francisco, CA 94016     12   \n",
       "36858 2019-12-31 20:51:00  774 Washington St, San Francisco, CA 94016     12   \n",
       "46480 2019-12-31 22:04:00       138 Lincoln St, Los Angeles, CA 90001     12   \n",
       "46481 2019-12-31 22:04:00       138 Lincoln St, Los Angeles, CA 90001     12   \n",
       "\n",
       "         Total                City Order Time     hm  \n",
       "71311    11.99   New York City, NY         07  07:29  \n",
       "71310   700.00   New York City, NY         07  07:29  \n",
       "74737    11.95         Atlanta, GA         11  11:25  \n",
       "74736   600.00         Atlanta, GA         11  11:25  \n",
       "75124    14.95          Dallas, TX         12  12:02  \n",
       "...        ...                 ...        ...    ...  \n",
       "31590     3.84         Atlanta, GA         20  20:49  \n",
       "36859   219.98   San Francisco, CA         20  20:51  \n",
       "36858     2.99   San Francisco, CA         20  20:51  \n",
       "46480     8.97     Los Angeles, CA         22  22:04  \n",
       "46481  1700.00     Los Angeles, CA         22  22:04  \n",
       "\n",
       "[14649 rows x 11 columns]"
      ]
     },
     "execution_count": 26,
     "metadata": {},
     "output_type": "execute_result"
    }
   ],
   "source": [
    "# products sold together\n",
    "\n",
    "order_id = all_data[all_data['Order ID'].duplicated(keep=False)]\n",
    "order_id"
   ]
  },
  {
   "cell_type": "code",
   "execution_count": 27,
   "metadata": {},
   "outputs": [
    {
     "name": "stderr",
     "output_type": "stream",
     "text": [
      "C:\\Users\\beall\\AppData\\Local\\Temp\\ipykernel_14512\\4266021534.py:1: SettingWithCopyWarning:\n",
      "\n",
      "\n",
      "A value is trying to be set on a copy of a slice from a DataFrame.\n",
      "Try using .loc[row_indexer,col_indexer] = value instead\n",
      "\n",
      "See the caveats in the documentation: https://pandas.pydata.org/pandas-docs/stable/user_guide/indexing.html#returning-a-view-versus-a-copy\n",
      "\n"
     ]
    },
    {
     "data": {
      "text/html": [
       "<div>\n",
       "<style scoped>\n",
       "    .dataframe tbody tr th:only-of-type {\n",
       "        vertical-align: middle;\n",
       "    }\n",
       "\n",
       "    .dataframe tbody tr th {\n",
       "        vertical-align: top;\n",
       "    }\n",
       "\n",
       "    .dataframe thead th {\n",
       "        text-align: right;\n",
       "    }\n",
       "</style>\n",
       "<table border=\"1\" class=\"dataframe\">\n",
       "  <thead>\n",
       "    <tr style=\"text-align: right;\">\n",
       "      <th></th>\n",
       "      <th>Order ID</th>\n",
       "      <th>Product</th>\n",
       "      <th>Quantity Ordered</th>\n",
       "      <th>Price Each</th>\n",
       "      <th>Order Date</th>\n",
       "      <th>Purchase Address</th>\n",
       "      <th>Month</th>\n",
       "      <th>Total</th>\n",
       "      <th>City</th>\n",
       "      <th>Order Time</th>\n",
       "      <th>hm</th>\n",
       "      <th>Grouped</th>\n",
       "    </tr>\n",
       "  </thead>\n",
       "  <tbody>\n",
       "    <tr>\n",
       "      <th>71311</th>\n",
       "      <td>144804</td>\n",
       "      <td>Wired Headphones</td>\n",
       "      <td>1</td>\n",
       "      <td>11.99</td>\n",
       "      <td>2019-01-01 07:29:00</td>\n",
       "      <td>628 Lake St, New York City, NY 10001</td>\n",
       "      <td>1</td>\n",
       "      <td>11.99</td>\n",
       "      <td>New York City, NY</td>\n",
       "      <td>07</td>\n",
       "      <td>07:29</td>\n",
       "      <td>Wired Headphones,iPhone</td>\n",
       "    </tr>\n",
       "    <tr>\n",
       "      <th>71310</th>\n",
       "      <td>144804</td>\n",
       "      <td>iPhone</td>\n",
       "      <td>1</td>\n",
       "      <td>700.00</td>\n",
       "      <td>2019-01-01 07:29:00</td>\n",
       "      <td>628 Lake St, New York City, NY 10001</td>\n",
       "      <td>1</td>\n",
       "      <td>700.00</td>\n",
       "      <td>New York City, NY</td>\n",
       "      <td>07</td>\n",
       "      <td>07:29</td>\n",
       "      <td>Wired Headphones,iPhone</td>\n",
       "    </tr>\n",
       "    <tr>\n",
       "      <th>74737</th>\n",
       "      <td>148074</td>\n",
       "      <td>USB-C Charging Cable</td>\n",
       "      <td>1</td>\n",
       "      <td>11.95</td>\n",
       "      <td>2019-01-01 11:25:00</td>\n",
       "      <td>6 Johnson St, Atlanta, GA 30301</td>\n",
       "      <td>1</td>\n",
       "      <td>11.95</td>\n",
       "      <td>Atlanta, GA</td>\n",
       "      <td>11</td>\n",
       "      <td>11:25</td>\n",
       "      <td>USB-C Charging Cable,Google Phone</td>\n",
       "    </tr>\n",
       "    <tr>\n",
       "      <th>74736</th>\n",
       "      <td>148074</td>\n",
       "      <td>Google Phone</td>\n",
       "      <td>1</td>\n",
       "      <td>600.00</td>\n",
       "      <td>2019-01-01 11:25:00</td>\n",
       "      <td>6 Johnson St, Atlanta, GA 30301</td>\n",
       "      <td>1</td>\n",
       "      <td>600.00</td>\n",
       "      <td>Atlanta, GA</td>\n",
       "      <td>11</td>\n",
       "      <td>11:25</td>\n",
       "      <td>USB-C Charging Cable,Google Phone</td>\n",
       "    </tr>\n",
       "    <tr>\n",
       "      <th>75124</th>\n",
       "      <td>148450</td>\n",
       "      <td>Lightning Charging Cable</td>\n",
       "      <td>1</td>\n",
       "      <td>14.95</td>\n",
       "      <td>2019-01-01 12:02:00</td>\n",
       "      <td>761 Lakeview St, Dallas, TX 75001</td>\n",
       "      <td>1</td>\n",
       "      <td>14.95</td>\n",
       "      <td>Dallas, TX</td>\n",
       "      <td>12</td>\n",
       "      <td>12:02</td>\n",
       "      <td>Lightning Charging Cable,iPhone</td>\n",
       "    </tr>\n",
       "    <tr>\n",
       "      <th>...</th>\n",
       "      <td>...</td>\n",
       "      <td>...</td>\n",
       "      <td>...</td>\n",
       "      <td>...</td>\n",
       "      <td>...</td>\n",
       "      <td>...</td>\n",
       "      <td>...</td>\n",
       "      <td>...</td>\n",
       "      <td>...</td>\n",
       "      <td>...</td>\n",
       "      <td>...</td>\n",
       "      <td>...</td>\n",
       "    </tr>\n",
       "    <tr>\n",
       "      <th>31590</th>\n",
       "      <td>296804</td>\n",
       "      <td>AA Batteries (4-pack)</td>\n",
       "      <td>1</td>\n",
       "      <td>3.84</td>\n",
       "      <td>2019-12-31 20:49:00</td>\n",
       "      <td>114 10th St, Atlanta, GA 30301</td>\n",
       "      <td>12</td>\n",
       "      <td>3.84</td>\n",
       "      <td>Atlanta, GA</td>\n",
       "      <td>20</td>\n",
       "      <td>20:49</td>\n",
       "      <td>Lightning Charging Cable,AA Batteries (4-pack)</td>\n",
       "    </tr>\n",
       "    <tr>\n",
       "      <th>36859</th>\n",
       "      <td>301832</td>\n",
       "      <td>20in Monitor</td>\n",
       "      <td>2</td>\n",
       "      <td>109.99</td>\n",
       "      <td>2019-12-31 20:51:00</td>\n",
       "      <td>774 Washington St, San Francisco, CA 94016</td>\n",
       "      <td>12</td>\n",
       "      <td>219.98</td>\n",
       "      <td>San Francisco, CA</td>\n",
       "      <td>20</td>\n",
       "      <td>20:51</td>\n",
       "      <td>20in Monitor,AAA Batteries (4-pack)</td>\n",
       "    </tr>\n",
       "    <tr>\n",
       "      <th>36858</th>\n",
       "      <td>301832</td>\n",
       "      <td>AAA Batteries (4-pack)</td>\n",
       "      <td>1</td>\n",
       "      <td>2.99</td>\n",
       "      <td>2019-12-31 20:51:00</td>\n",
       "      <td>774 Washington St, San Francisco, CA 94016</td>\n",
       "      <td>12</td>\n",
       "      <td>2.99</td>\n",
       "      <td>San Francisco, CA</td>\n",
       "      <td>20</td>\n",
       "      <td>20:51</td>\n",
       "      <td>20in Monitor,AAA Batteries (4-pack)</td>\n",
       "    </tr>\n",
       "    <tr>\n",
       "      <th>46480</th>\n",
       "      <td>311036</td>\n",
       "      <td>AAA Batteries (4-pack)</td>\n",
       "      <td>3</td>\n",
       "      <td>2.99</td>\n",
       "      <td>2019-12-31 22:04:00</td>\n",
       "      <td>138 Lincoln St, Los Angeles, CA 90001</td>\n",
       "      <td>12</td>\n",
       "      <td>8.97</td>\n",
       "      <td>Los Angeles, CA</td>\n",
       "      <td>22</td>\n",
       "      <td>22:04</td>\n",
       "      <td>AAA Batteries (4-pack),Macbook Pro Laptop</td>\n",
       "    </tr>\n",
       "    <tr>\n",
       "      <th>46481</th>\n",
       "      <td>311036</td>\n",
       "      <td>Macbook Pro Laptop</td>\n",
       "      <td>1</td>\n",
       "      <td>1700.00</td>\n",
       "      <td>2019-12-31 22:04:00</td>\n",
       "      <td>138 Lincoln St, Los Angeles, CA 90001</td>\n",
       "      <td>12</td>\n",
       "      <td>1700.00</td>\n",
       "      <td>Los Angeles, CA</td>\n",
       "      <td>22</td>\n",
       "      <td>22:04</td>\n",
       "      <td>AAA Batteries (4-pack),Macbook Pro Laptop</td>\n",
       "    </tr>\n",
       "  </tbody>\n",
       "</table>\n",
       "<p>14649 rows × 12 columns</p>\n",
       "</div>"
      ],
      "text/plain": [
       "      Order ID                   Product  Quantity Ordered  Price Each  \\\n",
       "71311   144804          Wired Headphones                 1       11.99   \n",
       "71310   144804                    iPhone                 1      700.00   \n",
       "74737   148074      USB-C Charging Cable                 1       11.95   \n",
       "74736   148074              Google Phone                 1      600.00   \n",
       "75124   148450  Lightning Charging Cable                 1       14.95   \n",
       "...        ...                       ...               ...         ...   \n",
       "31590   296804     AA Batteries (4-pack)                 1        3.84   \n",
       "36859   301832              20in Monitor                 2      109.99   \n",
       "36858   301832    AAA Batteries (4-pack)                 1        2.99   \n",
       "46480   311036    AAA Batteries (4-pack)                 3        2.99   \n",
       "46481   311036        Macbook Pro Laptop                 1     1700.00   \n",
       "\n",
       "               Order Date                            Purchase Address  Month  \\\n",
       "71311 2019-01-01 07:29:00        628 Lake St, New York City, NY 10001      1   \n",
       "71310 2019-01-01 07:29:00        628 Lake St, New York City, NY 10001      1   \n",
       "74737 2019-01-01 11:25:00             6 Johnson St, Atlanta, GA 30301      1   \n",
       "74736 2019-01-01 11:25:00             6 Johnson St, Atlanta, GA 30301      1   \n",
       "75124 2019-01-01 12:02:00           761 Lakeview St, Dallas, TX 75001      1   \n",
       "...                   ...                                         ...    ...   \n",
       "31590 2019-12-31 20:49:00              114 10th St, Atlanta, GA 30301     12   \n",
       "36859 2019-12-31 20:51:00  774 Washington St, San Francisco, CA 94016     12   \n",
       "36858 2019-12-31 20:51:00  774 Washington St, San Francisco, CA 94016     12   \n",
       "46480 2019-12-31 22:04:00       138 Lincoln St, Los Angeles, CA 90001     12   \n",
       "46481 2019-12-31 22:04:00       138 Lincoln St, Los Angeles, CA 90001     12   \n",
       "\n",
       "         Total                City Order Time     hm  \\\n",
       "71311    11.99   New York City, NY         07  07:29   \n",
       "71310   700.00   New York City, NY         07  07:29   \n",
       "74737    11.95         Atlanta, GA         11  11:25   \n",
       "74736   600.00         Atlanta, GA         11  11:25   \n",
       "75124    14.95          Dallas, TX         12  12:02   \n",
       "...        ...                 ...        ...    ...   \n",
       "31590     3.84         Atlanta, GA         20  20:49   \n",
       "36859   219.98   San Francisco, CA         20  20:51   \n",
       "36858     2.99   San Francisco, CA         20  20:51   \n",
       "46480     8.97     Los Angeles, CA         22  22:04   \n",
       "46481  1700.00     Los Angeles, CA         22  22:04   \n",
       "\n",
       "                                              Grouped  \n",
       "71311                         Wired Headphones,iPhone  \n",
       "71310                         Wired Headphones,iPhone  \n",
       "74737               USB-C Charging Cable,Google Phone  \n",
       "74736               USB-C Charging Cable,Google Phone  \n",
       "75124                 Lightning Charging Cable,iPhone  \n",
       "...                                               ...  \n",
       "31590  Lightning Charging Cable,AA Batteries (4-pack)  \n",
       "36859             20in Monitor,AAA Batteries (4-pack)  \n",
       "36858             20in Monitor,AAA Batteries (4-pack)  \n",
       "46480       AAA Batteries (4-pack),Macbook Pro Laptop  \n",
       "46481       AAA Batteries (4-pack),Macbook Pro Laptop  \n",
       "\n",
       "[14649 rows x 12 columns]"
      ]
     },
     "execution_count": 27,
     "metadata": {},
     "output_type": "execute_result"
    }
   ],
   "source": [
    "order_id['Grouped'] = order_id.groupby('Order ID')['Product'].transform(lambda x: ','.join(x))\n",
    "order_id"
   ]
  },
  {
   "cell_type": "code",
   "execution_count": 28,
   "metadata": {},
   "outputs": [
    {
     "data": {
      "text/html": [
       "<div>\n",
       "<style scoped>\n",
       "    .dataframe tbody tr th:only-of-type {\n",
       "        vertical-align: middle;\n",
       "    }\n",
       "\n",
       "    .dataframe tbody tr th {\n",
       "        vertical-align: top;\n",
       "    }\n",
       "\n",
       "    .dataframe thead th {\n",
       "        text-align: right;\n",
       "    }\n",
       "</style>\n",
       "<table border=\"1\" class=\"dataframe\">\n",
       "  <thead>\n",
       "    <tr style=\"text-align: right;\">\n",
       "      <th></th>\n",
       "      <th>Order ID</th>\n",
       "      <th>Grouped</th>\n",
       "    </tr>\n",
       "  </thead>\n",
       "  <tbody>\n",
       "    <tr>\n",
       "      <th>71311</th>\n",
       "      <td>144804</td>\n",
       "      <td>Wired Headphones,iPhone</td>\n",
       "    </tr>\n",
       "    <tr>\n",
       "      <th>74737</th>\n",
       "      <td>148074</td>\n",
       "      <td>USB-C Charging Cable,Google Phone</td>\n",
       "    </tr>\n",
       "    <tr>\n",
       "      <th>75124</th>\n",
       "      <td>148450</td>\n",
       "      <td>Lightning Charging Cable,iPhone</td>\n",
       "    </tr>\n",
       "    <tr>\n",
       "      <th>71176</th>\n",
       "      <td>144679</td>\n",
       "      <td>Google Phone,USB-C Charging Cable</td>\n",
       "    </tr>\n",
       "    <tr>\n",
       "      <th>74084</th>\n",
       "      <td>147451</td>\n",
       "      <td>Google Phone,Wired Headphones</td>\n",
       "    </tr>\n",
       "    <tr>\n",
       "      <th>...</th>\n",
       "      <td>...</td>\n",
       "      <td>...</td>\n",
       "    </tr>\n",
       "    <tr>\n",
       "      <th>38241</th>\n",
       "      <td>303147</td>\n",
       "      <td>Lightning Charging Cable,iPhone</td>\n",
       "    </tr>\n",
       "    <tr>\n",
       "      <th>54252</th>\n",
       "      <td>318458</td>\n",
       "      <td>iPhone,Apple Airpods Headphones</td>\n",
       "    </tr>\n",
       "    <tr>\n",
       "      <th>31589</th>\n",
       "      <td>296804</td>\n",
       "      <td>Lightning Charging Cable,AA Batteries (4-pack)</td>\n",
       "    </tr>\n",
       "    <tr>\n",
       "      <th>36859</th>\n",
       "      <td>301832</td>\n",
       "      <td>20in Monitor,AAA Batteries (4-pack)</td>\n",
       "    </tr>\n",
       "    <tr>\n",
       "      <th>46480</th>\n",
       "      <td>311036</td>\n",
       "      <td>AAA Batteries (4-pack),Macbook Pro Laptop</td>\n",
       "    </tr>\n",
       "  </tbody>\n",
       "</table>\n",
       "<p>7136 rows × 2 columns</p>\n",
       "</div>"
      ],
      "text/plain": [
       "      Order ID                                         Grouped\n",
       "71311   144804                         Wired Headphones,iPhone\n",
       "74737   148074               USB-C Charging Cable,Google Phone\n",
       "75124   148450                 Lightning Charging Cable,iPhone\n",
       "71176   144679               Google Phone,USB-C Charging Cable\n",
       "74084   147451                   Google Phone,Wired Headphones\n",
       "...        ...                                             ...\n",
       "38241   303147                 Lightning Charging Cable,iPhone\n",
       "54252   318458                 iPhone,Apple Airpods Headphones\n",
       "31589   296804  Lightning Charging Cable,AA Batteries (4-pack)\n",
       "36859   301832             20in Monitor,AAA Batteries (4-pack)\n",
       "46480   311036       AAA Batteries (4-pack),Macbook Pro Laptop\n",
       "\n",
       "[7136 rows x 2 columns]"
      ]
     },
     "execution_count": 28,
     "metadata": {},
     "output_type": "execute_result"
    }
   ],
   "source": [
    "order_id_trim = order_id[['Order ID', 'Grouped']].drop_duplicates()\n",
    "order_id_trim"
   ]
  },
  {
   "cell_type": "code",
   "execution_count": 47,
   "metadata": {},
   "outputs": [
    {
     "name": "stdout",
     "output_type": "stream",
     "text": [
      "('Lightning Charging Cable', 'iPhone') 511\n",
      "('USB-C Charging Cable', 'Google Phone') 504\n",
      "('iPhone', 'Lightning Charging Cable') 504\n",
      "('Google Phone', 'USB-C Charging Cable') 495\n",
      "('iPhone', 'Wired Headphones') 247\n",
      "('Wired Headphones', 'iPhone') 215\n",
      "('Wired Headphones', 'Google Phone') 213\n",
      "('Google Phone', 'Wired Headphones') 210\n",
      "('USB-C Charging Cable', 'Vareebadd Phone') 190\n",
      "('iPhone', 'Apple Airpods Headphones') 187\n"
     ]
    }
   ],
   "source": [
    "from itertools import combinations\n",
    "from collections import Counter\n",
    "\n",
    "count = Counter()\n",
    "\n",
    "for row in order_id_trim['Grouped']:\n",
    "    row_list = row.split(',')\n",
    "    count.update(Counter(combinations(row_list, 2)))\n",
    "\n",
    "for key, value in count.most_common(10):\n",
    "    print(key, value)"
   ]
  },
  {
   "cell_type": "code",
   "execution_count": 48,
   "metadata": {},
   "outputs": [
    {
     "data": {
      "text/plain": [
       "[[('Lightning Charging Cable', 'iPhone'), 511],\n",
       " [('USB-C Charging Cable', 'Google Phone'), 504],\n",
       " [('iPhone', 'Lightning Charging Cable'), 504],\n",
       " [('Google Phone', 'USB-C Charging Cable'), 495],\n",
       " [('iPhone', 'Wired Headphones'), 247],\n",
       " [('Wired Headphones', 'iPhone'), 215],\n",
       " [('Wired Headphones', 'Google Phone'), 213],\n",
       " [('Google Phone', 'Wired Headphones'), 210],\n",
       " [('USB-C Charging Cable', 'Vareebadd Phone'), 190],\n",
       " [('iPhone', 'Apple Airpods Headphones'), 187]]"
      ]
     },
     "execution_count": 48,
     "metadata": {},
     "output_type": "execute_result"
    }
   ],
   "source": [
    "list_to_graph = []\n",
    "\n",
    "for key, value in count.most_common(10):\n",
    "    list_to_graph.append([key, value])\n",
    "\n",
    "list_to_graph"
   ]
  },
  {
   "cell_type": "code",
   "execution_count": null,
   "metadata": {},
   "outputs": [],
   "source": []
  },
  {
   "cell_type": "code",
   "execution_count": 30,
   "metadata": {},
   "outputs": [
    {
     "data": {
      "text/html": [
       "<div>\n",
       "<style scoped>\n",
       "    .dataframe tbody tr th:only-of-type {\n",
       "        vertical-align: middle;\n",
       "    }\n",
       "\n",
       "    .dataframe tbody tr th {\n",
       "        vertical-align: top;\n",
       "    }\n",
       "\n",
       "    .dataframe thead th {\n",
       "        text-align: right;\n",
       "    }\n",
       "</style>\n",
       "<table border=\"1\" class=\"dataframe\">\n",
       "  <thead>\n",
       "    <tr style=\"text-align: right;\">\n",
       "      <th></th>\n",
       "      <th>Order ID</th>\n",
       "      <th>Product</th>\n",
       "      <th>Quantity Ordered</th>\n",
       "      <th>Price Each</th>\n",
       "      <th>Order Date</th>\n",
       "      <th>Purchase Address</th>\n",
       "      <th>Month</th>\n",
       "      <th>Total</th>\n",
       "      <th>City</th>\n",
       "      <th>Order Time</th>\n",
       "      <th>hm</th>\n",
       "    </tr>\n",
       "  </thead>\n",
       "  <tbody>\n",
       "    <tr>\n",
       "      <th>73891</th>\n",
       "      <td>147268</td>\n",
       "      <td>Wired Headphones</td>\n",
       "      <td>1</td>\n",
       "      <td>11.99</td>\n",
       "      <td>2019-01-01 03:07:00</td>\n",
       "      <td>9 Lake St, New York City, NY 10001</td>\n",
       "      <td>1</td>\n",
       "      <td>11.99</td>\n",
       "      <td>New York City, NY</td>\n",
       "      <td>03</td>\n",
       "      <td>03:07</td>\n",
       "    </tr>\n",
       "    <tr>\n",
       "      <th>74701</th>\n",
       "      <td>148041</td>\n",
       "      <td>USB-C Charging Cable</td>\n",
       "      <td>1</td>\n",
       "      <td>11.95</td>\n",
       "      <td>2019-01-01 03:40:00</td>\n",
       "      <td>760 Church St, San Francisco, CA 94016</td>\n",
       "      <td>1</td>\n",
       "      <td>11.95</td>\n",
       "      <td>San Francisco, CA</td>\n",
       "      <td>03</td>\n",
       "      <td>03:40</td>\n",
       "    </tr>\n",
       "    <tr>\n",
       "      <th>76054</th>\n",
       "      <td>149343</td>\n",
       "      <td>Apple Airpods Headphones</td>\n",
       "      <td>1</td>\n",
       "      <td>150.00</td>\n",
       "      <td>2019-01-01 04:56:00</td>\n",
       "      <td>735 5th St, New York City, NY 10001</td>\n",
       "      <td>1</td>\n",
       "      <td>150.00</td>\n",
       "      <td>New York City, NY</td>\n",
       "      <td>04</td>\n",
       "      <td>04:56</td>\n",
       "    </tr>\n",
       "    <tr>\n",
       "      <th>76708</th>\n",
       "      <td>149964</td>\n",
       "      <td>AAA Batteries (4-pack)</td>\n",
       "      <td>1</td>\n",
       "      <td>2.99</td>\n",
       "      <td>2019-01-01 05:53:00</td>\n",
       "      <td>75 Jackson St, Dallas, TX 75001</td>\n",
       "      <td>1</td>\n",
       "      <td>2.99</td>\n",
       "      <td>Dallas, TX</td>\n",
       "      <td>05</td>\n",
       "      <td>05:53</td>\n",
       "    </tr>\n",
       "    <tr>\n",
       "      <th>76061</th>\n",
       "      <td>149350</td>\n",
       "      <td>USB-C Charging Cable</td>\n",
       "      <td>2</td>\n",
       "      <td>11.95</td>\n",
       "      <td>2019-01-01 06:03:00</td>\n",
       "      <td>943 2nd St, Atlanta, GA 30301</td>\n",
       "      <td>1</td>\n",
       "      <td>23.90</td>\n",
       "      <td>Atlanta, GA</td>\n",
       "      <td>06</td>\n",
       "      <td>06:03</td>\n",
       "    </tr>\n",
       "    <tr>\n",
       "      <th>...</th>\n",
       "      <td>...</td>\n",
       "      <td>...</td>\n",
       "      <td>...</td>\n",
       "      <td>...</td>\n",
       "      <td>...</td>\n",
       "      <td>...</td>\n",
       "      <td>...</td>\n",
       "      <td>...</td>\n",
       "      <td>...</td>\n",
       "      <td>...</td>\n",
       "      <td>...</td>\n",
       "    </tr>\n",
       "    <tr>\n",
       "      <th>33264</th>\n",
       "      <td>298406</td>\n",
       "      <td>AAA Batteries (4-pack)</td>\n",
       "      <td>2</td>\n",
       "      <td>2.99</td>\n",
       "      <td>2019-12-31 23:42:00</td>\n",
       "      <td>30 Elm St, San Francisco, CA 94016</td>\n",
       "      <td>12</td>\n",
       "      <td>5.98</td>\n",
       "      <td>San Francisco, CA</td>\n",
       "      <td>23</td>\n",
       "      <td>23:42</td>\n",
       "    </tr>\n",
       "    <tr>\n",
       "      <th>32308</th>\n",
       "      <td>297481</td>\n",
       "      <td>AA Batteries (4-pack)</td>\n",
       "      <td>1</td>\n",
       "      <td>3.84</td>\n",
       "      <td>2019-12-31 23:42:00</td>\n",
       "      <td>82 Hill St, Dallas, TX 75001</td>\n",
       "      <td>12</td>\n",
       "      <td>3.84</td>\n",
       "      <td>Dallas, TX</td>\n",
       "      <td>23</td>\n",
       "      <td>23:42</td>\n",
       "    </tr>\n",
       "    <tr>\n",
       "      <th>52781</th>\n",
       "      <td>317048</td>\n",
       "      <td>AAA Batteries (4-pack)</td>\n",
       "      <td>2</td>\n",
       "      <td>2.99</td>\n",
       "      <td>2019-12-31 23:45:00</td>\n",
       "      <td>743 Adams St, San Francisco, CA 94016</td>\n",
       "      <td>12</td>\n",
       "      <td>5.98</td>\n",
       "      <td>San Francisco, CA</td>\n",
       "      <td>23</td>\n",
       "      <td>23:45</td>\n",
       "    </tr>\n",
       "    <tr>\n",
       "      <th>45172</th>\n",
       "      <td>309773</td>\n",
       "      <td>AAA Batteries (4-pack)</td>\n",
       "      <td>1</td>\n",
       "      <td>2.99</td>\n",
       "      <td>2019-12-31 23:52:00</td>\n",
       "      <td>60 Hickory St, Los Angeles, CA 90001</td>\n",
       "      <td>12</td>\n",
       "      <td>2.99</td>\n",
       "      <td>Los Angeles, CA</td>\n",
       "      <td>23</td>\n",
       "      <td>23:52</td>\n",
       "    </tr>\n",
       "    <tr>\n",
       "      <th>32511</th>\n",
       "      <td>297674</td>\n",
       "      <td>AAA Batteries (4-pack)</td>\n",
       "      <td>1</td>\n",
       "      <td>2.99</td>\n",
       "      <td>2019-12-31 23:53:00</td>\n",
       "      <td>425 Lake St, Portland, OR 97035</td>\n",
       "      <td>12</td>\n",
       "      <td>2.99</td>\n",
       "      <td>Portland, OR</td>\n",
       "      <td>23</td>\n",
       "      <td>23:53</td>\n",
       "    </tr>\n",
       "  </tbody>\n",
       "</table>\n",
       "<p>185950 rows × 11 columns</p>\n",
       "</div>"
      ],
      "text/plain": [
       "      Order ID                   Product  Quantity Ordered  Price Each  \\\n",
       "73891   147268          Wired Headphones                 1       11.99   \n",
       "74701   148041      USB-C Charging Cable                 1       11.95   \n",
       "76054   149343  Apple Airpods Headphones                 1      150.00   \n",
       "76708   149964    AAA Batteries (4-pack)                 1        2.99   \n",
       "76061   149350      USB-C Charging Cable                 2       11.95   \n",
       "...        ...                       ...               ...         ...   \n",
       "33264   298406    AAA Batteries (4-pack)                 2        2.99   \n",
       "32308   297481     AA Batteries (4-pack)                 1        3.84   \n",
       "52781   317048    AAA Batteries (4-pack)                 2        2.99   \n",
       "45172   309773    AAA Batteries (4-pack)                 1        2.99   \n",
       "32511   297674    AAA Batteries (4-pack)                 1        2.99   \n",
       "\n",
       "               Order Date                        Purchase Address  Month  \\\n",
       "73891 2019-01-01 03:07:00      9 Lake St, New York City, NY 10001      1   \n",
       "74701 2019-01-01 03:40:00  760 Church St, San Francisco, CA 94016      1   \n",
       "76054 2019-01-01 04:56:00     735 5th St, New York City, NY 10001      1   \n",
       "76708 2019-01-01 05:53:00         75 Jackson St, Dallas, TX 75001      1   \n",
       "76061 2019-01-01 06:03:00           943 2nd St, Atlanta, GA 30301      1   \n",
       "...                   ...                                     ...    ...   \n",
       "33264 2019-12-31 23:42:00      30 Elm St, San Francisco, CA 94016     12   \n",
       "32308 2019-12-31 23:42:00            82 Hill St, Dallas, TX 75001     12   \n",
       "52781 2019-12-31 23:45:00   743 Adams St, San Francisco, CA 94016     12   \n",
       "45172 2019-12-31 23:52:00    60 Hickory St, Los Angeles, CA 90001     12   \n",
       "32511 2019-12-31 23:53:00         425 Lake St, Portland, OR 97035     12   \n",
       "\n",
       "        Total                City Order Time     hm  \n",
       "73891   11.99   New York City, NY         03  03:07  \n",
       "74701   11.95   San Francisco, CA         03  03:40  \n",
       "76054  150.00   New York City, NY         04  04:56  \n",
       "76708    2.99          Dallas, TX         05  05:53  \n",
       "76061   23.90         Atlanta, GA         06  06:03  \n",
       "...       ...                 ...        ...    ...  \n",
       "33264    5.98   San Francisco, CA         23  23:42  \n",
       "32308    3.84          Dallas, TX         23  23:42  \n",
       "52781    5.98   San Francisco, CA         23  23:45  \n",
       "45172    2.99     Los Angeles, CA         23  23:52  \n",
       "32511    2.99        Portland, OR         23  23:53  \n",
       "\n",
       "[185950 rows x 11 columns]"
      ]
     },
     "execution_count": 30,
     "metadata": {},
     "output_type": "execute_result"
    }
   ],
   "source": [
    "all_data"
   ]
  },
  {
   "cell_type": "code",
   "execution_count": 40,
   "metadata": {},
   "outputs": [
    {
     "data": {
      "text/html": [
       "<div>\n",
       "<style scoped>\n",
       "    .dataframe tbody tr th:only-of-type {\n",
       "        vertical-align: middle;\n",
       "    }\n",
       "\n",
       "    .dataframe tbody tr th {\n",
       "        vertical-align: top;\n",
       "    }\n",
       "\n",
       "    .dataframe thead th {\n",
       "        text-align: right;\n",
       "    }\n",
       "</style>\n",
       "<table border=\"1\" class=\"dataframe\">\n",
       "  <thead>\n",
       "    <tr style=\"text-align: right;\">\n",
       "      <th></th>\n",
       "      <th>Product</th>\n",
       "      <th>Quantity Ordered</th>\n",
       "    </tr>\n",
       "  </thead>\n",
       "  <tbody>\n",
       "    <tr>\n",
       "      <th>5</th>\n",
       "      <td>AAA Batteries (4-pack)</td>\n",
       "      <td>31017</td>\n",
       "    </tr>\n",
       "    <tr>\n",
       "      <th>4</th>\n",
       "      <td>AA Batteries (4-pack)</td>\n",
       "      <td>27635</td>\n",
       "    </tr>\n",
       "    <tr>\n",
       "      <th>15</th>\n",
       "      <td>USB-C Charging Cable</td>\n",
       "      <td>23975</td>\n",
       "    </tr>\n",
       "    <tr>\n",
       "      <th>12</th>\n",
       "      <td>Lightning Charging Cable</td>\n",
       "      <td>23217</td>\n",
       "    </tr>\n",
       "    <tr>\n",
       "      <th>17</th>\n",
       "      <td>Wired Headphones</td>\n",
       "      <td>20557</td>\n",
       "    </tr>\n",
       "    <tr>\n",
       "      <th>6</th>\n",
       "      <td>Apple Airpods Headphones</td>\n",
       "      <td>15661</td>\n",
       "    </tr>\n",
       "    <tr>\n",
       "      <th>7</th>\n",
       "      <td>Bose SoundSport Headphones</td>\n",
       "      <td>13457</td>\n",
       "    </tr>\n",
       "    <tr>\n",
       "      <th>2</th>\n",
       "      <td>27in FHD Monitor</td>\n",
       "      <td>7550</td>\n",
       "    </tr>\n",
       "    <tr>\n",
       "      <th>18</th>\n",
       "      <td>iPhone</td>\n",
       "      <td>6849</td>\n",
       "    </tr>\n",
       "    <tr>\n",
       "      <th>1</th>\n",
       "      <td>27in 4K Gaming Monitor</td>\n",
       "      <td>6244</td>\n",
       "    </tr>\n",
       "    <tr>\n",
       "      <th>3</th>\n",
       "      <td>34in Ultrawide Monitor</td>\n",
       "      <td>6199</td>\n",
       "    </tr>\n",
       "    <tr>\n",
       "      <th>9</th>\n",
       "      <td>Google Phone</td>\n",
       "      <td>5532</td>\n",
       "    </tr>\n",
       "    <tr>\n",
       "      <th>8</th>\n",
       "      <td>Flatscreen TV</td>\n",
       "      <td>4819</td>\n",
       "    </tr>\n",
       "    <tr>\n",
       "      <th>13</th>\n",
       "      <td>Macbook Pro Laptop</td>\n",
       "      <td>4728</td>\n",
       "    </tr>\n",
       "    <tr>\n",
       "      <th>14</th>\n",
       "      <td>ThinkPad Laptop</td>\n",
       "      <td>4130</td>\n",
       "    </tr>\n",
       "    <tr>\n",
       "      <th>0</th>\n",
       "      <td>20in Monitor</td>\n",
       "      <td>4129</td>\n",
       "    </tr>\n",
       "    <tr>\n",
       "      <th>16</th>\n",
       "      <td>Vareebadd Phone</td>\n",
       "      <td>2068</td>\n",
       "    </tr>\n",
       "    <tr>\n",
       "      <th>11</th>\n",
       "      <td>LG Washing Machine</td>\n",
       "      <td>666</td>\n",
       "    </tr>\n",
       "    <tr>\n",
       "      <th>10</th>\n",
       "      <td>LG Dryer</td>\n",
       "      <td>646</td>\n",
       "    </tr>\n",
       "  </tbody>\n",
       "</table>\n",
       "</div>"
      ],
      "text/plain": [
       "                       Product  Quantity Ordered\n",
       "5       AAA Batteries (4-pack)             31017\n",
       "4        AA Batteries (4-pack)             27635\n",
       "15        USB-C Charging Cable             23975\n",
       "12    Lightning Charging Cable             23217\n",
       "17            Wired Headphones             20557\n",
       "6     Apple Airpods Headphones             15661\n",
       "7   Bose SoundSport Headphones             13457\n",
       "2             27in FHD Monitor              7550\n",
       "18                      iPhone              6849\n",
       "1       27in 4K Gaming Monitor              6244\n",
       "3       34in Ultrawide Monitor              6199\n",
       "9                 Google Phone              5532\n",
       "8                Flatscreen TV              4819\n",
       "13          Macbook Pro Laptop              4728\n",
       "14             ThinkPad Laptop              4130\n",
       "0                 20in Monitor              4129\n",
       "16             Vareebadd Phone              2068\n",
       "11          LG Washing Machine               666\n",
       "10                    LG Dryer               646"
      ]
     },
     "execution_count": 40,
     "metadata": {},
     "output_type": "execute_result"
    }
   ],
   "source": [
    "product_group = all_data.groupby('Product')\n",
    "total_quantity_ordered = product_group['Quantity Ordered'].sum().reset_index()\n",
    "sorted_total_quantity_ordered = total_quantity_ordered.sort_values(by='Quantity Ordered', ascending=False)\n",
    "sorted_total_quantity_ordered"
   ]
  },
  {
   "cell_type": "code",
   "execution_count": 52,
   "metadata": {},
   "outputs": [
    {
     "data": {
      "application/vnd.plotly.v1+json": {
       "config": {
        "plotlyServerURL": "https://plot.ly"
       },
       "data": [
        {
         "alignmentgroup": "True",
         "hovertemplate": "Product=%{x}<br>Quantity Ordered=%{y}<extra></extra>",
         "legendgroup": "",
         "marker": {
          "color": "#636efa",
          "pattern": {
           "shape": ""
          }
         },
         "name": "",
         "offsetgroup": "",
         "orientation": "v",
         "showlegend": false,
         "textposition": "auto",
         "type": "bar",
         "x": [
          "AAA Batteries (4-pack)",
          "AA Batteries (4-pack)",
          "USB-C Charging Cable",
          "Lightning Charging Cable",
          "Wired Headphones",
          "Apple Airpods Headphones",
          "Bose SoundSport Headphones",
          "27in FHD Monitor",
          "iPhone",
          "27in 4K Gaming Monitor",
          "34in Ultrawide Monitor",
          "Google Phone",
          "Flatscreen TV",
          "Macbook Pro Laptop",
          "ThinkPad Laptop",
          "20in Monitor",
          "Vareebadd Phone",
          "LG Washing Machine",
          "LG Dryer"
         ],
         "xaxis": "x",
         "y": [
          31017,
          27635,
          23975,
          23217,
          20557,
          15661,
          13457,
          7550,
          6849,
          6244,
          6199,
          5532,
          4819,
          4728,
          4130,
          4129,
          2068,
          666,
          646
         ],
         "yaxis": "y"
        }
       ],
       "layout": {
        "barmode": "relative",
        "legend": {
         "tracegroupgap": 0
        },
        "template": {
         "data": {
          "bar": [
           {
            "error_x": {
             "color": "#2a3f5f"
            },
            "error_y": {
             "color": "#2a3f5f"
            },
            "marker": {
             "line": {
              "color": "#E5ECF6",
              "width": 0.5
             },
             "pattern": {
              "fillmode": "overlay",
              "size": 10,
              "solidity": 0.2
             }
            },
            "type": "bar"
           }
          ],
          "barpolar": [
           {
            "marker": {
             "line": {
              "color": "#E5ECF6",
              "width": 0.5
             },
             "pattern": {
              "fillmode": "overlay",
              "size": 10,
              "solidity": 0.2
             }
            },
            "type": "barpolar"
           }
          ],
          "carpet": [
           {
            "aaxis": {
             "endlinecolor": "#2a3f5f",
             "gridcolor": "white",
             "linecolor": "white",
             "minorgridcolor": "white",
             "startlinecolor": "#2a3f5f"
            },
            "baxis": {
             "endlinecolor": "#2a3f5f",
             "gridcolor": "white",
             "linecolor": "white",
             "minorgridcolor": "white",
             "startlinecolor": "#2a3f5f"
            },
            "type": "carpet"
           }
          ],
          "choropleth": [
           {
            "colorbar": {
             "outlinewidth": 0,
             "ticks": ""
            },
            "type": "choropleth"
           }
          ],
          "contour": [
           {
            "colorbar": {
             "outlinewidth": 0,
             "ticks": ""
            },
            "colorscale": [
             [
              0,
              "#0d0887"
             ],
             [
              0.1111111111111111,
              "#46039f"
             ],
             [
              0.2222222222222222,
              "#7201a8"
             ],
             [
              0.3333333333333333,
              "#9c179e"
             ],
             [
              0.4444444444444444,
              "#bd3786"
             ],
             [
              0.5555555555555556,
              "#d8576b"
             ],
             [
              0.6666666666666666,
              "#ed7953"
             ],
             [
              0.7777777777777778,
              "#fb9f3a"
             ],
             [
              0.8888888888888888,
              "#fdca26"
             ],
             [
              1,
              "#f0f921"
             ]
            ],
            "type": "contour"
           }
          ],
          "contourcarpet": [
           {
            "colorbar": {
             "outlinewidth": 0,
             "ticks": ""
            },
            "type": "contourcarpet"
           }
          ],
          "heatmap": [
           {
            "colorbar": {
             "outlinewidth": 0,
             "ticks": ""
            },
            "colorscale": [
             [
              0,
              "#0d0887"
             ],
             [
              0.1111111111111111,
              "#46039f"
             ],
             [
              0.2222222222222222,
              "#7201a8"
             ],
             [
              0.3333333333333333,
              "#9c179e"
             ],
             [
              0.4444444444444444,
              "#bd3786"
             ],
             [
              0.5555555555555556,
              "#d8576b"
             ],
             [
              0.6666666666666666,
              "#ed7953"
             ],
             [
              0.7777777777777778,
              "#fb9f3a"
             ],
             [
              0.8888888888888888,
              "#fdca26"
             ],
             [
              1,
              "#f0f921"
             ]
            ],
            "type": "heatmap"
           }
          ],
          "heatmapgl": [
           {
            "colorbar": {
             "outlinewidth": 0,
             "ticks": ""
            },
            "colorscale": [
             [
              0,
              "#0d0887"
             ],
             [
              0.1111111111111111,
              "#46039f"
             ],
             [
              0.2222222222222222,
              "#7201a8"
             ],
             [
              0.3333333333333333,
              "#9c179e"
             ],
             [
              0.4444444444444444,
              "#bd3786"
             ],
             [
              0.5555555555555556,
              "#d8576b"
             ],
             [
              0.6666666666666666,
              "#ed7953"
             ],
             [
              0.7777777777777778,
              "#fb9f3a"
             ],
             [
              0.8888888888888888,
              "#fdca26"
             ],
             [
              1,
              "#f0f921"
             ]
            ],
            "type": "heatmapgl"
           }
          ],
          "histogram": [
           {
            "marker": {
             "pattern": {
              "fillmode": "overlay",
              "size": 10,
              "solidity": 0.2
             }
            },
            "type": "histogram"
           }
          ],
          "histogram2d": [
           {
            "colorbar": {
             "outlinewidth": 0,
             "ticks": ""
            },
            "colorscale": [
             [
              0,
              "#0d0887"
             ],
             [
              0.1111111111111111,
              "#46039f"
             ],
             [
              0.2222222222222222,
              "#7201a8"
             ],
             [
              0.3333333333333333,
              "#9c179e"
             ],
             [
              0.4444444444444444,
              "#bd3786"
             ],
             [
              0.5555555555555556,
              "#d8576b"
             ],
             [
              0.6666666666666666,
              "#ed7953"
             ],
             [
              0.7777777777777778,
              "#fb9f3a"
             ],
             [
              0.8888888888888888,
              "#fdca26"
             ],
             [
              1,
              "#f0f921"
             ]
            ],
            "type": "histogram2d"
           }
          ],
          "histogram2dcontour": [
           {
            "colorbar": {
             "outlinewidth": 0,
             "ticks": ""
            },
            "colorscale": [
             [
              0,
              "#0d0887"
             ],
             [
              0.1111111111111111,
              "#46039f"
             ],
             [
              0.2222222222222222,
              "#7201a8"
             ],
             [
              0.3333333333333333,
              "#9c179e"
             ],
             [
              0.4444444444444444,
              "#bd3786"
             ],
             [
              0.5555555555555556,
              "#d8576b"
             ],
             [
              0.6666666666666666,
              "#ed7953"
             ],
             [
              0.7777777777777778,
              "#fb9f3a"
             ],
             [
              0.8888888888888888,
              "#fdca26"
             ],
             [
              1,
              "#f0f921"
             ]
            ],
            "type": "histogram2dcontour"
           }
          ],
          "mesh3d": [
           {
            "colorbar": {
             "outlinewidth": 0,
             "ticks": ""
            },
            "type": "mesh3d"
           }
          ],
          "parcoords": [
           {
            "line": {
             "colorbar": {
              "outlinewidth": 0,
              "ticks": ""
             }
            },
            "type": "parcoords"
           }
          ],
          "pie": [
           {
            "automargin": true,
            "type": "pie"
           }
          ],
          "scatter": [
           {
            "fillpattern": {
             "fillmode": "overlay",
             "size": 10,
             "solidity": 0.2
            },
            "type": "scatter"
           }
          ],
          "scatter3d": [
           {
            "line": {
             "colorbar": {
              "outlinewidth": 0,
              "ticks": ""
             }
            },
            "marker": {
             "colorbar": {
              "outlinewidth": 0,
              "ticks": ""
             }
            },
            "type": "scatter3d"
           }
          ],
          "scattercarpet": [
           {
            "marker": {
             "colorbar": {
              "outlinewidth": 0,
              "ticks": ""
             }
            },
            "type": "scattercarpet"
           }
          ],
          "scattergeo": [
           {
            "marker": {
             "colorbar": {
              "outlinewidth": 0,
              "ticks": ""
             }
            },
            "type": "scattergeo"
           }
          ],
          "scattergl": [
           {
            "marker": {
             "colorbar": {
              "outlinewidth": 0,
              "ticks": ""
             }
            },
            "type": "scattergl"
           }
          ],
          "scattermapbox": [
           {
            "marker": {
             "colorbar": {
              "outlinewidth": 0,
              "ticks": ""
             }
            },
            "type": "scattermapbox"
           }
          ],
          "scatterpolar": [
           {
            "marker": {
             "colorbar": {
              "outlinewidth": 0,
              "ticks": ""
             }
            },
            "type": "scatterpolar"
           }
          ],
          "scatterpolargl": [
           {
            "marker": {
             "colorbar": {
              "outlinewidth": 0,
              "ticks": ""
             }
            },
            "type": "scatterpolargl"
           }
          ],
          "scatterternary": [
           {
            "marker": {
             "colorbar": {
              "outlinewidth": 0,
              "ticks": ""
             }
            },
            "type": "scatterternary"
           }
          ],
          "surface": [
           {
            "colorbar": {
             "outlinewidth": 0,
             "ticks": ""
            },
            "colorscale": [
             [
              0,
              "#0d0887"
             ],
             [
              0.1111111111111111,
              "#46039f"
             ],
             [
              0.2222222222222222,
              "#7201a8"
             ],
             [
              0.3333333333333333,
              "#9c179e"
             ],
             [
              0.4444444444444444,
              "#bd3786"
             ],
             [
              0.5555555555555556,
              "#d8576b"
             ],
             [
              0.6666666666666666,
              "#ed7953"
             ],
             [
              0.7777777777777778,
              "#fb9f3a"
             ],
             [
              0.8888888888888888,
              "#fdca26"
             ],
             [
              1,
              "#f0f921"
             ]
            ],
            "type": "surface"
           }
          ],
          "table": [
           {
            "cells": {
             "fill": {
              "color": "#EBF0F8"
             },
             "line": {
              "color": "white"
             }
            },
            "header": {
             "fill": {
              "color": "#C8D4E3"
             },
             "line": {
              "color": "white"
             }
            },
            "type": "table"
           }
          ]
         },
         "layout": {
          "annotationdefaults": {
           "arrowcolor": "#2a3f5f",
           "arrowhead": 0,
           "arrowwidth": 1
          },
          "autotypenumbers": "strict",
          "coloraxis": {
           "colorbar": {
            "outlinewidth": 0,
            "ticks": ""
           }
          },
          "colorscale": {
           "diverging": [
            [
             0,
             "#8e0152"
            ],
            [
             0.1,
             "#c51b7d"
            ],
            [
             0.2,
             "#de77ae"
            ],
            [
             0.3,
             "#f1b6da"
            ],
            [
             0.4,
             "#fde0ef"
            ],
            [
             0.5,
             "#f7f7f7"
            ],
            [
             0.6,
             "#e6f5d0"
            ],
            [
             0.7,
             "#b8e186"
            ],
            [
             0.8,
             "#7fbc41"
            ],
            [
             0.9,
             "#4d9221"
            ],
            [
             1,
             "#276419"
            ]
           ],
           "sequential": [
            [
             0,
             "#0d0887"
            ],
            [
             0.1111111111111111,
             "#46039f"
            ],
            [
             0.2222222222222222,
             "#7201a8"
            ],
            [
             0.3333333333333333,
             "#9c179e"
            ],
            [
             0.4444444444444444,
             "#bd3786"
            ],
            [
             0.5555555555555556,
             "#d8576b"
            ],
            [
             0.6666666666666666,
             "#ed7953"
            ],
            [
             0.7777777777777778,
             "#fb9f3a"
            ],
            [
             0.8888888888888888,
             "#fdca26"
            ],
            [
             1,
             "#f0f921"
            ]
           ],
           "sequentialminus": [
            [
             0,
             "#0d0887"
            ],
            [
             0.1111111111111111,
             "#46039f"
            ],
            [
             0.2222222222222222,
             "#7201a8"
            ],
            [
             0.3333333333333333,
             "#9c179e"
            ],
            [
             0.4444444444444444,
             "#bd3786"
            ],
            [
             0.5555555555555556,
             "#d8576b"
            ],
            [
             0.6666666666666666,
             "#ed7953"
            ],
            [
             0.7777777777777778,
             "#fb9f3a"
            ],
            [
             0.8888888888888888,
             "#fdca26"
            ],
            [
             1,
             "#f0f921"
            ]
           ]
          },
          "colorway": [
           "#636efa",
           "#EF553B",
           "#00cc96",
           "#ab63fa",
           "#FFA15A",
           "#19d3f3",
           "#FF6692",
           "#B6E880",
           "#FF97FF",
           "#FECB52"
          ],
          "font": {
           "color": "#2a3f5f"
          },
          "geo": {
           "bgcolor": "white",
           "lakecolor": "white",
           "landcolor": "#E5ECF6",
           "showlakes": true,
           "showland": true,
           "subunitcolor": "white"
          },
          "hoverlabel": {
           "align": "left"
          },
          "hovermode": "closest",
          "mapbox": {
           "style": "light"
          },
          "paper_bgcolor": "white",
          "plot_bgcolor": "#E5ECF6",
          "polar": {
           "angularaxis": {
            "gridcolor": "white",
            "linecolor": "white",
            "ticks": ""
           },
           "bgcolor": "#E5ECF6",
           "radialaxis": {
            "gridcolor": "white",
            "linecolor": "white",
            "ticks": ""
           }
          },
          "scene": {
           "xaxis": {
            "backgroundcolor": "#E5ECF6",
            "gridcolor": "white",
            "gridwidth": 2,
            "linecolor": "white",
            "showbackground": true,
            "ticks": "",
            "zerolinecolor": "white"
           },
           "yaxis": {
            "backgroundcolor": "#E5ECF6",
            "gridcolor": "white",
            "gridwidth": 2,
            "linecolor": "white",
            "showbackground": true,
            "ticks": "",
            "zerolinecolor": "white"
           },
           "zaxis": {
            "backgroundcolor": "#E5ECF6",
            "gridcolor": "white",
            "gridwidth": 2,
            "linecolor": "white",
            "showbackground": true,
            "ticks": "",
            "zerolinecolor": "white"
           }
          },
          "shapedefaults": {
           "line": {
            "color": "#2a3f5f"
           }
          },
          "ternary": {
           "aaxis": {
            "gridcolor": "white",
            "linecolor": "white",
            "ticks": ""
           },
           "baxis": {
            "gridcolor": "white",
            "linecolor": "white",
            "ticks": ""
           },
           "bgcolor": "#E5ECF6",
           "caxis": {
            "gridcolor": "white",
            "linecolor": "white",
            "ticks": ""
           }
          },
          "title": {
           "x": 0.05
          },
          "xaxis": {
           "automargin": true,
           "gridcolor": "white",
           "linecolor": "white",
           "ticks": "",
           "title": {
            "standoff": 15
           },
           "zerolinecolor": "white",
           "zerolinewidth": 2
          },
          "yaxis": {
           "automargin": true,
           "gridcolor": "white",
           "linecolor": "white",
           "ticks": "",
           "title": {
            "standoff": 15
           },
           "zerolinecolor": "white",
           "zerolinewidth": 2
          }
         }
        },
        "title": {
         "text": "Total Quantity Ordered per Product"
        },
        "xaxis": {
         "anchor": "y",
         "domain": [
          0,
          1
         ],
         "title": {
          "text": "Product"
         }
        },
        "yaxis": {
         "anchor": "x",
         "domain": [
          0,
          1
         ],
         "title": {
          "text": "Quantity Ordered"
         }
        }
       }
      }
     },
     "metadata": {},
     "output_type": "display_data"
    }
   ],
   "source": [
    "fig = px.bar(sorted_total_quantity_ordered, x='Product', y='Quantity Ordered', title='Total Quantity Ordered per Product')\n",
    "fig.show()"
   ]
  },
  {
   "cell_type": "code",
   "execution_count": 66,
   "metadata": {},
   "outputs": [
    {
     "data": {
      "image/png": "[encoded data removed]",
      "text/plain": [
       "<Figure size 3000x1000 with 1 Axes>"
      ]
     },
     "metadata": {},
     "output_type": "display_data"
    }
   ],
   "source": [
    "plt.figure(figsize=(30,10))\n",
    "plt.bar(sorted_total_quantity_ordered['Product'], sorted_total_quantity_ordered['Quantity Ordered'])\n",
    "plt.xticks(rotation=45, size=12) \n",
    "\n",
    "plt.show()"
   ]
  },
  {
   "cell_type": "code",
   "execution_count": null,
   "metadata": {},
   "outputs": [],
   "source": []
  },
  {
   "cell_type": "code",
   "execution_count": 70,
   "metadata": {},
   "outputs": [
    {
     "data": {
      "image/png": "[encoded data removed]",
      "text/plain": [
       "<Figure size 3000x1000 with 1 Axes>"
      ]
     },
     "metadata": {},
     "output_type": "display_data"
    }
   ],
   "source": [
    "prices = all_data.groupby('Product')['Price Each'].mean().reset_index()\n",
    "\n",
    "plt.figure(figsize=(30,10))\n",
    "plt.bar(prices['Product'], prices['Price Each'])\n",
    "plt.xticks(rotation=45, size=12) \n",
    "plt.show()\n"
   ]
  },
  {
   "cell_type": "code",
   "execution_count": null,
   "metadata": {},
   "outputs": [],
   "source": []
  }
 ],
 "metadata": {
  "kernelspec": {
   "display_name": "Python 3",
   "language": "python",
   "name": "python3"
  },
  "language_info": {
   "codemirror_mode": {
    "name": "ipython",
    "version": 3
   },
   "file_extension": ".py",
   "mimetype": "text/x-python",
   "name": "python",
   "nbconvert_exporter": "python",
   "pygments_lexer": "ipython3",
   "version": "3.11.8"
  }
 },
 "nbformat": 4,
 "nbformat_minor": 2
}
